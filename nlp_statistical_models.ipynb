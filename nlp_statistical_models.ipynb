{
 "nbformat": 4,
 "nbformat_minor": 0,
 "metadata": {
  "colab": {
   "provenance": [],
   "toc_visible": true,
   "authorship_tag": "ABX9TyPNAOpRIOHIZrCSPiORfJKA"
  },
  "kernelspec": {
   "name": "python3",
   "language": "python",
   "display_name": "Python 3 (ipykernel)"
  },
  "language_info": {
   "name": "python"
  },
  "widgets": {
   "application/vnd.jupyter.widget-state+json": {
    "4e0b4e49d9b64c7d872ce1c7889f0966": {
     "model_module": "@jupyter-widgets/controls",
     "model_name": "HBoxModel",
     "model_module_version": "1.5.0",
     "state": {
      "_dom_classes": [],
      "_model_module": "@jupyter-widgets/controls",
      "_model_module_version": "1.5.0",
      "_model_name": "HBoxModel",
      "_view_count": null,
      "_view_module": "@jupyter-widgets/controls",
      "_view_module_version": "1.5.0",
      "_view_name": "HBoxView",
      "box_style": "",
      "children": [
       "IPY_MODEL_6e1e6a9cbcff44bbb2a440f70a392212",
       "IPY_MODEL_0504046844044cbd88336996e86ddc3d",
       "IPY_MODEL_76966ce0fac542999c0b0117f073ae96"
      ],
      "layout": "IPY_MODEL_e8d5d97a71f54151b76de894886a4c97"
     }
    },
    "6e1e6a9cbcff44bbb2a440f70a392212": {
     "model_module": "@jupyter-widgets/controls",
     "model_name": "HTMLModel",
     "model_module_version": "1.5.0",
     "state": {
      "_dom_classes": [],
      "_model_module": "@jupyter-widgets/controls",
      "_model_module_version": "1.5.0",
      "_model_name": "HTMLModel",
      "_view_count": null,
      "_view_module": "@jupyter-widgets/controls",
      "_view_module_version": "1.5.0",
      "_view_name": "HTMLView",
      "description": "",
      "description_tooltip": null,
      "layout": "IPY_MODEL_1fb6eb8e8cd04109ac57dcf0d9aa70d3",
      "placeholder": "​",
      "style": "IPY_MODEL_696f01dfed87499994a0d07776fbac96",
      "value": "tokenizer_config.json: 100%"
     }
    },
    "0504046844044cbd88336996e86ddc3d": {
     "model_module": "@jupyter-widgets/controls",
     "model_name": "FloatProgressModel",
     "model_module_version": "1.5.0",
     "state": {
      "_dom_classes": [],
      "_model_module": "@jupyter-widgets/controls",
      "_model_module_version": "1.5.0",
      "_model_name": "FloatProgressModel",
      "_view_count": null,
      "_view_module": "@jupyter-widgets/controls",
      "_view_module_version": "1.5.0",
      "_view_name": "ProgressView",
      "bar_style": "success",
      "description": "",
      "description_tooltip": null,
      "layout": "IPY_MODEL_db32fc7eb34245acb9b80d6ae74d22bd",
      "max": 44,
      "min": 0,
      "orientation": "horizontal",
      "style": "IPY_MODEL_df4646e90c22446e8e1e38c6018799c8",
      "value": 44
     }
    },
    "76966ce0fac542999c0b0117f073ae96": {
     "model_module": "@jupyter-widgets/controls",
     "model_name": "HTMLModel",
     "model_module_version": "1.5.0",
     "state": {
      "_dom_classes": [],
      "_model_module": "@jupyter-widgets/controls",
      "_model_module_version": "1.5.0",
      "_model_name": "HTMLModel",
      "_view_count": null,
      "_view_module": "@jupyter-widgets/controls",
      "_view_module_version": "1.5.0",
      "_view_name": "HTMLView",
      "description": "",
      "description_tooltip": null,
      "layout": "IPY_MODEL_135379ae81a749918a5c180d754b63ac",
      "placeholder": "​",
      "style": "IPY_MODEL_f10c668c1c574bb1874fae6c47995cd3",
      "value": " 44.0/44.0 [00:00&lt;00:00, 2.80kB/s]"
     }
    },
    "e8d5d97a71f54151b76de894886a4c97": {
     "model_module": "@jupyter-widgets/base",
     "model_name": "LayoutModel",
     "model_module_version": "1.2.0",
     "state": {
      "_model_module": "@jupyter-widgets/base",
      "_model_module_version": "1.2.0",
      "_model_name": "LayoutModel",
      "_view_count": null,
      "_view_module": "@jupyter-widgets/base",
      "_view_module_version": "1.2.0",
      "_view_name": "LayoutView",
      "align_content": null,
      "align_items": null,
      "align_self": null,
      "border": null,
      "bottom": null,
      "display": null,
      "flex": null,
      "flex_flow": null,
      "grid_area": null,
      "grid_auto_columns": null,
      "grid_auto_flow": null,
      "grid_auto_rows": null,
      "grid_column": null,
      "grid_gap": null,
      "grid_row": null,
      "grid_template_areas": null,
      "grid_template_columns": null,
      "grid_template_rows": null,
      "height": null,
      "justify_content": null,
      "justify_items": null,
      "left": null,
      "margin": null,
      "max_height": null,
      "max_width": null,
      "min_height": null,
      "min_width": null,
      "object_fit": null,
      "object_position": null,
      "order": null,
      "overflow": null,
      "overflow_x": null,
      "overflow_y": null,
      "padding": null,
      "right": null,
      "top": null,
      "visibility": null,
      "width": null
     }
    },
    "1fb6eb8e8cd04109ac57dcf0d9aa70d3": {
     "model_module": "@jupyter-widgets/base",
     "model_name": "LayoutModel",
     "model_module_version": "1.2.0",
     "state": {
      "_model_module": "@jupyter-widgets/base",
      "_model_module_version": "1.2.0",
      "_model_name": "LayoutModel",
      "_view_count": null,
      "_view_module": "@jupyter-widgets/base",
      "_view_module_version": "1.2.0",
      "_view_name": "LayoutView",
      "align_content": null,
      "align_items": null,
      "align_self": null,
      "border": null,
      "bottom": null,
      "display": null,
      "flex": null,
      "flex_flow": null,
      "grid_area": null,
      "grid_auto_columns": null,
      "grid_auto_flow": null,
      "grid_auto_rows": null,
      "grid_column": null,
      "grid_gap": null,
      "grid_row": null,
      "grid_template_areas": null,
      "grid_template_columns": null,
      "grid_template_rows": null,
      "height": null,
      "justify_content": null,
      "justify_items": null,
      "left": null,
      "margin": null,
      "max_height": null,
      "max_width": null,
      "min_height": null,
      "min_width": null,
      "object_fit": null,
      "object_position": null,
      "order": null,
      "overflow": null,
      "overflow_x": null,
      "overflow_y": null,
      "padding": null,
      "right": null,
      "top": null,
      "visibility": null,
      "width": null
     }
    },
    "696f01dfed87499994a0d07776fbac96": {
     "model_module": "@jupyter-widgets/controls",
     "model_name": "DescriptionStyleModel",
     "model_module_version": "1.5.0",
     "state": {
      "_model_module": "@jupyter-widgets/controls",
      "_model_module_version": "1.5.0",
      "_model_name": "DescriptionStyleModel",
      "_view_count": null,
      "_view_module": "@jupyter-widgets/base",
      "_view_module_version": "1.2.0",
      "_view_name": "StyleView",
      "description_width": ""
     }
    },
    "db32fc7eb34245acb9b80d6ae74d22bd": {
     "model_module": "@jupyter-widgets/base",
     "model_name": "LayoutModel",
     "model_module_version": "1.2.0",
     "state": {
      "_model_module": "@jupyter-widgets/base",
      "_model_module_version": "1.2.0",
      "_model_name": "LayoutModel",
      "_view_count": null,
      "_view_module": "@jupyter-widgets/base",
      "_view_module_version": "1.2.0",
      "_view_name": "LayoutView",
      "align_content": null,
      "align_items": null,
      "align_self": null,
      "border": null,
      "bottom": null,
      "display": null,
      "flex": null,
      "flex_flow": null,
      "grid_area": null,
      "grid_auto_columns": null,
      "grid_auto_flow": null,
      "grid_auto_rows": null,
      "grid_column": null,
      "grid_gap": null,
      "grid_row": null,
      "grid_template_areas": null,
      "grid_template_columns": null,
      "grid_template_rows": null,
      "height": null,
      "justify_content": null,
      "justify_items": null,
      "left": null,
      "margin": null,
      "max_height": null,
      "max_width": null,
      "min_height": null,
      "min_width": null,
      "object_fit": null,
      "object_position": null,
      "order": null,
      "overflow": null,
      "overflow_x": null,
      "overflow_y": null,
      "padding": null,
      "right": null,
      "top": null,
      "visibility": null,
      "width": null
     }
    },
    "df4646e90c22446e8e1e38c6018799c8": {
     "model_module": "@jupyter-widgets/controls",
     "model_name": "ProgressStyleModel",
     "model_module_version": "1.5.0",
     "state": {
      "_model_module": "@jupyter-widgets/controls",
      "_model_module_version": "1.5.0",
      "_model_name": "ProgressStyleModel",
      "_view_count": null,
      "_view_module": "@jupyter-widgets/base",
      "_view_module_version": "1.2.0",
      "_view_name": "StyleView",
      "bar_color": null,
      "description_width": ""
     }
    },
    "135379ae81a749918a5c180d754b63ac": {
     "model_module": "@jupyter-widgets/base",
     "model_name": "LayoutModel",
     "model_module_version": "1.2.0",
     "state": {
      "_model_module": "@jupyter-widgets/base",
      "_model_module_version": "1.2.0",
      "_model_name": "LayoutModel",
      "_view_count": null,
      "_view_module": "@jupyter-widgets/base",
      "_view_module_version": "1.2.0",
      "_view_name": "LayoutView",
      "align_content": null,
      "align_items": null,
      "align_self": null,
      "border": null,
      "bottom": null,
      "display": null,
      "flex": null,
      "flex_flow": null,
      "grid_area": null,
      "grid_auto_columns": null,
      "grid_auto_flow": null,
      "grid_auto_rows": null,
      "grid_column": null,
      "grid_gap": null,
      "grid_row": null,
      "grid_template_areas": null,
      "grid_template_columns": null,
      "grid_template_rows": null,
      "height": null,
      "justify_content": null,
      "justify_items": null,
      "left": null,
      "margin": null,
      "max_height": null,
      "max_width": null,
      "min_height": null,
      "min_width": null,
      "object_fit": null,
      "object_position": null,
      "order": null,
      "overflow": null,
      "overflow_x": null,
      "overflow_y": null,
      "padding": null,
      "right": null,
      "top": null,
      "visibility": null,
      "width": null
     }
    },
    "f10c668c1c574bb1874fae6c47995cd3": {
     "model_module": "@jupyter-widgets/controls",
     "model_name": "DescriptionStyleModel",
     "model_module_version": "1.5.0",
     "state": {
      "_model_module": "@jupyter-widgets/controls",
      "_model_module_version": "1.5.0",
      "_model_name": "DescriptionStyleModel",
      "_view_count": null,
      "_view_module": "@jupyter-widgets/base",
      "_view_module_version": "1.2.0",
      "_view_name": "StyleView",
      "description_width": ""
     }
    },
    "8dfee3eabda7471a9d16f0254cad72b7": {
     "model_module": "@jupyter-widgets/controls",
     "model_name": "HBoxModel",
     "model_module_version": "1.5.0",
     "state": {
      "_dom_classes": [],
      "_model_module": "@jupyter-widgets/controls",
      "_model_module_version": "1.5.0",
      "_model_name": "HBoxModel",
      "_view_count": null,
      "_view_module": "@jupyter-widgets/controls",
      "_view_module_version": "1.5.0",
      "_view_name": "HBoxView",
      "box_style": "",
      "children": [
       "IPY_MODEL_d17c1077478546639d94eefda6158895",
       "IPY_MODEL_88cb52b55f68493aa024a97398450d07",
       "IPY_MODEL_752543ce545c40c5b6d230fcacc7439f"
      ],
      "layout": "IPY_MODEL_d06de3b668ca4974ba5d90e5b6191aad"
     }
    },
    "d17c1077478546639d94eefda6158895": {
     "model_module": "@jupyter-widgets/controls",
     "model_name": "HTMLModel",
     "model_module_version": "1.5.0",
     "state": {
      "_dom_classes": [],
      "_model_module": "@jupyter-widgets/controls",
      "_model_module_version": "1.5.0",
      "_model_name": "HTMLModel",
      "_view_count": null,
      "_view_module": "@jupyter-widgets/controls",
      "_view_module_version": "1.5.0",
      "_view_name": "HTMLView",
      "description": "",
      "description_tooltip": null,
      "layout": "IPY_MODEL_b0c040b0b0b84951a9ebaddb349687b5",
      "placeholder": "​",
      "style": "IPY_MODEL_918cc55dd9444dbeb10340ae715e4f5f",
      "value": "source.spm: 100%"
     }
    },
    "88cb52b55f68493aa024a97398450d07": {
     "model_module": "@jupyter-widgets/controls",
     "model_name": "FloatProgressModel",
     "model_module_version": "1.5.0",
     "state": {
      "_dom_classes": [],
      "_model_module": "@jupyter-widgets/controls",
      "_model_module_version": "1.5.0",
      "_model_name": "FloatProgressModel",
      "_view_count": null,
      "_view_module": "@jupyter-widgets/controls",
      "_view_module_version": "1.5.0",
      "_view_name": "ProgressView",
      "bar_style": "success",
      "description": "",
      "description_tooltip": null,
      "layout": "IPY_MODEL_415ad40370b64d8dbdaa2f8c58782211",
      "max": 1049819,
      "min": 0,
      "orientation": "horizontal",
      "style": "IPY_MODEL_bc9f0385943b44e892d992de6249afd8",
      "value": 1049819
     }
    },
    "752543ce545c40c5b6d230fcacc7439f": {
     "model_module": "@jupyter-widgets/controls",
     "model_name": "HTMLModel",
     "model_module_version": "1.5.0",
     "state": {
      "_dom_classes": [],
      "_model_module": "@jupyter-widgets/controls",
      "_model_module_version": "1.5.0",
      "_model_name": "HTMLModel",
      "_view_count": null,
      "_view_module": "@jupyter-widgets/controls",
      "_view_module_version": "1.5.0",
      "_view_name": "HTMLView",
      "description": "",
      "description_tooltip": null,
      "layout": "IPY_MODEL_4cd51b060aed4d3fb67e410b59f1ba3c",
      "placeholder": "​",
      "style": "IPY_MODEL_39c4bcf9837e48569cd6832dcad529e3",
      "value": " 1.05M/1.05M [00:00&lt;00:00, 4.01MB/s]"
     }
    },
    "d06de3b668ca4974ba5d90e5b6191aad": {
     "model_module": "@jupyter-widgets/base",
     "model_name": "LayoutModel",
     "model_module_version": "1.2.0",
     "state": {
      "_model_module": "@jupyter-widgets/base",
      "_model_module_version": "1.2.0",
      "_model_name": "LayoutModel",
      "_view_count": null,
      "_view_module": "@jupyter-widgets/base",
      "_view_module_version": "1.2.0",
      "_view_name": "LayoutView",
      "align_content": null,
      "align_items": null,
      "align_self": null,
      "border": null,
      "bottom": null,
      "display": null,
      "flex": null,
      "flex_flow": null,
      "grid_area": null,
      "grid_auto_columns": null,
      "grid_auto_flow": null,
      "grid_auto_rows": null,
      "grid_column": null,
      "grid_gap": null,
      "grid_row": null,
      "grid_template_areas": null,
      "grid_template_columns": null,
      "grid_template_rows": null,
      "height": null,
      "justify_content": null,
      "justify_items": null,
      "left": null,
      "margin": null,
      "max_height": null,
      "max_width": null,
      "min_height": null,
      "min_width": null,
      "object_fit": null,
      "object_position": null,
      "order": null,
      "overflow": null,
      "overflow_x": null,
      "overflow_y": null,
      "padding": null,
      "right": null,
      "top": null,
      "visibility": null,
      "width": null
     }
    },
    "b0c040b0b0b84951a9ebaddb349687b5": {
     "model_module": "@jupyter-widgets/base",
     "model_name": "LayoutModel",
     "model_module_version": "1.2.0",
     "state": {
      "_model_module": "@jupyter-widgets/base",
      "_model_module_version": "1.2.0",
      "_model_name": "LayoutModel",
      "_view_count": null,
      "_view_module": "@jupyter-widgets/base",
      "_view_module_version": "1.2.0",
      "_view_name": "LayoutView",
      "align_content": null,
      "align_items": null,
      "align_self": null,
      "border": null,
      "bottom": null,
      "display": null,
      "flex": null,
      "flex_flow": null,
      "grid_area": null,
      "grid_auto_columns": null,
      "grid_auto_flow": null,
      "grid_auto_rows": null,
      "grid_column": null,
      "grid_gap": null,
      "grid_row": null,
      "grid_template_areas": null,
      "grid_template_columns": null,
      "grid_template_rows": null,
      "height": null,
      "justify_content": null,
      "justify_items": null,
      "left": null,
      "margin": null,
      "max_height": null,
      "max_width": null,
      "min_height": null,
      "min_width": null,
      "object_fit": null,
      "object_position": null,
      "order": null,
      "overflow": null,
      "overflow_x": null,
      "overflow_y": null,
      "padding": null,
      "right": null,
      "top": null,
      "visibility": null,
      "width": null
     }
    },
    "918cc55dd9444dbeb10340ae715e4f5f": {
     "model_module": "@jupyter-widgets/controls",
     "model_name": "DescriptionStyleModel",
     "model_module_version": "1.5.0",
     "state": {
      "_model_module": "@jupyter-widgets/controls",
      "_model_module_version": "1.5.0",
      "_model_name": "DescriptionStyleModel",
      "_view_count": null,
      "_view_module": "@jupyter-widgets/base",
      "_view_module_version": "1.2.0",
      "_view_name": "StyleView",
      "description_width": ""
     }
    },
    "415ad40370b64d8dbdaa2f8c58782211": {
     "model_module": "@jupyter-widgets/base",
     "model_name": "LayoutModel",
     "model_module_version": "1.2.0",
     "state": {
      "_model_module": "@jupyter-widgets/base",
      "_model_module_version": "1.2.0",
      "_model_name": "LayoutModel",
      "_view_count": null,
      "_view_module": "@jupyter-widgets/base",
      "_view_module_version": "1.2.0",
      "_view_name": "LayoutView",
      "align_content": null,
      "align_items": null,
      "align_self": null,
      "border": null,
      "bottom": null,
      "display": null,
      "flex": null,
      "flex_flow": null,
      "grid_area": null,
      "grid_auto_columns": null,
      "grid_auto_flow": null,
      "grid_auto_rows": null,
      "grid_column": null,
      "grid_gap": null,
      "grid_row": null,
      "grid_template_areas": null,
      "grid_template_columns": null,
      "grid_template_rows": null,
      "height": null,
      "justify_content": null,
      "justify_items": null,
      "left": null,
      "margin": null,
      "max_height": null,
      "max_width": null,
      "min_height": null,
      "min_width": null,
      "object_fit": null,
      "object_position": null,
      "order": null,
      "overflow": null,
      "overflow_x": null,
      "overflow_y": null,
      "padding": null,
      "right": null,
      "top": null,
      "visibility": null,
      "width": null
     }
    },
    "bc9f0385943b44e892d992de6249afd8": {
     "model_module": "@jupyter-widgets/controls",
     "model_name": "ProgressStyleModel",
     "model_module_version": "1.5.0",
     "state": {
      "_model_module": "@jupyter-widgets/controls",
      "_model_module_version": "1.5.0",
      "_model_name": "ProgressStyleModel",
      "_view_count": null,
      "_view_module": "@jupyter-widgets/base",
      "_view_module_version": "1.2.0",
      "_view_name": "StyleView",
      "bar_color": null,
      "description_width": ""
     }
    },
    "4cd51b060aed4d3fb67e410b59f1ba3c": {
     "model_module": "@jupyter-widgets/base",
     "model_name": "LayoutModel",
     "model_module_version": "1.2.0",
     "state": {
      "_model_module": "@jupyter-widgets/base",
      "_model_module_version": "1.2.0",
      "_model_name": "LayoutModel",
      "_view_count": null,
      "_view_module": "@jupyter-widgets/base",
      "_view_module_version": "1.2.0",
      "_view_name": "LayoutView",
      "align_content": null,
      "align_items": null,
      "align_self": null,
      "border": null,
      "bottom": null,
      "display": null,
      "flex": null,
      "flex_flow": null,
      "grid_area": null,
      "grid_auto_columns": null,
      "grid_auto_flow": null,
      "grid_auto_rows": null,
      "grid_column": null,
      "grid_gap": null,
      "grid_row": null,
      "grid_template_areas": null,
      "grid_template_columns": null,
      "grid_template_rows": null,
      "height": null,
      "justify_content": null,
      "justify_items": null,
      "left": null,
      "margin": null,
      "max_height": null,
      "max_width": null,
      "min_height": null,
      "min_width": null,
      "object_fit": null,
      "object_position": null,
      "order": null,
      "overflow": null,
      "overflow_x": null,
      "overflow_y": null,
      "padding": null,
      "right": null,
      "top": null,
      "visibility": null,
      "width": null
     }
    },
    "39c4bcf9837e48569cd6832dcad529e3": {
     "model_module": "@jupyter-widgets/controls",
     "model_name": "DescriptionStyleModel",
     "model_module_version": "1.5.0",
     "state": {
      "_model_module": "@jupyter-widgets/controls",
      "_model_module_version": "1.5.0",
      "_model_name": "DescriptionStyleModel",
      "_view_count": null,
      "_view_module": "@jupyter-widgets/base",
      "_view_module_version": "1.2.0",
      "_view_name": "StyleView",
      "description_width": ""
     }
    },
    "41281b7928dc4699a8af65b76c0a588b": {
     "model_module": "@jupyter-widgets/controls",
     "model_name": "HBoxModel",
     "model_module_version": "1.5.0",
     "state": {
      "_dom_classes": [],
      "_model_module": "@jupyter-widgets/controls",
      "_model_module_version": "1.5.0",
      "_model_name": "HBoxModel",
      "_view_count": null,
      "_view_module": "@jupyter-widgets/controls",
      "_view_module_version": "1.5.0",
      "_view_name": "HBoxView",
      "box_style": "",
      "children": [
       "IPY_MODEL_2b869d9611b141f9b3a17f658b3904ac",
       "IPY_MODEL_5b3840de83354a87a2243cc5bf34c619",
       "IPY_MODEL_09076eb98a6d4666928bbce97ae7a884"
      ],
      "layout": "IPY_MODEL_9c7f5d9604ef41e59565bba363012a82"
     }
    },
    "2b869d9611b141f9b3a17f658b3904ac": {
     "model_module": "@jupyter-widgets/controls",
     "model_name": "HTMLModel",
     "model_module_version": "1.5.0",
     "state": {
      "_dom_classes": [],
      "_model_module": "@jupyter-widgets/controls",
      "_model_module_version": "1.5.0",
      "_model_name": "HTMLModel",
      "_view_count": null,
      "_view_module": "@jupyter-widgets/controls",
      "_view_module_version": "1.5.0",
      "_view_name": "HTMLView",
      "description": "",
      "description_tooltip": null,
      "layout": "IPY_MODEL_991f6df7f75445078741cf89aa226d85",
      "placeholder": "​",
      "style": "IPY_MODEL_118307a96dfa48e98742e9b57348f51a",
      "value": "target.spm: 100%"
     }
    },
    "5b3840de83354a87a2243cc5bf34c619": {
     "model_module": "@jupyter-widgets/controls",
     "model_name": "FloatProgressModel",
     "model_module_version": "1.5.0",
     "state": {
      "_dom_classes": [],
      "_model_module": "@jupyter-widgets/controls",
      "_model_module_version": "1.5.0",
      "_model_name": "FloatProgressModel",
      "_view_count": null,
      "_view_module": "@jupyter-widgets/controls",
      "_view_module_version": "1.5.0",
      "_view_name": "ProgressView",
      "bar_style": "success",
      "description": "",
      "description_tooltip": null,
      "layout": "IPY_MODEL_5f69f266dfe8495dbd485eab7a5183b7",
      "max": 1031670,
      "min": 0,
      "orientation": "horizontal",
      "style": "IPY_MODEL_8658f49cc54345ac8ea86de52a74d781",
      "value": 1031670
     }
    },
    "09076eb98a6d4666928bbce97ae7a884": {
     "model_module": "@jupyter-widgets/controls",
     "model_name": "HTMLModel",
     "model_module_version": "1.5.0",
     "state": {
      "_dom_classes": [],
      "_model_module": "@jupyter-widgets/controls",
      "_model_module_version": "1.5.0",
      "_model_name": "HTMLModel",
      "_view_count": null,
      "_view_module": "@jupyter-widgets/controls",
      "_view_module_version": "1.5.0",
      "_view_name": "HTMLView",
      "description": "",
      "description_tooltip": null,
      "layout": "IPY_MODEL_676f1b1304944dd2ad30fe0947ac2aa9",
      "placeholder": "​",
      "style": "IPY_MODEL_7cee4794f2a24e9db749a5bac5747e4c",
      "value": " 1.03M/1.03M [00:00&lt;00:00, 3.90MB/s]"
     }
    },
    "9c7f5d9604ef41e59565bba363012a82": {
     "model_module": "@jupyter-widgets/base",
     "model_name": "LayoutModel",
     "model_module_version": "1.2.0",
     "state": {
      "_model_module": "@jupyter-widgets/base",
      "_model_module_version": "1.2.0",
      "_model_name": "LayoutModel",
      "_view_count": null,
      "_view_module": "@jupyter-widgets/base",
      "_view_module_version": "1.2.0",
      "_view_name": "LayoutView",
      "align_content": null,
      "align_items": null,
      "align_self": null,
      "border": null,
      "bottom": null,
      "display": null,
      "flex": null,
      "flex_flow": null,
      "grid_area": null,
      "grid_auto_columns": null,
      "grid_auto_flow": null,
      "grid_auto_rows": null,
      "grid_column": null,
      "grid_gap": null,
      "grid_row": null,
      "grid_template_areas": null,
      "grid_template_columns": null,
      "grid_template_rows": null,
      "height": null,
      "justify_content": null,
      "justify_items": null,
      "left": null,
      "margin": null,
      "max_height": null,
      "max_width": null,
      "min_height": null,
      "min_width": null,
      "object_fit": null,
      "object_position": null,
      "order": null,
      "overflow": null,
      "overflow_x": null,
      "overflow_y": null,
      "padding": null,
      "right": null,
      "top": null,
      "visibility": null,
      "width": null
     }
    },
    "991f6df7f75445078741cf89aa226d85": {
     "model_module": "@jupyter-widgets/base",
     "model_name": "LayoutModel",
     "model_module_version": "1.2.0",
     "state": {
      "_model_module": "@jupyter-widgets/base",
      "_model_module_version": "1.2.0",
      "_model_name": "LayoutModel",
      "_view_count": null,
      "_view_module": "@jupyter-widgets/base",
      "_view_module_version": "1.2.0",
      "_view_name": "LayoutView",
      "align_content": null,
      "align_items": null,
      "align_self": null,
      "border": null,
      "bottom": null,
      "display": null,
      "flex": null,
      "flex_flow": null,
      "grid_area": null,
      "grid_auto_columns": null,
      "grid_auto_flow": null,
      "grid_auto_rows": null,
      "grid_column": null,
      "grid_gap": null,
      "grid_row": null,
      "grid_template_areas": null,
      "grid_template_columns": null,
      "grid_template_rows": null,
      "height": null,
      "justify_content": null,
      "justify_items": null,
      "left": null,
      "margin": null,
      "max_height": null,
      "max_width": null,
      "min_height": null,
      "min_width": null,
      "object_fit": null,
      "object_position": null,
      "order": null,
      "overflow": null,
      "overflow_x": null,
      "overflow_y": null,
      "padding": null,
      "right": null,
      "top": null,
      "visibility": null,
      "width": null
     }
    },
    "118307a96dfa48e98742e9b57348f51a": {
     "model_module": "@jupyter-widgets/controls",
     "model_name": "DescriptionStyleModel",
     "model_module_version": "1.5.0",
     "state": {
      "_model_module": "@jupyter-widgets/controls",
      "_model_module_version": "1.5.0",
      "_model_name": "DescriptionStyleModel",
      "_view_count": null,
      "_view_module": "@jupyter-widgets/base",
      "_view_module_version": "1.2.0",
      "_view_name": "StyleView",
      "description_width": ""
     }
    },
    "5f69f266dfe8495dbd485eab7a5183b7": {
     "model_module": "@jupyter-widgets/base",
     "model_name": "LayoutModel",
     "model_module_version": "1.2.0",
     "state": {
      "_model_module": "@jupyter-widgets/base",
      "_model_module_version": "1.2.0",
      "_model_name": "LayoutModel",
      "_view_count": null,
      "_view_module": "@jupyter-widgets/base",
      "_view_module_version": "1.2.0",
      "_view_name": "LayoutView",
      "align_content": null,
      "align_items": null,
      "align_self": null,
      "border": null,
      "bottom": null,
      "display": null,
      "flex": null,
      "flex_flow": null,
      "grid_area": null,
      "grid_auto_columns": null,
      "grid_auto_flow": null,
      "grid_auto_rows": null,
      "grid_column": null,
      "grid_gap": null,
      "grid_row": null,
      "grid_template_areas": null,
      "grid_template_columns": null,
      "grid_template_rows": null,
      "height": null,
      "justify_content": null,
      "justify_items": null,
      "left": null,
      "margin": null,
      "max_height": null,
      "max_width": null,
      "min_height": null,
      "min_width": null,
      "object_fit": null,
      "object_position": null,
      "order": null,
      "overflow": null,
      "overflow_x": null,
      "overflow_y": null,
      "padding": null,
      "right": null,
      "top": null,
      "visibility": null,
      "width": null
     }
    },
    "8658f49cc54345ac8ea86de52a74d781": {
     "model_module": "@jupyter-widgets/controls",
     "model_name": "ProgressStyleModel",
     "model_module_version": "1.5.0",
     "state": {
      "_model_module": "@jupyter-widgets/controls",
      "_model_module_version": "1.5.0",
      "_model_name": "ProgressStyleModel",
      "_view_count": null,
      "_view_module": "@jupyter-widgets/base",
      "_view_module_version": "1.2.0",
      "_view_name": "StyleView",
      "bar_color": null,
      "description_width": ""
     }
    },
    "676f1b1304944dd2ad30fe0947ac2aa9": {
     "model_module": "@jupyter-widgets/base",
     "model_name": "LayoutModel",
     "model_module_version": "1.2.0",
     "state": {
      "_model_module": "@jupyter-widgets/base",
      "_model_module_version": "1.2.0",
      "_model_name": "LayoutModel",
      "_view_count": null,
      "_view_module": "@jupyter-widgets/base",
      "_view_module_version": "1.2.0",
      "_view_name": "LayoutView",
      "align_content": null,
      "align_items": null,
      "align_self": null,
      "border": null,
      "bottom": null,
      "display": null,
      "flex": null,
      "flex_flow": null,
      "grid_area": null,
      "grid_auto_columns": null,
      "grid_auto_flow": null,
      "grid_auto_rows": null,
      "grid_column": null,
      "grid_gap": null,
      "grid_row": null,
      "grid_template_areas": null,
      "grid_template_columns": null,
      "grid_template_rows": null,
      "height": null,
      "justify_content": null,
      "justify_items": null,
      "left": null,
      "margin": null,
      "max_height": null,
      "max_width": null,
      "min_height": null,
      "min_width": null,
      "object_fit": null,
      "object_position": null,
      "order": null,
      "overflow": null,
      "overflow_x": null,
      "overflow_y": null,
      "padding": null,
      "right": null,
      "top": null,
      "visibility": null,
      "width": null
     }
    },
    "7cee4794f2a24e9db749a5bac5747e4c": {
     "model_module": "@jupyter-widgets/controls",
     "model_name": "DescriptionStyleModel",
     "model_module_version": "1.5.0",
     "state": {
      "_model_module": "@jupyter-widgets/controls",
      "_model_module_version": "1.5.0",
      "_model_name": "DescriptionStyleModel",
      "_view_count": null,
      "_view_module": "@jupyter-widgets/base",
      "_view_module_version": "1.2.0",
      "_view_name": "StyleView",
      "description_width": ""
     }
    },
    "3afe10349d444880af44dd2a6edb8088": {
     "model_module": "@jupyter-widgets/controls",
     "model_name": "HBoxModel",
     "model_module_version": "1.5.0",
     "state": {
      "_dom_classes": [],
      "_model_module": "@jupyter-widgets/controls",
      "_model_module_version": "1.5.0",
      "_model_name": "HBoxModel",
      "_view_count": null,
      "_view_module": "@jupyter-widgets/controls",
      "_view_module_version": "1.5.0",
      "_view_name": "HBoxView",
      "box_style": "",
      "children": [
       "IPY_MODEL_5f2f260985fd4c649d93d5cd3dd015ae",
       "IPY_MODEL_73f4fa0dd7d74adf981f9c3945839edf",
       "IPY_MODEL_f988821c013145ac8eb47d85d48d8bf0"
      ],
      "layout": "IPY_MODEL_5c10548bb67642fdbc868220a81749b2"
     }
    },
    "5f2f260985fd4c649d93d5cd3dd015ae": {
     "model_module": "@jupyter-widgets/controls",
     "model_name": "HTMLModel",
     "model_module_version": "1.5.0",
     "state": {
      "_dom_classes": [],
      "_model_module": "@jupyter-widgets/controls",
      "_model_module_version": "1.5.0",
      "_model_name": "HTMLModel",
      "_view_count": null,
      "_view_module": "@jupyter-widgets/controls",
      "_view_module_version": "1.5.0",
      "_view_name": "HTMLView",
      "description": "",
      "description_tooltip": null,
      "layout": "IPY_MODEL_e4bf176fbe0d479792f499c7bc9e72af",
      "placeholder": "​",
      "style": "IPY_MODEL_75e9b2e30e42402686c76f8e181c87ba",
      "value": "vocab.json: 100%"
     }
    },
    "73f4fa0dd7d74adf981f9c3945839edf": {
     "model_module": "@jupyter-widgets/controls",
     "model_name": "FloatProgressModel",
     "model_module_version": "1.5.0",
     "state": {
      "_dom_classes": [],
      "_model_module": "@jupyter-widgets/controls",
      "_model_module_version": "1.5.0",
      "_model_name": "FloatProgressModel",
      "_view_count": null,
      "_view_module": "@jupyter-widgets/controls",
      "_view_module_version": "1.5.0",
      "_view_name": "ProgressView",
      "bar_style": "success",
      "description": "",
      "description_tooltip": null,
      "layout": "IPY_MODEL_470907c4191346b59a463729ca0bb6a9",
      "max": 3359419,
      "min": 0,
      "orientation": "horizontal",
      "style": "IPY_MODEL_cdf192ddf1b04270a876ca9671428a86",
      "value": 3359419
     }
    },
    "f988821c013145ac8eb47d85d48d8bf0": {
     "model_module": "@jupyter-widgets/controls",
     "model_name": "HTMLModel",
     "model_module_version": "1.5.0",
     "state": {
      "_dom_classes": [],
      "_model_module": "@jupyter-widgets/controls",
      "_model_module_version": "1.5.0",
      "_model_name": "HTMLModel",
      "_view_count": null,
      "_view_module": "@jupyter-widgets/controls",
      "_view_module_version": "1.5.0",
      "_view_name": "HTMLView",
      "description": "",
      "description_tooltip": null,
      "layout": "IPY_MODEL_f32fd913eede42bab62a6c454c118ec2",
      "placeholder": "​",
      "style": "IPY_MODEL_0cf529405b734eceb72de3e7f4de148f",
      "value": " 3.36M/3.36M [00:00&lt;00:00, 8.43MB/s]"
     }
    },
    "5c10548bb67642fdbc868220a81749b2": {
     "model_module": "@jupyter-widgets/base",
     "model_name": "LayoutModel",
     "model_module_version": "1.2.0",
     "state": {
      "_model_module": "@jupyter-widgets/base",
      "_model_module_version": "1.2.0",
      "_model_name": "LayoutModel",
      "_view_count": null,
      "_view_module": "@jupyter-widgets/base",
      "_view_module_version": "1.2.0",
      "_view_name": "LayoutView",
      "align_content": null,
      "align_items": null,
      "align_self": null,
      "border": null,
      "bottom": null,
      "display": null,
      "flex": null,
      "flex_flow": null,
      "grid_area": null,
      "grid_auto_columns": null,
      "grid_auto_flow": null,
      "grid_auto_rows": null,
      "grid_column": null,
      "grid_gap": null,
      "grid_row": null,
      "grid_template_areas": null,
      "grid_template_columns": null,
      "grid_template_rows": null,
      "height": null,
      "justify_content": null,
      "justify_items": null,
      "left": null,
      "margin": null,
      "max_height": null,
      "max_width": null,
      "min_height": null,
      "min_width": null,
      "object_fit": null,
      "object_position": null,
      "order": null,
      "overflow": null,
      "overflow_x": null,
      "overflow_y": null,
      "padding": null,
      "right": null,
      "top": null,
      "visibility": null,
      "width": null
     }
    },
    "e4bf176fbe0d479792f499c7bc9e72af": {
     "model_module": "@jupyter-widgets/base",
     "model_name": "LayoutModel",
     "model_module_version": "1.2.0",
     "state": {
      "_model_module": "@jupyter-widgets/base",
      "_model_module_version": "1.2.0",
      "_model_name": "LayoutModel",
      "_view_count": null,
      "_view_module": "@jupyter-widgets/base",
      "_view_module_version": "1.2.0",
      "_view_name": "LayoutView",
      "align_content": null,
      "align_items": null,
      "align_self": null,
      "border": null,
      "bottom": null,
      "display": null,
      "flex": null,
      "flex_flow": null,
      "grid_area": null,
      "grid_auto_columns": null,
      "grid_auto_flow": null,
      "grid_auto_rows": null,
      "grid_column": null,
      "grid_gap": null,
      "grid_row": null,
      "grid_template_areas": null,
      "grid_template_columns": null,
      "grid_template_rows": null,
      "height": null,
      "justify_content": null,
      "justify_items": null,
      "left": null,
      "margin": null,
      "max_height": null,
      "max_width": null,
      "min_height": null,
      "min_width": null,
      "object_fit": null,
      "object_position": null,
      "order": null,
      "overflow": null,
      "overflow_x": null,
      "overflow_y": null,
      "padding": null,
      "right": null,
      "top": null,
      "visibility": null,
      "width": null
     }
    },
    "75e9b2e30e42402686c76f8e181c87ba": {
     "model_module": "@jupyter-widgets/controls",
     "model_name": "DescriptionStyleModel",
     "model_module_version": "1.5.0",
     "state": {
      "_model_module": "@jupyter-widgets/controls",
      "_model_module_version": "1.5.0",
      "_model_name": "DescriptionStyleModel",
      "_view_count": null,
      "_view_module": "@jupyter-widgets/base",
      "_view_module_version": "1.2.0",
      "_view_name": "StyleView",
      "description_width": ""
     }
    },
    "470907c4191346b59a463729ca0bb6a9": {
     "model_module": "@jupyter-widgets/base",
     "model_name": "LayoutModel",
     "model_module_version": "1.2.0",
     "state": {
      "_model_module": "@jupyter-widgets/base",
      "_model_module_version": "1.2.0",
      "_model_name": "LayoutModel",
      "_view_count": null,
      "_view_module": "@jupyter-widgets/base",
      "_view_module_version": "1.2.0",
      "_view_name": "LayoutView",
      "align_content": null,
      "align_items": null,
      "align_self": null,
      "border": null,
      "bottom": null,
      "display": null,
      "flex": null,
      "flex_flow": null,
      "grid_area": null,
      "grid_auto_columns": null,
      "grid_auto_flow": null,
      "grid_auto_rows": null,
      "grid_column": null,
      "grid_gap": null,
      "grid_row": null,
      "grid_template_areas": null,
      "grid_template_columns": null,
      "grid_template_rows": null,
      "height": null,
      "justify_content": null,
      "justify_items": null,
      "left": null,
      "margin": null,
      "max_height": null,
      "max_width": null,
      "min_height": null,
      "min_width": null,
      "object_fit": null,
      "object_position": null,
      "order": null,
      "overflow": null,
      "overflow_x": null,
      "overflow_y": null,
      "padding": null,
      "right": null,
      "top": null,
      "visibility": null,
      "width": null
     }
    },
    "cdf192ddf1b04270a876ca9671428a86": {
     "model_module": "@jupyter-widgets/controls",
     "model_name": "ProgressStyleModel",
     "model_module_version": "1.5.0",
     "state": {
      "_model_module": "@jupyter-widgets/controls",
      "_model_module_version": "1.5.0",
      "_model_name": "ProgressStyleModel",
      "_view_count": null,
      "_view_module": "@jupyter-widgets/base",
      "_view_module_version": "1.2.0",
      "_view_name": "StyleView",
      "bar_color": null,
      "description_width": ""
     }
    },
    "f32fd913eede42bab62a6c454c118ec2": {
     "model_module": "@jupyter-widgets/base",
     "model_name": "LayoutModel",
     "model_module_version": "1.2.0",
     "state": {
      "_model_module": "@jupyter-widgets/base",
      "_model_module_version": "1.2.0",
      "_model_name": "LayoutModel",
      "_view_count": null,
      "_view_module": "@jupyter-widgets/base",
      "_view_module_version": "1.2.0",
      "_view_name": "LayoutView",
      "align_content": null,
      "align_items": null,
      "align_self": null,
      "border": null,
      "bottom": null,
      "display": null,
      "flex": null,
      "flex_flow": null,
      "grid_area": null,
      "grid_auto_columns": null,
      "grid_auto_flow": null,
      "grid_auto_rows": null,
      "grid_column": null,
      "grid_gap": null,
      "grid_row": null,
      "grid_template_areas": null,
      "grid_template_columns": null,
      "grid_template_rows": null,
      "height": null,
      "justify_content": null,
      "justify_items": null,
      "left": null,
      "margin": null,
      "max_height": null,
      "max_width": null,
      "min_height": null,
      "min_width": null,
      "object_fit": null,
      "object_position": null,
      "order": null,
      "overflow": null,
      "overflow_x": null,
      "overflow_y": null,
      "padding": null,
      "right": null,
      "top": null,
      "visibility": null,
      "width": null
     }
    },
    "0cf529405b734eceb72de3e7f4de148f": {
     "model_module": "@jupyter-widgets/controls",
     "model_name": "DescriptionStyleModel",
     "model_module_version": "1.5.0",
     "state": {
      "_model_module": "@jupyter-widgets/controls",
      "_model_module_version": "1.5.0",
      "_model_name": "DescriptionStyleModel",
      "_view_count": null,
      "_view_module": "@jupyter-widgets/base",
      "_view_module_version": "1.2.0",
      "_view_name": "StyleView",
      "description_width": ""
     }
    },
    "039fad0b5a2640d7a13df4d1cd56441c": {
     "model_module": "@jupyter-widgets/controls",
     "model_name": "HBoxModel",
     "model_module_version": "1.5.0",
     "state": {
      "_dom_classes": [],
      "_model_module": "@jupyter-widgets/controls",
      "_model_module_version": "1.5.0",
      "_model_name": "HBoxModel",
      "_view_count": null,
      "_view_module": "@jupyter-widgets/controls",
      "_view_module_version": "1.5.0",
      "_view_name": "HBoxView",
      "box_style": "",
      "children": [
       "IPY_MODEL_f55f4aa790cb433b9e630c65e6e973dd",
       "IPY_MODEL_37e948a7cde54f1fa006056c80e1a556",
       "IPY_MODEL_b4c973d7474f47c6914f0028599e3ce8"
      ],
      "layout": "IPY_MODEL_7b1352828a93470fbc77539385917ffa"
     }
    },
    "f55f4aa790cb433b9e630c65e6e973dd": {
     "model_module": "@jupyter-widgets/controls",
     "model_name": "HTMLModel",
     "model_module_version": "1.5.0",
     "state": {
      "_dom_classes": [],
      "_model_module": "@jupyter-widgets/controls",
      "_model_module_version": "1.5.0",
      "_model_name": "HTMLModel",
      "_view_count": null,
      "_view_module": "@jupyter-widgets/controls",
      "_view_module_version": "1.5.0",
      "_view_name": "HTMLView",
      "description": "",
      "description_tooltip": null,
      "layout": "IPY_MODEL_101cf1c6c26c49e4be70367b63f241aa",
      "placeholder": "​",
      "style": "IPY_MODEL_8f2096f209f449769ced4c8243e449e3",
      "value": "config.json: 100%"
     }
    },
    "37e948a7cde54f1fa006056c80e1a556": {
     "model_module": "@jupyter-widgets/controls",
     "model_name": "FloatProgressModel",
     "model_module_version": "1.5.0",
     "state": {
      "_dom_classes": [],
      "_model_module": "@jupyter-widgets/controls",
      "_model_module_version": "1.5.0",
      "_model_name": "FloatProgressModel",
      "_view_count": null,
      "_view_module": "@jupyter-widgets/controls",
      "_view_module_version": "1.5.0",
      "_view_name": "ProgressView",
      "bar_style": "success",
      "description": "",
      "description_tooltip": null,
      "layout": "IPY_MODEL_7f79c3a26e36469188ecdc362f3e5242",
      "max": 1394,
      "min": 0,
      "orientation": "horizontal",
      "style": "IPY_MODEL_643f7010b7614059821c294b7cbd4f94",
      "value": 1394
     }
    },
    "b4c973d7474f47c6914f0028599e3ce8": {
     "model_module": "@jupyter-widgets/controls",
     "model_name": "HTMLModel",
     "model_module_version": "1.5.0",
     "state": {
      "_dom_classes": [],
      "_model_module": "@jupyter-widgets/controls",
      "_model_module_version": "1.5.0",
      "_model_name": "HTMLModel",
      "_view_count": null,
      "_view_module": "@jupyter-widgets/controls",
      "_view_module_version": "1.5.0",
      "_view_name": "HTMLView",
      "description": "",
      "description_tooltip": null,
      "layout": "IPY_MODEL_9d82c14321ac4468a93457fff96da10b",
      "placeholder": "​",
      "style": "IPY_MODEL_15d41b467c9245fc8c03f76770681efa",
      "value": " 1.39k/1.39k [00:00&lt;00:00, 27.8kB/s]"
     }
    },
    "7b1352828a93470fbc77539385917ffa": {
     "model_module": "@jupyter-widgets/base",
     "model_name": "LayoutModel",
     "model_module_version": "1.2.0",
     "state": {
      "_model_module": "@jupyter-widgets/base",
      "_model_module_version": "1.2.0",
      "_model_name": "LayoutModel",
      "_view_count": null,
      "_view_module": "@jupyter-widgets/base",
      "_view_module_version": "1.2.0",
      "_view_name": "LayoutView",
      "align_content": null,
      "align_items": null,
      "align_self": null,
      "border": null,
      "bottom": null,
      "display": null,
      "flex": null,
      "flex_flow": null,
      "grid_area": null,
      "grid_auto_columns": null,
      "grid_auto_flow": null,
      "grid_auto_rows": null,
      "grid_column": null,
      "grid_gap": null,
      "grid_row": null,
      "grid_template_areas": null,
      "grid_template_columns": null,
      "grid_template_rows": null,
      "height": null,
      "justify_content": null,
      "justify_items": null,
      "left": null,
      "margin": null,
      "max_height": null,
      "max_width": null,
      "min_height": null,
      "min_width": null,
      "object_fit": null,
      "object_position": null,
      "order": null,
      "overflow": null,
      "overflow_x": null,
      "overflow_y": null,
      "padding": null,
      "right": null,
      "top": null,
      "visibility": null,
      "width": null
     }
    },
    "101cf1c6c26c49e4be70367b63f241aa": {
     "model_module": "@jupyter-widgets/base",
     "model_name": "LayoutModel",
     "model_module_version": "1.2.0",
     "state": {
      "_model_module": "@jupyter-widgets/base",
      "_model_module_version": "1.2.0",
      "_model_name": "LayoutModel",
      "_view_count": null,
      "_view_module": "@jupyter-widgets/base",
      "_view_module_version": "1.2.0",
      "_view_name": "LayoutView",
      "align_content": null,
      "align_items": null,
      "align_self": null,
      "border": null,
      "bottom": null,
      "display": null,
      "flex": null,
      "flex_flow": null,
      "grid_area": null,
      "grid_auto_columns": null,
      "grid_auto_flow": null,
      "grid_auto_rows": null,
      "grid_column": null,
      "grid_gap": null,
      "grid_row": null,
      "grid_template_areas": null,
      "grid_template_columns": null,
      "grid_template_rows": null,
      "height": null,
      "justify_content": null,
      "justify_items": null,
      "left": null,
      "margin": null,
      "max_height": null,
      "max_width": null,
      "min_height": null,
      "min_width": null,
      "object_fit": null,
      "object_position": null,
      "order": null,
      "overflow": null,
      "overflow_x": null,
      "overflow_y": null,
      "padding": null,
      "right": null,
      "top": null,
      "visibility": null,
      "width": null
     }
    },
    "8f2096f209f449769ced4c8243e449e3": {
     "model_module": "@jupyter-widgets/controls",
     "model_name": "DescriptionStyleModel",
     "model_module_version": "1.5.0",
     "state": {
      "_model_module": "@jupyter-widgets/controls",
      "_model_module_version": "1.5.0",
      "_model_name": "DescriptionStyleModel",
      "_view_count": null,
      "_view_module": "@jupyter-widgets/base",
      "_view_module_version": "1.2.0",
      "_view_name": "StyleView",
      "description_width": ""
     }
    },
    "7f79c3a26e36469188ecdc362f3e5242": {
     "model_module": "@jupyter-widgets/base",
     "model_name": "LayoutModel",
     "model_module_version": "1.2.0",
     "state": {
      "_model_module": "@jupyter-widgets/base",
      "_model_module_version": "1.2.0",
      "_model_name": "LayoutModel",
      "_view_count": null,
      "_view_module": "@jupyter-widgets/base",
      "_view_module_version": "1.2.0",
      "_view_name": "LayoutView",
      "align_content": null,
      "align_items": null,
      "align_self": null,
      "border": null,
      "bottom": null,
      "display": null,
      "flex": null,
      "flex_flow": null,
      "grid_area": null,
      "grid_auto_columns": null,
      "grid_auto_flow": null,
      "grid_auto_rows": null,
      "grid_column": null,
      "grid_gap": null,
      "grid_row": null,
      "grid_template_areas": null,
      "grid_template_columns": null,
      "grid_template_rows": null,
      "height": null,
      "justify_content": null,
      "justify_items": null,
      "left": null,
      "margin": null,
      "max_height": null,
      "max_width": null,
      "min_height": null,
      "min_width": null,
      "object_fit": null,
      "object_position": null,
      "order": null,
      "overflow": null,
      "overflow_x": null,
      "overflow_y": null,
      "padding": null,
      "right": null,
      "top": null,
      "visibility": null,
      "width": null
     }
    },
    "643f7010b7614059821c294b7cbd4f94": {
     "model_module": "@jupyter-widgets/controls",
     "model_name": "ProgressStyleModel",
     "model_module_version": "1.5.0",
     "state": {
      "_model_module": "@jupyter-widgets/controls",
      "_model_module_version": "1.5.0",
      "_model_name": "ProgressStyleModel",
      "_view_count": null,
      "_view_module": "@jupyter-widgets/base",
      "_view_module_version": "1.2.0",
      "_view_name": "StyleView",
      "bar_color": null,
      "description_width": ""
     }
    },
    "9d82c14321ac4468a93457fff96da10b": {
     "model_module": "@jupyter-widgets/base",
     "model_name": "LayoutModel",
     "model_module_version": "1.2.0",
     "state": {
      "_model_module": "@jupyter-widgets/base",
      "_model_module_version": "1.2.0",
      "_model_name": "LayoutModel",
      "_view_count": null,
      "_view_module": "@jupyter-widgets/base",
      "_view_module_version": "1.2.0",
      "_view_name": "LayoutView",
      "align_content": null,
      "align_items": null,
      "align_self": null,
      "border": null,
      "bottom": null,
      "display": null,
      "flex": null,
      "flex_flow": null,
      "grid_area": null,
      "grid_auto_columns": null,
      "grid_auto_flow": null,
      "grid_auto_rows": null,
      "grid_column": null,
      "grid_gap": null,
      "grid_row": null,
      "grid_template_areas": null,
      "grid_template_columns": null,
      "grid_template_rows": null,
      "height": null,
      "justify_content": null,
      "justify_items": null,
      "left": null,
      "margin": null,
      "max_height": null,
      "max_width": null,
      "min_height": null,
      "min_width": null,
      "object_fit": null,
      "object_position": null,
      "order": null,
      "overflow": null,
      "overflow_x": null,
      "overflow_y": null,
      "padding": null,
      "right": null,
      "top": null,
      "visibility": null,
      "width": null
     }
    },
    "15d41b467c9245fc8c03f76770681efa": {
     "model_module": "@jupyter-widgets/controls",
     "model_name": "DescriptionStyleModel",
     "model_module_version": "1.5.0",
     "state": {
      "_model_module": "@jupyter-widgets/controls",
      "_model_module_version": "1.5.0",
      "_model_name": "DescriptionStyleModel",
      "_view_count": null,
      "_view_module": "@jupyter-widgets/base",
      "_view_module_version": "1.2.0",
      "_view_name": "StyleView",
      "description_width": ""
     }
    },
    "d308f3693f1a4455a7b8d0d12699d393": {
     "model_module": "@jupyter-widgets/controls",
     "model_name": "HBoxModel",
     "model_module_version": "1.5.0",
     "state": {
      "_dom_classes": [],
      "_model_module": "@jupyter-widgets/controls",
      "_model_module_version": "1.5.0",
      "_model_name": "HBoxModel",
      "_view_count": null,
      "_view_module": "@jupyter-widgets/controls",
      "_view_module_version": "1.5.0",
      "_view_name": "HBoxView",
      "box_style": "",
      "children": [
       "IPY_MODEL_46fc80dd61d54634a1711989cb0647b0",
       "IPY_MODEL_a554d888b34c47aabeb92c37f34437d8",
       "IPY_MODEL_0d8fa6ee3b054fd2b6c1eeb1f0b75f76"
      ],
      "layout": "IPY_MODEL_c1ea0da3d2fc4c43ab55fba99f4b1a16"
     }
    },
    "46fc80dd61d54634a1711989cb0647b0": {
     "model_module": "@jupyter-widgets/controls",
     "model_name": "HTMLModel",
     "model_module_version": "1.5.0",
     "state": {
      "_dom_classes": [],
      "_model_module": "@jupyter-widgets/controls",
      "_model_module_version": "1.5.0",
      "_model_name": "HTMLModel",
      "_view_count": null,
      "_view_module": "@jupyter-widgets/controls",
      "_view_module_version": "1.5.0",
      "_view_name": "HTMLView",
      "description": "",
      "description_tooltip": null,
      "layout": "IPY_MODEL_79180e5245d748b2940889430f35133b",
      "placeholder": "​",
      "style": "IPY_MODEL_df7bca132e364406a8c4e9a9f4a02b1e",
      "value": "pytorch_model.bin: 100%"
     }
    },
    "a554d888b34c47aabeb92c37f34437d8": {
     "model_module": "@jupyter-widgets/controls",
     "model_name": "FloatProgressModel",
     "model_module_version": "1.5.0",
     "state": {
      "_dom_classes": [],
      "_model_module": "@jupyter-widgets/controls",
      "_model_module_version": "1.5.0",
      "_model_name": "FloatProgressModel",
      "_view_count": null,
      "_view_module": "@jupyter-widgets/controls",
      "_view_module_version": "1.5.0",
      "_view_name": "ProgressView",
      "bar_style": "success",
      "description": "",
      "description_tooltip": null,
      "layout": "IPY_MODEL_869ebc1795174c53ad769360b92b7d8f",
      "max": 297263361,
      "min": 0,
      "orientation": "horizontal",
      "style": "IPY_MODEL_932707f341d1452d8869acd6fc307072",
      "value": 297263361
     }
    },
    "0d8fa6ee3b054fd2b6c1eeb1f0b75f76": {
     "model_module": "@jupyter-widgets/controls",
     "model_name": "HTMLModel",
     "model_module_version": "1.5.0",
     "state": {
      "_dom_classes": [],
      "_model_module": "@jupyter-widgets/controls",
      "_model_module_version": "1.5.0",
      "_model_name": "HTMLModel",
      "_view_count": null,
      "_view_module": "@jupyter-widgets/controls",
      "_view_module_version": "1.5.0",
      "_view_name": "HTMLView",
      "description": "",
      "description_tooltip": null,
      "layout": "IPY_MODEL_ac51730b06dd4f649c0061bd50bb169c",
      "placeholder": "​",
      "style": "IPY_MODEL_08440a7033ba4b88ab959fb997d98fbd",
      "value": " 297M/297M [00:03&lt;00:00, 140MB/s]"
     }
    },
    "c1ea0da3d2fc4c43ab55fba99f4b1a16": {
     "model_module": "@jupyter-widgets/base",
     "model_name": "LayoutModel",
     "model_module_version": "1.2.0",
     "state": {
      "_model_module": "@jupyter-widgets/base",
      "_model_module_version": "1.2.0",
      "_model_name": "LayoutModel",
      "_view_count": null,
      "_view_module": "@jupyter-widgets/base",
      "_view_module_version": "1.2.0",
      "_view_name": "LayoutView",
      "align_content": null,
      "align_items": null,
      "align_self": null,
      "border": null,
      "bottom": null,
      "display": null,
      "flex": null,
      "flex_flow": null,
      "grid_area": null,
      "grid_auto_columns": null,
      "grid_auto_flow": null,
      "grid_auto_rows": null,
      "grid_column": null,
      "grid_gap": null,
      "grid_row": null,
      "grid_template_areas": null,
      "grid_template_columns": null,
      "grid_template_rows": null,
      "height": null,
      "justify_content": null,
      "justify_items": null,
      "left": null,
      "margin": null,
      "max_height": null,
      "max_width": null,
      "min_height": null,
      "min_width": null,
      "object_fit": null,
      "object_position": null,
      "order": null,
      "overflow": null,
      "overflow_x": null,
      "overflow_y": null,
      "padding": null,
      "right": null,
      "top": null,
      "visibility": null,
      "width": null
     }
    },
    "79180e5245d748b2940889430f35133b": {
     "model_module": "@jupyter-widgets/base",
     "model_name": "LayoutModel",
     "model_module_version": "1.2.0",
     "state": {
      "_model_module": "@jupyter-widgets/base",
      "_model_module_version": "1.2.0",
      "_model_name": "LayoutModel",
      "_view_count": null,
      "_view_module": "@jupyter-widgets/base",
      "_view_module_version": "1.2.0",
      "_view_name": "LayoutView",
      "align_content": null,
      "align_items": null,
      "align_self": null,
      "border": null,
      "bottom": null,
      "display": null,
      "flex": null,
      "flex_flow": null,
      "grid_area": null,
      "grid_auto_columns": null,
      "grid_auto_flow": null,
      "grid_auto_rows": null,
      "grid_column": null,
      "grid_gap": null,
      "grid_row": null,
      "grid_template_areas": null,
      "grid_template_columns": null,
      "grid_template_rows": null,
      "height": null,
      "justify_content": null,
      "justify_items": null,
      "left": null,
      "margin": null,
      "max_height": null,
      "max_width": null,
      "min_height": null,
      "min_width": null,
      "object_fit": null,
      "object_position": null,
      "order": null,
      "overflow": null,
      "overflow_x": null,
      "overflow_y": null,
      "padding": null,
      "right": null,
      "top": null,
      "visibility": null,
      "width": null
     }
    },
    "df7bca132e364406a8c4e9a9f4a02b1e": {
     "model_module": "@jupyter-widgets/controls",
     "model_name": "DescriptionStyleModel",
     "model_module_version": "1.5.0",
     "state": {
      "_model_module": "@jupyter-widgets/controls",
      "_model_module_version": "1.5.0",
      "_model_name": "DescriptionStyleModel",
      "_view_count": null,
      "_view_module": "@jupyter-widgets/base",
      "_view_module_version": "1.2.0",
      "_view_name": "StyleView",
      "description_width": ""
     }
    },
    "869ebc1795174c53ad769360b92b7d8f": {
     "model_module": "@jupyter-widgets/base",
     "model_name": "LayoutModel",
     "model_module_version": "1.2.0",
     "state": {
      "_model_module": "@jupyter-widgets/base",
      "_model_module_version": "1.2.0",
      "_model_name": "LayoutModel",
      "_view_count": null,
      "_view_module": "@jupyter-widgets/base",
      "_view_module_version": "1.2.0",
      "_view_name": "LayoutView",
      "align_content": null,
      "align_items": null,
      "align_self": null,
      "border": null,
      "bottom": null,
      "display": null,
      "flex": null,
      "flex_flow": null,
      "grid_area": null,
      "grid_auto_columns": null,
      "grid_auto_flow": null,
      "grid_auto_rows": null,
      "grid_column": null,
      "grid_gap": null,
      "grid_row": null,
      "grid_template_areas": null,
      "grid_template_columns": null,
      "grid_template_rows": null,
      "height": null,
      "justify_content": null,
      "justify_items": null,
      "left": null,
      "margin": null,
      "max_height": null,
      "max_width": null,
      "min_height": null,
      "min_width": null,
      "object_fit": null,
      "object_position": null,
      "order": null,
      "overflow": null,
      "overflow_x": null,
      "overflow_y": null,
      "padding": null,
      "right": null,
      "top": null,
      "visibility": null,
      "width": null
     }
    },
    "932707f341d1452d8869acd6fc307072": {
     "model_module": "@jupyter-widgets/controls",
     "model_name": "ProgressStyleModel",
     "model_module_version": "1.5.0",
     "state": {
      "_model_module": "@jupyter-widgets/controls",
      "_model_module_version": "1.5.0",
      "_model_name": "ProgressStyleModel",
      "_view_count": null,
      "_view_module": "@jupyter-widgets/base",
      "_view_module_version": "1.2.0",
      "_view_name": "StyleView",
      "bar_color": null,
      "description_width": ""
     }
    },
    "ac51730b06dd4f649c0061bd50bb169c": {
     "model_module": "@jupyter-widgets/base",
     "model_name": "LayoutModel",
     "model_module_version": "1.2.0",
     "state": {
      "_model_module": "@jupyter-widgets/base",
      "_model_module_version": "1.2.0",
      "_model_name": "LayoutModel",
      "_view_count": null,
      "_view_module": "@jupyter-widgets/base",
      "_view_module_version": "1.2.0",
      "_view_name": "LayoutView",
      "align_content": null,
      "align_items": null,
      "align_self": null,
      "border": null,
      "bottom": null,
      "display": null,
      "flex": null,
      "flex_flow": null,
      "grid_area": null,
      "grid_auto_columns": null,
      "grid_auto_flow": null,
      "grid_auto_rows": null,
      "grid_column": null,
      "grid_gap": null,
      "grid_row": null,
      "grid_template_areas": null,
      "grid_template_columns": null,
      "grid_template_rows": null,
      "height": null,
      "justify_content": null,
      "justify_items": null,
      "left": null,
      "margin": null,
      "max_height": null,
      "max_width": null,
      "min_height": null,
      "min_width": null,
      "object_fit": null,
      "object_position": null,
      "order": null,
      "overflow": null,
      "overflow_x": null,
      "overflow_y": null,
      "padding": null,
      "right": null,
      "top": null,
      "visibility": null,
      "width": null
     }
    },
    "08440a7033ba4b88ab959fb997d98fbd": {
     "model_module": "@jupyter-widgets/controls",
     "model_name": "DescriptionStyleModel",
     "model_module_version": "1.5.0",
     "state": {
      "_model_module": "@jupyter-widgets/controls",
      "_model_module_version": "1.5.0",
      "_model_name": "DescriptionStyleModel",
      "_view_count": null,
      "_view_module": "@jupyter-widgets/base",
      "_view_module_version": "1.2.0",
      "_view_name": "StyleView",
      "description_width": ""
     }
    },
    "b6f15c82232c4ae5a899cb8dee5a43c9": {
     "model_module": "@jupyter-widgets/controls",
     "model_name": "HBoxModel",
     "model_module_version": "1.5.0",
     "state": {
      "_dom_classes": [],
      "_model_module": "@jupyter-widgets/controls",
      "_model_module_version": "1.5.0",
      "_model_name": "HBoxModel",
      "_view_count": null,
      "_view_module": "@jupyter-widgets/controls",
      "_view_module_version": "1.5.0",
      "_view_name": "HBoxView",
      "box_style": "",
      "children": [
       "IPY_MODEL_c69ba27961694a2cac57225f950d6fac",
       "IPY_MODEL_88819d78ab294ae188868c6bcc157f37",
       "IPY_MODEL_e1514a968d0b434aab0d628809e8c547"
      ],
      "layout": "IPY_MODEL_8c3a5d7c65d94df59225e5d374a61658"
     }
    },
    "c69ba27961694a2cac57225f950d6fac": {
     "model_module": "@jupyter-widgets/controls",
     "model_name": "HTMLModel",
     "model_module_version": "1.5.0",
     "state": {
      "_dom_classes": [],
      "_model_module": "@jupyter-widgets/controls",
      "_model_module_version": "1.5.0",
      "_model_name": "HTMLModel",
      "_view_count": null,
      "_view_module": "@jupyter-widgets/controls",
      "_view_module_version": "1.5.0",
      "_view_name": "HTMLView",
      "description": "",
      "description_tooltip": null,
      "layout": "IPY_MODEL_582ee1efd7b74e208cae52de199b9749",
      "placeholder": "​",
      "style": "IPY_MODEL_92e6cebcbf1f452b931d775566493029",
      "value": "generation_config.json: 100%"
     }
    },
    "88819d78ab294ae188868c6bcc157f37": {
     "model_module": "@jupyter-widgets/controls",
     "model_name": "FloatProgressModel",
     "model_module_version": "1.5.0",
     "state": {
      "_dom_classes": [],
      "_model_module": "@jupyter-widgets/controls",
      "_model_module_version": "1.5.0",
      "_model_name": "FloatProgressModel",
      "_view_count": null,
      "_view_module": "@jupyter-widgets/controls",
      "_view_module_version": "1.5.0",
      "_view_name": "ProgressView",
      "bar_style": "success",
      "description": "",
      "description_tooltip": null,
      "layout": "IPY_MODEL_d6f485401ba543fda4b783f4a2b0020d",
      "max": 293,
      "min": 0,
      "orientation": "horizontal",
      "style": "IPY_MODEL_d9997c1af07f4e209a2694a9a227e4ef",
      "value": 293
     }
    },
    "e1514a968d0b434aab0d628809e8c547": {
     "model_module": "@jupyter-widgets/controls",
     "model_name": "HTMLModel",
     "model_module_version": "1.5.0",
     "state": {
      "_dom_classes": [],
      "_model_module": "@jupyter-widgets/controls",
      "_model_module_version": "1.5.0",
      "_model_name": "HTMLModel",
      "_view_count": null,
      "_view_module": "@jupyter-widgets/controls",
      "_view_module_version": "1.5.0",
      "_view_name": "HTMLView",
      "description": "",
      "description_tooltip": null,
      "layout": "IPY_MODEL_bac5261811df445f8b2aac08f2e5dea6",
      "placeholder": "​",
      "style": "IPY_MODEL_08d14111f5084cb184c84c06c2b6b178",
      "value": " 293/293 [00:00&lt;00:00, 5.11kB/s]"
     }
    },
    "8c3a5d7c65d94df59225e5d374a61658": {
     "model_module": "@jupyter-widgets/base",
     "model_name": "LayoutModel",
     "model_module_version": "1.2.0",
     "state": {
      "_model_module": "@jupyter-widgets/base",
      "_model_module_version": "1.2.0",
      "_model_name": "LayoutModel",
      "_view_count": null,
      "_view_module": "@jupyter-widgets/base",
      "_view_module_version": "1.2.0",
      "_view_name": "LayoutView",
      "align_content": null,
      "align_items": null,
      "align_self": null,
      "border": null,
      "bottom": null,
      "display": null,
      "flex": null,
      "flex_flow": null,
      "grid_area": null,
      "grid_auto_columns": null,
      "grid_auto_flow": null,
      "grid_auto_rows": null,
      "grid_column": null,
      "grid_gap": null,
      "grid_row": null,
      "grid_template_areas": null,
      "grid_template_columns": null,
      "grid_template_rows": null,
      "height": null,
      "justify_content": null,
      "justify_items": null,
      "left": null,
      "margin": null,
      "max_height": null,
      "max_width": null,
      "min_height": null,
      "min_width": null,
      "object_fit": null,
      "object_position": null,
      "order": null,
      "overflow": null,
      "overflow_x": null,
      "overflow_y": null,
      "padding": null,
      "right": null,
      "top": null,
      "visibility": null,
      "width": null
     }
    },
    "582ee1efd7b74e208cae52de199b9749": {
     "model_module": "@jupyter-widgets/base",
     "model_name": "LayoutModel",
     "model_module_version": "1.2.0",
     "state": {
      "_model_module": "@jupyter-widgets/base",
      "_model_module_version": "1.2.0",
      "_model_name": "LayoutModel",
      "_view_count": null,
      "_view_module": "@jupyter-widgets/base",
      "_view_module_version": "1.2.0",
      "_view_name": "LayoutView",
      "align_content": null,
      "align_items": null,
      "align_self": null,
      "border": null,
      "bottom": null,
      "display": null,
      "flex": null,
      "flex_flow": null,
      "grid_area": null,
      "grid_auto_columns": null,
      "grid_auto_flow": null,
      "grid_auto_rows": null,
      "grid_column": null,
      "grid_gap": null,
      "grid_row": null,
      "grid_template_areas": null,
      "grid_template_columns": null,
      "grid_template_rows": null,
      "height": null,
      "justify_content": null,
      "justify_items": null,
      "left": null,
      "margin": null,
      "max_height": null,
      "max_width": null,
      "min_height": null,
      "min_width": null,
      "object_fit": null,
      "object_position": null,
      "order": null,
      "overflow": null,
      "overflow_x": null,
      "overflow_y": null,
      "padding": null,
      "right": null,
      "top": null,
      "visibility": null,
      "width": null
     }
    },
    "92e6cebcbf1f452b931d775566493029": {
     "model_module": "@jupyter-widgets/controls",
     "model_name": "DescriptionStyleModel",
     "model_module_version": "1.5.0",
     "state": {
      "_model_module": "@jupyter-widgets/controls",
      "_model_module_version": "1.5.0",
      "_model_name": "DescriptionStyleModel",
      "_view_count": null,
      "_view_module": "@jupyter-widgets/base",
      "_view_module_version": "1.2.0",
      "_view_name": "StyleView",
      "description_width": ""
     }
    },
    "d6f485401ba543fda4b783f4a2b0020d": {
     "model_module": "@jupyter-widgets/base",
     "model_name": "LayoutModel",
     "model_module_version": "1.2.0",
     "state": {
      "_model_module": "@jupyter-widgets/base",
      "_model_module_version": "1.2.0",
      "_model_name": "LayoutModel",
      "_view_count": null,
      "_view_module": "@jupyter-widgets/base",
      "_view_module_version": "1.2.0",
      "_view_name": "LayoutView",
      "align_content": null,
      "align_items": null,
      "align_self": null,
      "border": null,
      "bottom": null,
      "display": null,
      "flex": null,
      "flex_flow": null,
      "grid_area": null,
      "grid_auto_columns": null,
      "grid_auto_flow": null,
      "grid_auto_rows": null,
      "grid_column": null,
      "grid_gap": null,
      "grid_row": null,
      "grid_template_areas": null,
      "grid_template_columns": null,
      "grid_template_rows": null,
      "height": null,
      "justify_content": null,
      "justify_items": null,
      "left": null,
      "margin": null,
      "max_height": null,
      "max_width": null,
      "min_height": null,
      "min_width": null,
      "object_fit": null,
      "object_position": null,
      "order": null,
      "overflow": null,
      "overflow_x": null,
      "overflow_y": null,
      "padding": null,
      "right": null,
      "top": null,
      "visibility": null,
      "width": null
     }
    },
    "d9997c1af07f4e209a2694a9a227e4ef": {
     "model_module": "@jupyter-widgets/controls",
     "model_name": "ProgressStyleModel",
     "model_module_version": "1.5.0",
     "state": {
      "_model_module": "@jupyter-widgets/controls",
      "_model_module_version": "1.5.0",
      "_model_name": "ProgressStyleModel",
      "_view_count": null,
      "_view_module": "@jupyter-widgets/base",
      "_view_module_version": "1.2.0",
      "_view_name": "StyleView",
      "bar_color": null,
      "description_width": ""
     }
    },
    "bac5261811df445f8b2aac08f2e5dea6": {
     "model_module": "@jupyter-widgets/base",
     "model_name": "LayoutModel",
     "model_module_version": "1.2.0",
     "state": {
      "_model_module": "@jupyter-widgets/base",
      "_model_module_version": "1.2.0",
      "_model_name": "LayoutModel",
      "_view_count": null,
      "_view_module": "@jupyter-widgets/base",
      "_view_module_version": "1.2.0",
      "_view_name": "LayoutView",
      "align_content": null,
      "align_items": null,
      "align_self": null,
      "border": null,
      "bottom": null,
      "display": null,
      "flex": null,
      "flex_flow": null,
      "grid_area": null,
      "grid_auto_columns": null,
      "grid_auto_flow": null,
      "grid_auto_rows": null,
      "grid_column": null,
      "grid_gap": null,
      "grid_row": null,
      "grid_template_areas": null,
      "grid_template_columns": null,
      "grid_template_rows": null,
      "height": null,
      "justify_content": null,
      "justify_items": null,
      "left": null,
      "margin": null,
      "max_height": null,
      "max_width": null,
      "min_height": null,
      "min_width": null,
      "object_fit": null,
      "object_position": null,
      "order": null,
      "overflow": null,
      "overflow_x": null,
      "overflow_y": null,
      "padding": null,
      "right": null,
      "top": null,
      "visibility": null,
      "width": null
     }
    },
    "08d14111f5084cb184c84c06c2b6b178": {
     "model_module": "@jupyter-widgets/controls",
     "model_name": "DescriptionStyleModel",
     "model_module_version": "1.5.0",
     "state": {
      "_model_module": "@jupyter-widgets/controls",
      "_model_module_version": "1.5.0",
      "_model_name": "DescriptionStyleModel",
      "_view_count": null,
      "_view_module": "@jupyter-widgets/base",
      "_view_module_version": "1.2.0",
      "_view_name": "StyleView",
      "description_width": ""
     }
    }
   }
  }
 },
 "cells": [
  {
   "cell_type": "markdown",
   "source": [
    "## Classifier for predicting the category of a request to the 1551 service"
   ],
   "metadata": {
    "id": "yNTiIMpYMOoS"
   }
  },
  {
   "cell_type": "markdown",
   "source": [
    "#### Library"
   ],
   "metadata": {
    "id": "lGAsGSUfRsoz"
   }
  },
  {
   "cell_type": "code",
   "execution_count": 1,
   "metadata": {
    "colab": {
     "base_uri": "https://localhost:8080/"
    },
    "id": "sICEX9OqIw3D",
    "outputId": "841b9964-841e-4160-bd17-fcdcbde73a4b",
    "executionInfo": {
     "status": "ok",
     "timestamp": 1701083533966,
     "user_tz": -120,
     "elapsed": 23223,
     "user": {
      "displayName": "Nataliia Volkova",
      "userId": "01298915722325512053"
     }
    },
    "ExecuteTime": {
     "end_time": "2024-08-19T17:31:08.991134900Z",
     "start_time": "2024-08-19T17:31:07.376234200Z"
    }
   },
   "outputs": [],
   "source": [
    "import pandas as pd\n",
    "import numpy as np\n",
    "import matplotlib.pyplot as plt\n",
    "%matplotlib inline\n",
    "import os\n",
    "import re\n",
    "import seaborn as sns\n",
    "from pathlib import Path\n",
    "\n",
    "#! pip install langdetect\n",
    "from langdetect import detect\n",
    "\n",
    "import nltk\n",
    "from nltk import tokenize\n",
    "nltk.download('punkt')\n",
    "import spacy\n",
    "#!python -m spacy download uk_core_news_sm\n",
    "import uk_core_news_sm"
   ]
  },
  {
   "cell_type": "code",
   "source": [
    "from sklearn import utils\n",
    "from sklearn.model_selection import train_test_split\n",
    "from sklearn.feature_extraction.text import TfidfVectorizer, CountVectorizer\n",
    "from sklearn.svm import LinearSVC\n",
    "from sklearn.metrics import classification_report, confusion_matrix, ConfusionMatrixDisplay\n",
    "from sklearn.metrics import accuracy_score\n",
    "\n",
    "from gensim.models import Doc2Vec\n",
    "import gensim\n",
    "from gensim.models.doc2vec import TaggedDocument"
   ],
   "metadata": {
    "id": "4Ftx3m5KaLkS",
    "executionInfo": {
     "status": "ok",
     "timestamp": 1701083534522,
     "user_tz": -120,
     "elapsed": 563,
     "user": {
      "displayName": "Nataliia Volkova",
      "userId": "01298915722325512053"
     }
    }
   },
   "execution_count": 52,
   "outputs": []
  },
  {
   "cell_type": "code",
   "source": [
    "from sklearn.metrics import f1_score\n",
    "import multiprocessing"
   ],
   "metadata": {
    "id": "sZdw7dbdbvrK",
    "executionInfo": {
     "status": "ok",
     "timestamp": 1701083535250,
     "user_tz": -120,
     "elapsed": 2,
     "user": {
      "displayName": "Nataliia Volkova",
      "userId": "01298915722325512053"
     }
    }
   },
   "execution_count": 53,
   "outputs": []
  },
  {
   "cell_type": "code",
   "source": [
    "# Translate russian into Ukrainian with HaggingFace\n",
    "# ! pip install transformers\n",
    "# ! pip install sentencepiece\n",
    "from transformers import MarianMTModel, MarianTokenizer"
   ],
   "metadata": {
    "id": "lfciB4wKDujQ",
    "colab": {
     "base_uri": "https://localhost:8080/"
    },
    "executionInfo": {
     "status": "ok",
     "timestamp": 1701091335378,
     "user_tz": -120,
     "elapsed": 12153,
     "user": {
      "displayName": "Nataliia Volkova",
      "userId": "01298915722325512053"
     }
    },
    "outputId": "58aa02cd-624e-4b06-b6f4-d683613072a5"
   },
   "execution_count": 123,
   "outputs": [
    {
     "output_type": "stream",
     "name": "stdout",
     "text": [
      "Requirement already satisfied: transformers in /usr/local/lib/python3.10/dist-packages (4.35.2)\n",
      "Requirement already satisfied: filelock in /usr/local/lib/python3.10/dist-packages (from transformers) (3.13.1)\n",
      "Requirement already satisfied: huggingface-hub<1.0,>=0.16.4 in /usr/local/lib/python3.10/dist-packages (from transformers) (0.19.4)\n",
      "Requirement already satisfied: numpy>=1.17 in /usr/local/lib/python3.10/dist-packages (from transformers) (1.23.5)\n",
      "Requirement already satisfied: packaging>=20.0 in /usr/local/lib/python3.10/dist-packages (from transformers) (23.2)\n",
      "Requirement already satisfied: pyyaml>=5.1 in /usr/local/lib/python3.10/dist-packages (from transformers) (6.0.1)\n",
      "Requirement already satisfied: regex!=2019.12.17 in /usr/local/lib/python3.10/dist-packages (from transformers) (2023.6.3)\n",
      "Requirement already satisfied: requests in /usr/local/lib/python3.10/dist-packages (from transformers) (2.31.0)\n",
      "Requirement already satisfied: tokenizers<0.19,>=0.14 in /usr/local/lib/python3.10/dist-packages (from transformers) (0.15.0)\n",
      "Requirement already satisfied: safetensors>=0.3.1 in /usr/local/lib/python3.10/dist-packages (from transformers) (0.4.0)\n",
      "Requirement already satisfied: tqdm>=4.27 in /usr/local/lib/python3.10/dist-packages (from transformers) (4.66.1)\n",
      "Requirement already satisfied: fsspec>=2023.5.0 in /usr/local/lib/python3.10/dist-packages (from huggingface-hub<1.0,>=0.16.4->transformers) (2023.6.0)\n",
      "Requirement already satisfied: typing-extensions>=3.7.4.3 in /usr/local/lib/python3.10/dist-packages (from huggingface-hub<1.0,>=0.16.4->transformers) (4.5.0)\n",
      "Requirement already satisfied: charset-normalizer<4,>=2 in /usr/local/lib/python3.10/dist-packages (from requests->transformers) (3.3.2)\n",
      "Requirement already satisfied: idna<4,>=2.5 in /usr/local/lib/python3.10/dist-packages (from requests->transformers) (3.4)\n",
      "Requirement already satisfied: urllib3<3,>=1.21.1 in /usr/local/lib/python3.10/dist-packages (from requests->transformers) (2.0.7)\n",
      "Requirement already satisfied: certifi>=2017.4.17 in /usr/local/lib/python3.10/dist-packages (from requests->transformers) (2023.7.22)\n",
      "Collecting sentencepiece\n",
      "  Downloading sentencepiece-0.1.99-cp310-cp310-manylinux_2_17_x86_64.manylinux2014_x86_64.whl (1.3 MB)\n",
      "\u001B[2K     \u001B[90m━━━━━━━━━━━━━━━━━━━━━━━━━━━━━━━━━━━━━━━━\u001B[0m \u001B[32m1.3/1.3 MB\u001B[0m \u001B[31m10.6 MB/s\u001B[0m eta \u001B[36m0:00:00\u001B[0m\n",
      "\u001B[?25hInstalling collected packages: sentencepiece\n",
      "Successfully installed sentencepiece-0.1.99\n"
     ]
    }
   ]
  },
  {
   "cell_type": "markdown",
   "source": [
    "#### Data Loading"
   ],
   "metadata": {
    "id": "t_aI7gE9_rM1"
   }
  },
  {
   "cell_type": "code",
   "source": [
    "%%time\n",
    "inpath = Path('C:/N/st/UCU/3sem2022/NLP/M/practice/data3/1551/')\n",
    "data = []\n",
    "for infile in inpath.rglob('*.txt'):\n",
    "    category = infile.stem\n",
    "    with open(infile, 'r') as inf:\n",
    "        text = inf.read()\n",
    "    text_list = text.split('\\n\\n\\n')\n",
    "    for txt in text_list:\n",
    "        # Split the chunk into lines\n",
    "        lines = txt.split('\\n')\n",
    "        # Join the lines\n",
    "        joined_text = ' '.join(lines[0:])\n",
    "        # Create a pandas DataFrame with a 'text' column and a 'category' column\n",
    "        df = pd.DataFrame({'text': [joined_text], 'category': [category]})\n",
    "        # Append the DataFrame to the 'data' list\n",
    "        data.append(df)\n",
    "df = pd.concat(data, ignore_index=True)"
   ],
   "metadata": {
    "id": "_JHherhuD_9q",
    "colab": {
     "base_uri": "https://localhost:8080/"
    },
    "executionInfo": {
     "status": "ok",
     "timestamp": 1701077714906,
     "user_tz": -120,
     "elapsed": 38646,
     "user": {
      "displayName": "Nataliia Volkova",
      "userId": "01298915722325512053"
     }
    },
    "outputId": "6fe7f607-323f-4301-b4dd-40caf699bfcd"
   },
   "execution_count": 10,
   "outputs": [
    {
     "output_type": "stream",
     "name": "stdout",
     "text": [
      "CPU times: user 29.9 s, sys: 362 ms, total: 30.3 s\n",
      "Wall time: 38.4 s\n"
     ]
    }
   ]
  },
  {
   "cell_type": "markdown",
   "source": [
    "#### Cleaning data"
   ],
   "metadata": {
    "collapsed": false
   }
  },
  {
   "cell_type": "code",
   "source": [
    "df['complains_id'] = df['text'].str.extract(r'^(\\d+)')  #id as number of complain\n",
    "df['text'] = df['text'].str.replace(r'^(\\d+)\\n*', '')  # Remove number of complain from text\n",
    "df = df.dropna(subset=['text', 'complains_id'])   # Drop NA\n",
    "df = df.drop_duplicates(subset = [\"text\"])    # Drop dublicates\n",
    "df['category_id'] = df['category'].factorize()[0]   # Add column for category id\n",
    "df = df[df[\"text\"].str.len()>5]   # Drop rows with 4 or less tokens"
   ],
   "metadata": {
    "id": "TVse1asgQH1R",
    "executionInfo": {
     "status": "ok",
     "timestamp": 1701077716774,
     "user_tz": -120,
     "elapsed": 1872,
     "user": {
      "displayName": "Nataliia Volkova",
      "userId": "01298915722325512053"
     }
    },
    "colab": {
     "base_uri": "https://localhost:8080/"
    },
    "outputId": "0f37d922-7763-4b74-8355-eef5fdd79cfa"
   },
   "execution_count": 11,
   "outputs": [
    {
     "output_type": "stream",
     "name": "stderr",
     "text": [
      "<ipython-input-11-6e6a80829aa7>:2: FutureWarning: The default value of regex will change from True to False in a future version.\n",
      "  df['text'] = df['text'].str.replace(r'^(\\d+)\\n*', '')  # Remove number of complain from text\n",
      "<ipython-input-11-6e6a80829aa7>:5: SettingWithCopyWarning: \n",
      "A value is trying to be set on a copy of a slice from a DataFrame.\n",
      "Try using .loc[row_indexer,col_indexer] = value instead\n",
      "\n",
      "See the caveats in the documentation: https://pandas.pydata.org/pandas-docs/stable/user_guide/indexing.html#returning-a-view-versus-a-copy\n",
      "  df['category_id'] = df['category'].factorize()[0]   # Add column for category id\n"
     ]
    }
   ]
  },
  {
   "cell_type": "code",
   "source": [
    "new_column_order = [\"complains_id\", \"text\", \"category\", \"category_id\"]\n",
    "df = df[new_column_order]\n",
    "df.head(5)"
   ],
   "metadata": {
    "colab": {
     "base_uri": "https://localhost:8080/",
     "height": 293
    },
    "id": "kWiG9VlKCSHN",
    "executionInfo": {
     "status": "ok",
     "timestamp": 1701077731455,
     "user_tz": -120,
     "elapsed": 5,
     "user": {
      "displayName": "Nataliia Volkova",
      "userId": "01298915722325512053"
     }
    },
    "outputId": "1a79a31a-d9c3-42e4-d208-3b985b91be61"
   },
   "execution_count": 12,
   "outputs": [
    {
     "output_type": "execute_result",
     "data": {
      "text/plain": [
       "  complains_id                                               text  \\\n",
       "0      2759352   Біля сміттєзбірника накопичилася велика куча ...   \n",
       "1      2745387   Напроти будинку  вул. Бестужева 32, поблизу с...   \n",
       "2      3071282   утримання прибудинкової території у незадовіл...   \n",
       "3      3436400   Жалоба по поводу того , что в прикрепленном п...   \n",
       "4      3423381   Прошу приняти міри, стосовно сміття яке залиш...   \n",
       "\n",
       "                                            category  category_id  \n",
       "0  Вивезення--утилізація-твердих-та-негабаритних-...            0  \n",
       "1  Вивезення--утилізація-твердих-та-негабаритних-...            0  \n",
       "2  Вивезення--утилізація-твердих-та-негабаритних-...            0  \n",
       "3  Вивезення--утилізація-твердих-та-негабаритних-...            0  \n",
       "4  Вивезення--утилізація-твердих-та-негабаритних-...            0  "
      ],
      "text/html": [
       "\n",
       "  <div id=\"df-06edf282-86da-4774-9fed-67eb9ea9604c\" class=\"colab-df-container\">\n",
       "    <div>\n",
       "<style scoped>\n",
       "    .dataframe tbody tr th:only-of-type {\n",
       "        vertical-align: middle;\n",
       "    }\n",
       "\n",
       "    .dataframe tbody tr th {\n",
       "        vertical-align: top;\n",
       "    }\n",
       "\n",
       "    .dataframe thead th {\n",
       "        text-align: right;\n",
       "    }\n",
       "</style>\n",
       "<table border=\"1\" class=\"dataframe\">\n",
       "  <thead>\n",
       "    <tr style=\"text-align: right;\">\n",
       "      <th></th>\n",
       "      <th>complains_id</th>\n",
       "      <th>text</th>\n",
       "      <th>category</th>\n",
       "      <th>category_id</th>\n",
       "    </tr>\n",
       "  </thead>\n",
       "  <tbody>\n",
       "    <tr>\n",
       "      <th>0</th>\n",
       "      <td>2759352</td>\n",
       "      <td>Біля сміттєзбірника накопичилася велика куча ...</td>\n",
       "      <td>Вивезення--утилізація-твердих-та-негабаритних-...</td>\n",
       "      <td>0</td>\n",
       "    </tr>\n",
       "    <tr>\n",
       "      <th>1</th>\n",
       "      <td>2745387</td>\n",
       "      <td>Напроти будинку  вул. Бестужева 32, поблизу с...</td>\n",
       "      <td>Вивезення--утилізація-твердих-та-негабаритних-...</td>\n",
       "      <td>0</td>\n",
       "    </tr>\n",
       "    <tr>\n",
       "      <th>2</th>\n",
       "      <td>3071282</td>\n",
       "      <td>утримання прибудинкової території у незадовіл...</td>\n",
       "      <td>Вивезення--утилізація-твердих-та-негабаритних-...</td>\n",
       "      <td>0</td>\n",
       "    </tr>\n",
       "    <tr>\n",
       "      <th>3</th>\n",
       "      <td>3436400</td>\n",
       "      <td>Жалоба по поводу того , что в прикрепленном п...</td>\n",
       "      <td>Вивезення--утилізація-твердих-та-негабаритних-...</td>\n",
       "      <td>0</td>\n",
       "    </tr>\n",
       "    <tr>\n",
       "      <th>4</th>\n",
       "      <td>3423381</td>\n",
       "      <td>Прошу приняти міри, стосовно сміття яке залиш...</td>\n",
       "      <td>Вивезення--утилізація-твердих-та-негабаритних-...</td>\n",
       "      <td>0</td>\n",
       "    </tr>\n",
       "  </tbody>\n",
       "</table>\n",
       "</div>\n",
       "    <div class=\"colab-df-buttons\">\n",
       "\n",
       "  <div class=\"colab-df-container\">\n",
       "    <button class=\"colab-df-convert\" onclick=\"convertToInteractive('df-06edf282-86da-4774-9fed-67eb9ea9604c')\"\n",
       "            title=\"Convert this dataframe to an interactive table.\"\n",
       "            style=\"display:none;\">\n",
       "\n",
       "  <svg xmlns=\"http://www.w3.org/2000/svg\" height=\"24px\" viewBox=\"0 -960 960 960\">\n",
       "    <path d=\"M120-120v-720h720v720H120Zm60-500h600v-160H180v160Zm220 220h160v-160H400v160Zm0 220h160v-160H400v160ZM180-400h160v-160H180v160Zm440 0h160v-160H620v160ZM180-180h160v-160H180v160Zm440 0h160v-160H620v160Z\"/>\n",
       "  </svg>\n",
       "    </button>\n",
       "\n",
       "  <style>\n",
       "    .colab-df-container {\n",
       "      display:flex;\n",
       "      gap: 12px;\n",
       "    }\n",
       "\n",
       "    .colab-df-convert {\n",
       "      background-color: #E8F0FE;\n",
       "      border: none;\n",
       "      border-radius: 50%;\n",
       "      cursor: pointer;\n",
       "      display: none;\n",
       "      fill: #1967D2;\n",
       "      height: 32px;\n",
       "      padding: 0 0 0 0;\n",
       "      width: 32px;\n",
       "    }\n",
       "\n",
       "    .colab-df-convert:hover {\n",
       "      background-color: #E2EBFA;\n",
       "      box-shadow: 0px 1px 2px rgba(60, 64, 67, 0.3), 0px 1px 3px 1px rgba(60, 64, 67, 0.15);\n",
       "      fill: #174EA6;\n",
       "    }\n",
       "\n",
       "    .colab-df-buttons div {\n",
       "      margin-bottom: 4px;\n",
       "    }\n",
       "\n",
       "    [theme=dark] .colab-df-convert {\n",
       "      background-color: #3B4455;\n",
       "      fill: #D2E3FC;\n",
       "    }\n",
       "\n",
       "    [theme=dark] .colab-df-convert:hover {\n",
       "      background-color: #434B5C;\n",
       "      box-shadow: 0px 1px 3px 1px rgba(0, 0, 0, 0.15);\n",
       "      filter: drop-shadow(0px 1px 2px rgba(0, 0, 0, 0.3));\n",
       "      fill: #FFFFFF;\n",
       "    }\n",
       "  </style>\n",
       "\n",
       "    <script>\n",
       "      const buttonEl =\n",
       "        document.querySelector('#df-06edf282-86da-4774-9fed-67eb9ea9604c button.colab-df-convert');\n",
       "      buttonEl.style.display =\n",
       "        google.colab.kernel.accessAllowed ? 'block' : 'none';\n",
       "\n",
       "      async function convertToInteractive(key) {\n",
       "        const element = document.querySelector('#df-06edf282-86da-4774-9fed-67eb9ea9604c');\n",
       "        const dataTable =\n",
       "          await google.colab.kernel.invokeFunction('convertToInteractive',\n",
       "                                                    [key], {});\n",
       "        if (!dataTable) return;\n",
       "\n",
       "        const docLinkHtml = 'Like what you see? Visit the ' +\n",
       "          '<a target=\"_blank\" href=https://colab.research.google.com/notebooks/data_table.ipynb>data table notebook</a>'\n",
       "          + ' to learn more about interactive tables.';\n",
       "        element.innerHTML = '';\n",
       "        dataTable['output_type'] = 'display_data';\n",
       "        await google.colab.output.renderOutput(dataTable, element);\n",
       "        const docLink = document.createElement('div');\n",
       "        docLink.innerHTML = docLinkHtml;\n",
       "        element.appendChild(docLink);\n",
       "      }\n",
       "    </script>\n",
       "  </div>\n",
       "\n",
       "\n",
       "<div id=\"df-3c0386f0-e099-4843-bf90-933ee2b9e441\">\n",
       "  <button class=\"colab-df-quickchart\" onclick=\"quickchart('df-3c0386f0-e099-4843-bf90-933ee2b9e441')\"\n",
       "            title=\"Suggest charts\"\n",
       "            style=\"display:none;\">\n",
       "\n",
       "<svg xmlns=\"http://www.w3.org/2000/svg\" height=\"24px\"viewBox=\"0 0 24 24\"\n",
       "     width=\"24px\">\n",
       "    <g>\n",
       "        <path d=\"M19 3H5c-1.1 0-2 .9-2 2v14c0 1.1.9 2 2 2h14c1.1 0 2-.9 2-2V5c0-1.1-.9-2-2-2zM9 17H7v-7h2v7zm4 0h-2V7h2v10zm4 0h-2v-4h2v4z\"/>\n",
       "    </g>\n",
       "</svg>\n",
       "  </button>\n",
       "\n",
       "<style>\n",
       "  .colab-df-quickchart {\n",
       "      --bg-color: #E8F0FE;\n",
       "      --fill-color: #1967D2;\n",
       "      --hover-bg-color: #E2EBFA;\n",
       "      --hover-fill-color: #174EA6;\n",
       "      --disabled-fill-color: #AAA;\n",
       "      --disabled-bg-color: #DDD;\n",
       "  }\n",
       "\n",
       "  [theme=dark] .colab-df-quickchart {\n",
       "      --bg-color: #3B4455;\n",
       "      --fill-color: #D2E3FC;\n",
       "      --hover-bg-color: #434B5C;\n",
       "      --hover-fill-color: #FFFFFF;\n",
       "      --disabled-bg-color: #3B4455;\n",
       "      --disabled-fill-color: #666;\n",
       "  }\n",
       "\n",
       "  .colab-df-quickchart {\n",
       "    background-color: var(--bg-color);\n",
       "    border: none;\n",
       "    border-radius: 50%;\n",
       "    cursor: pointer;\n",
       "    display: none;\n",
       "    fill: var(--fill-color);\n",
       "    height: 32px;\n",
       "    padding: 0;\n",
       "    width: 32px;\n",
       "  }\n",
       "\n",
       "  .colab-df-quickchart:hover {\n",
       "    background-color: var(--hover-bg-color);\n",
       "    box-shadow: 0 1px 2px rgba(60, 64, 67, 0.3), 0 1px 3px 1px rgba(60, 64, 67, 0.15);\n",
       "    fill: var(--button-hover-fill-color);\n",
       "  }\n",
       "\n",
       "  .colab-df-quickchart-complete:disabled,\n",
       "  .colab-df-quickchart-complete:disabled:hover {\n",
       "    background-color: var(--disabled-bg-color);\n",
       "    fill: var(--disabled-fill-color);\n",
       "    box-shadow: none;\n",
       "  }\n",
       "\n",
       "  .colab-df-spinner {\n",
       "    border: 2px solid var(--fill-color);\n",
       "    border-color: transparent;\n",
       "    border-bottom-color: var(--fill-color);\n",
       "    animation:\n",
       "      spin 1s steps(1) infinite;\n",
       "  }\n",
       "\n",
       "  @keyframes spin {\n",
       "    0% {\n",
       "      border-color: transparent;\n",
       "      border-bottom-color: var(--fill-color);\n",
       "      border-left-color: var(--fill-color);\n",
       "    }\n",
       "    20% {\n",
       "      border-color: transparent;\n",
       "      border-left-color: var(--fill-color);\n",
       "      border-top-color: var(--fill-color);\n",
       "    }\n",
       "    30% {\n",
       "      border-color: transparent;\n",
       "      border-left-color: var(--fill-color);\n",
       "      border-top-color: var(--fill-color);\n",
       "      border-right-color: var(--fill-color);\n",
       "    }\n",
       "    40% {\n",
       "      border-color: transparent;\n",
       "      border-right-color: var(--fill-color);\n",
       "      border-top-color: var(--fill-color);\n",
       "    }\n",
       "    60% {\n",
       "      border-color: transparent;\n",
       "      border-right-color: var(--fill-color);\n",
       "    }\n",
       "    80% {\n",
       "      border-color: transparent;\n",
       "      border-right-color: var(--fill-color);\n",
       "      border-bottom-color: var(--fill-color);\n",
       "    }\n",
       "    90% {\n",
       "      border-color: transparent;\n",
       "      border-bottom-color: var(--fill-color);\n",
       "    }\n",
       "  }\n",
       "</style>\n",
       "\n",
       "  <script>\n",
       "    async function quickchart(key) {\n",
       "      const quickchartButtonEl =\n",
       "        document.querySelector('#' + key + ' button');\n",
       "      quickchartButtonEl.disabled = true;  // To prevent multiple clicks.\n",
       "      quickchartButtonEl.classList.add('colab-df-spinner');\n",
       "      try {\n",
       "        const charts = await google.colab.kernel.invokeFunction(\n",
       "            'suggestCharts', [key], {});\n",
       "      } catch (error) {\n",
       "        console.error('Error during call to suggestCharts:', error);\n",
       "      }\n",
       "      quickchartButtonEl.classList.remove('colab-df-spinner');\n",
       "      quickchartButtonEl.classList.add('colab-df-quickchart-complete');\n",
       "    }\n",
       "    (() => {\n",
       "      let quickchartButtonEl =\n",
       "        document.querySelector('#df-3c0386f0-e099-4843-bf90-933ee2b9e441 button');\n",
       "      quickchartButtonEl.style.display =\n",
       "        google.colab.kernel.accessAllowed ? 'block' : 'none';\n",
       "    })();\n",
       "  </script>\n",
       "</div>\n",
       "    </div>\n",
       "  </div>\n"
      ]
     },
     "metadata": {},
     "execution_count": 12
    }
   ]
  },
  {
   "cell_type": "code",
   "source": [
    "len(df)"
   ],
   "metadata": {
    "colab": {
     "base_uri": "https://localhost:8080/"
    },
    "id": "9yIhKrI8G0Fm",
    "executionInfo": {
     "status": "ok",
     "timestamp": 1701077740756,
     "user_tz": -120,
     "elapsed": 251,
     "user": {
      "displayName": "Nataliia Volkova",
      "userId": "01298915722325512053"
     }
    },
    "outputId": "75e05fda-fe5e-46f2-ec77-29c21f8f6d24"
   },
   "execution_count": 13,
   "outputs": [
    {
     "output_type": "execute_result",
     "data": {
      "text/plain": [
       "103641"
      ]
     },
     "metadata": {},
     "execution_count": 13
    }
   ]
  },
  {
   "cell_type": "markdown",
   "source": [
    "There are 103,641 claims in the data set."
   ],
   "metadata": {
    "collapsed": false
   }
  },
  {
   "cell_type": "markdown",
   "source": [
    "#### Language detection\n",
    "Identify the language of the claims"
   ],
   "metadata": {
    "id": "qXTE75xQaCas"
   }
  },
  {
   "cell_type": "code",
   "source": [
    "from tqdm import tqdm\n",
    "tqdm.pandas()"
   ],
   "metadata": {
    "id": "gTDuID35IsNY",
    "executionInfo": {
     "status": "ok",
     "timestamp": 1701077766538,
     "user_tz": -120,
     "elapsed": 256,
     "user": {
      "displayName": "Nataliia Volkova",
      "userId": "01298915722325512053"
     }
    }
   },
   "execution_count": 15,
   "outputs": []
  },
  {
   "cell_type": "code",
   "source": [
    "def langdetect(text):\n",
    "    try:\n",
    "        language = detect(text)\n",
    "    except:\n",
    "        language = \"none\"\n",
    "    return language"
   ],
   "metadata": {
    "id": "jH_2cxi3KCqG",
    "executionInfo": {
     "status": "ok",
     "timestamp": 1701077743469,
     "user_tz": -120,
     "elapsed": 301,
     "user": {
      "displayName": "Nataliia Volkova",
      "userId": "01298915722325512053"
     }
    }
   },
   "execution_count": 14,
   "outputs": []
  },
  {
   "cell_type": "code",
   "source": [
    "%%time\n",
    "df[\"language\"] = df[\"text\"].progress_apply(lambda x: langdetect(x))"
   ],
   "metadata": {
    "id": "5ddB0HFlLIGm",
    "colab": {
     "base_uri": "https://localhost:8080/"
    },
    "executionInfo": {
     "status": "ok",
     "timestamp": 1701078452281,
     "user_tz": -120,
     "elapsed": 671724,
     "user": {
      "displayName": "Nataliia Volkova",
      "userId": "01298915722325512053"
     }
    },
    "outputId": "694b4be0-4ca4-49dc-8123-5f9352474965"
   },
   "execution_count": 16,
   "outputs": [
    {
     "output_type": "stream",
     "name": "stderr",
     "text": [
      "100%|██████████| 103641/103641 [11:11<00:00, 154.32it/s]"
     ]
    },
    {
     "output_type": "stream",
     "name": "stdout",
     "text": [
      "CPU times: user 9min 27s, sys: 6.56 s, total: 9min 34s\n",
      "Wall time: 11min 11s\n"
     ]
    },
    {
     "output_type": "stream",
     "name": "stderr",
     "text": [
      "\n"
     ]
    }
   ]
  },
  {
   "cell_type": "code",
   "source": [
    "df.groupby(\"language\").size()"
   ],
   "metadata": {
    "colab": {
     "base_uri": "https://localhost:8080/"
    },
    "id": "GZ9yZNr8VEAQ",
    "executionInfo": {
     "status": "ok",
     "timestamp": 1701078452282,
     "user_tz": -120,
     "elapsed": 17,
     "user": {
      "displayName": "Nataliia Volkova",
      "userId": "01298915722325512053"
     }
    },
    "outputId": "1429d2ac-a8d7-4244-b6c5-01076cf93d40"
   },
   "execution_count": 17,
   "outputs": [
    {
     "output_type": "execute_result",
     "data": {
      "text/plain": [
       "language\n",
       "bg      328\n",
       "de        4\n",
       "en        2\n",
       "mk      101\n",
       "pl        3\n",
       "ru    47383\n",
       "sk        1\n",
       "uk    55819\n",
       "dtype: int64"
      ]
     },
     "metadata": {},
     "execution_count": 17
    }
   ]
  },
  {
   "cell_type": "code",
   "source": [
    "# Take only text in Ukrainian\n",
    "df_uk = df[df[\"language\"]=='uk']\n",
    "df_uk.shape"
   ],
   "metadata": {
    "id": "76lZ8FNvVMGP",
    "colab": {
     "base_uri": "https://localhost:8080/"
    },
    "executionInfo": {
     "status": "ok",
     "timestamp": 1701078452778,
     "user_tz": -120,
     "elapsed": 10,
     "user": {
      "displayName": "Nataliia Volkova",
      "userId": "01298915722325512053"
     }
    },
    "outputId": "ffff38c4-82b7-4fcc-a708-4b2235226179"
   },
   "execution_count": 19,
   "outputs": [
    {
     "output_type": "execute_result",
     "data": {
      "text/plain": [
       "(55819, 5)"
      ]
     },
     "metadata": {},
     "execution_count": 19
    }
   ]
  },
  {
   "cell_type": "markdown",
   "source": [
    "#### Analyze complains in Ukrainian data"
   ],
   "metadata": {
    "id": "1WugDUztc3Oa"
   }
  },
  {
   "cell_type": "code",
   "source": [
    "df_uk[\"category\"].nunique()"
   ],
   "metadata": {
    "colab": {
     "base_uri": "https://localhost:8080/"
    },
    "id": "BdwuRlCNJsA-",
    "executionInfo": {
     "status": "ok",
     "timestamp": 1701078856337,
     "user_tz": -120,
     "elapsed": 266,
     "user": {
      "displayName": "Nataliia Volkova",
      "userId": "01298915722325512053"
     }
    },
    "outputId": "405bb668-c441-4542-8223-a9c41d766dbc"
   },
   "execution_count": 20,
   "outputs": [
    {
     "output_type": "execute_result",
     "data": {
      "text/plain": [
       "188"
      ]
     },
     "metadata": {},
     "execution_count": 20
    }
   ]
  },
  {
   "cell_type": "markdown",
   "source": [
    "There are 188 categories in the data."
   ],
   "metadata": {
    "collapsed": false
   }
  },
  {
   "cell_type": "code",
   "source": [
    "cat = df_uk[\"category\"].value_counts()\n",
    "cat_df = pd.DataFrame({\"cat\": cat.index, \"count\": cat.values})\n",
    "cat_df"
   ],
   "metadata": {
    "id": "cuZ3Q_25T4Jv",
    "colab": {
     "base_uri": "https://localhost:8080/",
     "height": 423
    },
    "executionInfo": {
     "status": "ok",
     "timestamp": 1701079242102,
     "user_tz": -120,
     "elapsed": 284,
     "user": {
      "displayName": "Nataliia Volkova",
      "userId": "01298915722325512053"
     }
    },
    "outputId": "9092646f-11e3-4de3-90c0-7bba6e543e7a"
   },
   "execution_count": 31,
   "outputs": [
    {
     "output_type": "execute_result",
     "data": {
      "text/plain": [
       "                                                   cat  count\n",
       "0                                      Відсутність-ГВП   5855\n",
       "1             Укладання-та-ремонт-асфальтного-покриття   3306\n",
       "2                                 Відсутність-опалення   2751\n",
       "3    Перевірка-дозвільної-документації--демонтаж-...   2028\n",
       "4            Прибирання-та-санітарний-стан-територій   1677\n",
       "..                                                 ...    ...\n",
       "183                   Виток-холодної-води-на-поверхню     50\n",
       "184  Паркування-на-зеленій-зоні-у-місцях-загальног...     49\n",
       "185                          Відсутність-ГВП-по-стояку     46\n",
       "186         Питання--що-стосуються-домофонної-системи     44\n",
       "187  Пропозиції--зауваження--щодо-роботи-web-сторі...     39\n",
       "\n",
       "[188 rows x 2 columns]"
      ],
      "text/html": [
       "\n",
       "  <div id=\"df-22dfb8d9-3cd6-4d87-94aa-6eb0bc4af5ee\" class=\"colab-df-container\">\n",
       "    <div>\n",
       "<style scoped>\n",
       "    .dataframe tbody tr th:only-of-type {\n",
       "        vertical-align: middle;\n",
       "    }\n",
       "\n",
       "    .dataframe tbody tr th {\n",
       "        vertical-align: top;\n",
       "    }\n",
       "\n",
       "    .dataframe thead th {\n",
       "        text-align: right;\n",
       "    }\n",
       "</style>\n",
       "<table border=\"1\" class=\"dataframe\">\n",
       "  <thead>\n",
       "    <tr style=\"text-align: right;\">\n",
       "      <th></th>\n",
       "      <th>cat</th>\n",
       "      <th>count</th>\n",
       "    </tr>\n",
       "  </thead>\n",
       "  <tbody>\n",
       "    <tr>\n",
       "      <th>0</th>\n",
       "      <td>Відсутність-ГВП</td>\n",
       "      <td>5855</td>\n",
       "    </tr>\n",
       "    <tr>\n",
       "      <th>1</th>\n",
       "      <td>Укладання-та-ремонт-асфальтного-покриття</td>\n",
       "      <td>3306</td>\n",
       "    </tr>\n",
       "    <tr>\n",
       "      <th>2</th>\n",
       "      <td>Відсутність-опалення</td>\n",
       "      <td>2751</td>\n",
       "    </tr>\n",
       "    <tr>\n",
       "      <th>3</th>\n",
       "      <td>Перевірка-дозвільної-документації--демонтаж-...</td>\n",
       "      <td>2028</td>\n",
       "    </tr>\n",
       "    <tr>\n",
       "      <th>4</th>\n",
       "      <td>Прибирання-та-санітарний-стан-територій</td>\n",
       "      <td>1677</td>\n",
       "    </tr>\n",
       "    <tr>\n",
       "      <th>...</th>\n",
       "      <td>...</td>\n",
       "      <td>...</td>\n",
       "    </tr>\n",
       "    <tr>\n",
       "      <th>183</th>\n",
       "      <td>Виток-холодної-води-на-поверхню</td>\n",
       "      <td>50</td>\n",
       "    </tr>\n",
       "    <tr>\n",
       "      <th>184</th>\n",
       "      <td>Паркування-на-зеленій-зоні-у-місцях-загальног...</td>\n",
       "      <td>49</td>\n",
       "    </tr>\n",
       "    <tr>\n",
       "      <th>185</th>\n",
       "      <td>Відсутність-ГВП-по-стояку</td>\n",
       "      <td>46</td>\n",
       "    </tr>\n",
       "    <tr>\n",
       "      <th>186</th>\n",
       "      <td>Питання--що-стосуються-домофонної-системи</td>\n",
       "      <td>44</td>\n",
       "    </tr>\n",
       "    <tr>\n",
       "      <th>187</th>\n",
       "      <td>Пропозиції--зауваження--щодо-роботи-web-сторі...</td>\n",
       "      <td>39</td>\n",
       "    </tr>\n",
       "  </tbody>\n",
       "</table>\n",
       "<p>188 rows × 2 columns</p>\n",
       "</div>\n",
       "    <div class=\"colab-df-buttons\">\n",
       "\n",
       "  <div class=\"colab-df-container\">\n",
       "    <button class=\"colab-df-convert\" onclick=\"convertToInteractive('df-22dfb8d9-3cd6-4d87-94aa-6eb0bc4af5ee')\"\n",
       "            title=\"Convert this dataframe to an interactive table.\"\n",
       "            style=\"display:none;\">\n",
       "\n",
       "  <svg xmlns=\"http://www.w3.org/2000/svg\" height=\"24px\" viewBox=\"0 -960 960 960\">\n",
       "    <path d=\"M120-120v-720h720v720H120Zm60-500h600v-160H180v160Zm220 220h160v-160H400v160Zm0 220h160v-160H400v160ZM180-400h160v-160H180v160Zm440 0h160v-160H620v160ZM180-180h160v-160H180v160Zm440 0h160v-160H620v160Z\"/>\n",
       "  </svg>\n",
       "    </button>\n",
       "\n",
       "  <style>\n",
       "    .colab-df-container {\n",
       "      display:flex;\n",
       "      gap: 12px;\n",
       "    }\n",
       "\n",
       "    .colab-df-convert {\n",
       "      background-color: #E8F0FE;\n",
       "      border: none;\n",
       "      border-radius: 50%;\n",
       "      cursor: pointer;\n",
       "      display: none;\n",
       "      fill: #1967D2;\n",
       "      height: 32px;\n",
       "      padding: 0 0 0 0;\n",
       "      width: 32px;\n",
       "    }\n",
       "\n",
       "    .colab-df-convert:hover {\n",
       "      background-color: #E2EBFA;\n",
       "      box-shadow: 0px 1px 2px rgba(60, 64, 67, 0.3), 0px 1px 3px 1px rgba(60, 64, 67, 0.15);\n",
       "      fill: #174EA6;\n",
       "    }\n",
       "\n",
       "    .colab-df-buttons div {\n",
       "      margin-bottom: 4px;\n",
       "    }\n",
       "\n",
       "    [theme=dark] .colab-df-convert {\n",
       "      background-color: #3B4455;\n",
       "      fill: #D2E3FC;\n",
       "    }\n",
       "\n",
       "    [theme=dark] .colab-df-convert:hover {\n",
       "      background-color: #434B5C;\n",
       "      box-shadow: 0px 1px 3px 1px rgba(0, 0, 0, 0.15);\n",
       "      filter: drop-shadow(0px 1px 2px rgba(0, 0, 0, 0.3));\n",
       "      fill: #FFFFFF;\n",
       "    }\n",
       "  </style>\n",
       "\n",
       "    <script>\n",
       "      const buttonEl =\n",
       "        document.querySelector('#df-22dfb8d9-3cd6-4d87-94aa-6eb0bc4af5ee button.colab-df-convert');\n",
       "      buttonEl.style.display =\n",
       "        google.colab.kernel.accessAllowed ? 'block' : 'none';\n",
       "\n",
       "      async function convertToInteractive(key) {\n",
       "        const element = document.querySelector('#df-22dfb8d9-3cd6-4d87-94aa-6eb0bc4af5ee');\n",
       "        const dataTable =\n",
       "          await google.colab.kernel.invokeFunction('convertToInteractive',\n",
       "                                                    [key], {});\n",
       "        if (!dataTable) return;\n",
       "\n",
       "        const docLinkHtml = 'Like what you see? Visit the ' +\n",
       "          '<a target=\"_blank\" href=https://colab.research.google.com/notebooks/data_table.ipynb>data table notebook</a>'\n",
       "          + ' to learn more about interactive tables.';\n",
       "        element.innerHTML = '';\n",
       "        dataTable['output_type'] = 'display_data';\n",
       "        await google.colab.output.renderOutput(dataTable, element);\n",
       "        const docLink = document.createElement('div');\n",
       "        docLink.innerHTML = docLinkHtml;\n",
       "        element.appendChild(docLink);\n",
       "      }\n",
       "    </script>\n",
       "  </div>\n",
       "\n",
       "\n",
       "<div id=\"df-18c877b9-0367-4a56-80cf-007104ca9df3\">\n",
       "  <button class=\"colab-df-quickchart\" onclick=\"quickchart('df-18c877b9-0367-4a56-80cf-007104ca9df3')\"\n",
       "            title=\"Suggest charts\"\n",
       "            style=\"display:none;\">\n",
       "\n",
       "<svg xmlns=\"http://www.w3.org/2000/svg\" height=\"24px\"viewBox=\"0 0 24 24\"\n",
       "     width=\"24px\">\n",
       "    <g>\n",
       "        <path d=\"M19 3H5c-1.1 0-2 .9-2 2v14c0 1.1.9 2 2 2h14c1.1 0 2-.9 2-2V5c0-1.1-.9-2-2-2zM9 17H7v-7h2v7zm4 0h-2V7h2v10zm4 0h-2v-4h2v4z\"/>\n",
       "    </g>\n",
       "</svg>\n",
       "  </button>\n",
       "\n",
       "<style>\n",
       "  .colab-df-quickchart {\n",
       "      --bg-color: #E8F0FE;\n",
       "      --fill-color: #1967D2;\n",
       "      --hover-bg-color: #E2EBFA;\n",
       "      --hover-fill-color: #174EA6;\n",
       "      --disabled-fill-color: #AAA;\n",
       "      --disabled-bg-color: #DDD;\n",
       "  }\n",
       "\n",
       "  [theme=dark] .colab-df-quickchart {\n",
       "      --bg-color: #3B4455;\n",
       "      --fill-color: #D2E3FC;\n",
       "      --hover-bg-color: #434B5C;\n",
       "      --hover-fill-color: #FFFFFF;\n",
       "      --disabled-bg-color: #3B4455;\n",
       "      --disabled-fill-color: #666;\n",
       "  }\n",
       "\n",
       "  .colab-df-quickchart {\n",
       "    background-color: var(--bg-color);\n",
       "    border: none;\n",
       "    border-radius: 50%;\n",
       "    cursor: pointer;\n",
       "    display: none;\n",
       "    fill: var(--fill-color);\n",
       "    height: 32px;\n",
       "    padding: 0;\n",
       "    width: 32px;\n",
       "  }\n",
       "\n",
       "  .colab-df-quickchart:hover {\n",
       "    background-color: var(--hover-bg-color);\n",
       "    box-shadow: 0 1px 2px rgba(60, 64, 67, 0.3), 0 1px 3px 1px rgba(60, 64, 67, 0.15);\n",
       "    fill: var(--button-hover-fill-color);\n",
       "  }\n",
       "\n",
       "  .colab-df-quickchart-complete:disabled,\n",
       "  .colab-df-quickchart-complete:disabled:hover {\n",
       "    background-color: var(--disabled-bg-color);\n",
       "    fill: var(--disabled-fill-color);\n",
       "    box-shadow: none;\n",
       "  }\n",
       "\n",
       "  .colab-df-spinner {\n",
       "    border: 2px solid var(--fill-color);\n",
       "    border-color: transparent;\n",
       "    border-bottom-color: var(--fill-color);\n",
       "    animation:\n",
       "      spin 1s steps(1) infinite;\n",
       "  }\n",
       "\n",
       "  @keyframes spin {\n",
       "    0% {\n",
       "      border-color: transparent;\n",
       "      border-bottom-color: var(--fill-color);\n",
       "      border-left-color: var(--fill-color);\n",
       "    }\n",
       "    20% {\n",
       "      border-color: transparent;\n",
       "      border-left-color: var(--fill-color);\n",
       "      border-top-color: var(--fill-color);\n",
       "    }\n",
       "    30% {\n",
       "      border-color: transparent;\n",
       "      border-left-color: var(--fill-color);\n",
       "      border-top-color: var(--fill-color);\n",
       "      border-right-color: var(--fill-color);\n",
       "    }\n",
       "    40% {\n",
       "      border-color: transparent;\n",
       "      border-right-color: var(--fill-color);\n",
       "      border-top-color: var(--fill-color);\n",
       "    }\n",
       "    60% {\n",
       "      border-color: transparent;\n",
       "      border-right-color: var(--fill-color);\n",
       "    }\n",
       "    80% {\n",
       "      border-color: transparent;\n",
       "      border-right-color: var(--fill-color);\n",
       "      border-bottom-color: var(--fill-color);\n",
       "    }\n",
       "    90% {\n",
       "      border-color: transparent;\n",
       "      border-bottom-color: var(--fill-color);\n",
       "    }\n",
       "  }\n",
       "</style>\n",
       "\n",
       "  <script>\n",
       "    async function quickchart(key) {\n",
       "      const quickchartButtonEl =\n",
       "        document.querySelector('#' + key + ' button');\n",
       "      quickchartButtonEl.disabled = true;  // To prevent multiple clicks.\n",
       "      quickchartButtonEl.classList.add('colab-df-spinner');\n",
       "      try {\n",
       "        const charts = await google.colab.kernel.invokeFunction(\n",
       "            'suggestCharts', [key], {});\n",
       "      } catch (error) {\n",
       "        console.error('Error during call to suggestCharts:', error);\n",
       "      }\n",
       "      quickchartButtonEl.classList.remove('colab-df-spinner');\n",
       "      quickchartButtonEl.classList.add('colab-df-quickchart-complete');\n",
       "    }\n",
       "    (() => {\n",
       "      let quickchartButtonEl =\n",
       "        document.querySelector('#df-18c877b9-0367-4a56-80cf-007104ca9df3 button');\n",
       "      quickchartButtonEl.style.display =\n",
       "        google.colab.kernel.accessAllowed ? 'block' : 'none';\n",
       "    })();\n",
       "  </script>\n",
       "</div>\n",
       "    </div>\n",
       "  </div>\n"
      ]
     },
     "metadata": {},
     "execution_count": 31
    }
   ]
  },
  {
   "cell_type": "code",
   "source": [
    "fig = plt.figure(figsize=(36,6))\n",
    "df_uk.groupby('category_id').text.count().plot.bar(ylim=0)\n",
    "plt.xlabel('Categories')\n",
    "plt.ylabel('Count')\n",
    "plt.title('The number of complaints per category')\n",
    "plt.show()"
   ],
   "metadata": {
    "id": "UaNbv0sJdCrB",
    "colab": {
     "base_uri": "https://localhost:8080/",
     "height": 197
    },
    "executionInfo": {
     "status": "ok",
     "timestamp": 1701079213331,
     "user_tz": -120,
     "elapsed": 2281,
     "user": {
      "displayName": "Nataliia Volkova",
      "userId": "01298915722325512053"
     }
    },
    "outputId": "9fe622d7-2d32-4dc1-be48-bed91008f3bc"
   },
   "execution_count": 30,
   "outputs": [
    {
     "output_type": "display_data",
     "data": {
      "text/plain": [
       "<Figure size 3600x600 with 1 Axes>"
      ],
      "image/png": "[encoded data removed]"
     },
     "metadata": {}
    }
   ]
  },
  {
   "cell_type": "markdown",
   "source": [
    "There are 188 categories in the dataset. The number of queries in the categories is not balanced. For example, “Lack of hot water supply” has 5,902 queries, but there are categories with less than 50 queries, such as “Lack of hot water supply by riser”, “Questions concerning intercom system”, “Suggestions and comments on the work of web pages”."
   ],
   "metadata": {
    "id": "uj64da7hJTDx"
   }
  },
  {
   "cell_type": "markdown",
   "source": [
    "#### Split data on test and train"
   ],
   "metadata": {
    "id": "LlOkPW0rYYi9"
   }
  },
  {
   "cell_type": "code",
   "source": [
    "X = df_uk[\"text\"]\n",
    "y = df_uk[\"category\"]\n",
    "X_train, X_test, y_train, y_test = train_test_split(X,y, test_size = 0.2, random_state = 108)"
   ],
   "metadata": {
    "id": "0GSHaQfAYcPi",
    "executionInfo": {
     "status": "ok",
     "timestamp": 1701079404781,
     "user_tz": -120,
     "elapsed": 298,
     "user": {
      "displayName": "Nataliia Volkova",
      "userId": "01298915722325512053"
     }
    }
   },
   "execution_count": 32,
   "outputs": []
  },
  {
   "cell_type": "code",
   "source": [
    "print(len(X_train), len(y_train))"
   ],
   "metadata": {
    "colab": {
     "base_uri": "https://localhost:8080/"
    },
    "id": "mRuJWafziY-O",
    "executionInfo": {
     "status": "ok",
     "timestamp": 1701079406784,
     "user_tz": -120,
     "elapsed": 279,
     "user": {
      "displayName": "Nataliia Volkova",
      "userId": "01298915722325512053"
     }
    },
    "outputId": "5fb31362-6523-46c5-ae14-f9ec9011de84"
   },
   "execution_count": 33,
   "outputs": [
    {
     "output_type": "stream",
     "name": "stdout",
     "text": [
      "44655 44655\n"
     ]
    }
   ]
  },
  {
   "cell_type": "markdown",
   "source": [
    "#### Baseline model"
   ],
   "metadata": {
    "id": "KRyj_S40waIr"
   }
  },
  {
   "cell_type": "code",
   "source": [
    "# TF-IDF Vectorization\n",
    "tfidf_vectorizer = TfidfVectorizer(max_features=5000)\n",
    "X_train_tfidf = tfidf_vectorizer.fit_transform(X_train)\n",
    "X_test_tfidf = tfidf_vectorizer.transform(X_test)"
   ],
   "metadata": {
    "id": "VxN6iNAXwd-U",
    "executionInfo": {
     "status": "ok",
     "timestamp": 1701079431530,
     "user_tz": -120,
     "elapsed": 9118,
     "user": {
      "displayName": "Nataliia Volkova",
      "userId": "01298915722325512053"
     }
    }
   },
   "execution_count": 35,
   "outputs": []
  },
  {
   "cell_type": "markdown",
   "source": [
    "##### LinearSCV"
   ],
   "metadata": {
    "id": "NzZS_sAZKiIw"
   }
  },
  {
   "cell_type": "code",
   "source": [
    "# Apply LinearSVC\n",
    "model = LinearSVC()\n",
    "model.fit(X_train_tfidf, y_train)\n",
    "y_pred = model.predict(X_test_tfidf)"
   ],
   "metadata": {
    "id": "haeKE3KMKyyt",
    "executionInfo": {
     "status": "ok",
     "timestamp": 1701079602493,
     "user_tz": -120,
     "elapsed": 25734,
     "user": {
      "displayName": "Nataliia Volkova",
      "userId": "01298915722325512053"
     }
    }
   },
   "execution_count": 39,
   "outputs": []
  },
  {
   "cell_type": "code",
   "source": [
    "print(classification_report(y_test, y_pred))"
   ],
   "metadata": {
    "colab": {
     "base_uri": "https://localhost:8080/"
    },
    "id": "yuuVjlAKPIRM",
    "executionInfo": {
     "status": "ok",
     "timestamp": 1701079603208,
     "user_tz": -120,
     "elapsed": 730,
     "user": {
      "displayName": "Nataliia Volkova",
      "userId": "01298915722325512053"
     }
    },
    "outputId": "f5c6dca3-a228-4d4a-d2c7-516bd631d45c"
   },
   "execution_count": 40,
   "outputs": [
    {
     "output_type": "stream",
     "name": "stderr",
     "text": [
      "/usr/local/lib/python3.10/dist-packages/sklearn/metrics/_classification.py:1344: UndefinedMetricWarning: Precision and F-score are ill-defined and being set to 0.0 in labels with no predicted samples. Use `zero_division` parameter to control this behavior.\n",
      "  _warn_prf(average, modifier, msg_start, len(result))\n"
     ]
    },
    {
     "output_type": "stream",
     "name": "stdout",
     "text": [
      "                                                                                    precision    recall  f1-score   support\n",
      "\n",
      "                                                                       Інші-Подяки       0.49      0.47      0.48        57\n",
      "                                                Інші-технічні-недоліки-стану-ліфту       0.50      0.52      0.51       128\n",
      "               Аварійний--травмонебезпечний-стан-утримання-об-єктів-благоустрою       0.15      0.12      0.14        40\n",
      "                                            Бажаючі-отримати--Картки-киянина--КК--       1.00      1.00      1.00         9\n",
      "                               Будівництво--дооблаштування-спортивних-майданчиків       0.58      0.44      0.50        16\n",
      "                                                                   Будівництво-АЗС       0.60      0.47      0.53        19\n",
      "                                                         Будівництво-в-нічний-час       0.83      0.42      0.56        12\n",
      "                                   Будівництво-дооблаштування-дитячого-майданчику       0.65      0.78      0.71       121\n",
      "                                      Будівництво-та-реконструкція-об-єктів-освіти       0.59      0.73      0.65        22\n",
      "                                                        Взаємовідносини-з-сусідами       0.70      0.44      0.54        16\n",
      "                            Вивезення--утилізація-твердих-та-негабаритних-відходів       0.00      0.00      0.00        13\n",
      "                                 Видалення-аварійних--пошкоджених-хворобами-дерев       0.59      0.65      0.62        51\n",
      "                                  Видача-розрахункових-книжок--квитанцій--довідок       0.54      0.32      0.40        22\n",
      "                                                        Вилов-безпритульних-тварин       0.79      0.92      0.85        24\n",
      "                                              Вирізування--кронування--гілля-дерев       0.30      0.22      0.25        37\n",
      "                                                  Виток-холодної-води-на-поверхню       1.00      0.27      0.42        15\n",
      "                                                       Вологе-прибирання-приміщень       0.64      0.63      0.64        82\n",
      "                                             Встановлення-лічильників-на-опалення-       0.67      0.86      0.75        66\n",
      "                                            Встановлення-огородження-зеленої-зони       0.38      0.47      0.42        47\n",
      "                                                             Встановлення-пандусів       0.65      0.73      0.69        30\n",
      "                                                           Встановлення-світлофора       0.75      0.62      0.68        39\n",
      "                 Встановлення-сигнальних-стовпчиків--бар-єрних-огороджень-бордюрів       0.36      0.33      0.34        46\n",
      "                             Встановлення-сміттєвих-контейнерів-та-урн-для-сміття       0.59      0.62      0.61        72\n",
      "                                                  Встановлення-та-демонтаж-лавочок       0.56      0.45      0.50        31\n",
      "                                      Встановлення-та-експлуатація-дорожніх-знаків       0.70      0.80      0.74        60\n",
      "                        Встановлення-та-експлуатація-лічильників-на-водопостачання       0.85      0.84      0.84        93\n",
      "            Встановлення-та-експлуатація-пристроїв-примусового-зниження-швидкості       0.63      0.79      0.70        33\n",
      "                                           Встановлення-та-експлуатація-шлагбаумів       0.45      0.56      0.50         9\n",
      " Відновлення-благоустрою-після-вик--планових-аварійних-робіт-на-об-єктах-благоуст       0.63      0.57      0.60       254\n",
      "                                                                      Відсутнє-ХВП       0.62      0.69      0.66       137\n",
      "                                                        Відсутнє-електропостачання       0.57      0.48      0.52        52\n",
      "                   Відсутній-тиск-ХВП-до---го-поверху-включно---Київводоканал---       0.75      0.22      0.34        27\n",
      "                       Відсутній-тиск-ХВП-з----го-поверху-включно---Київенерго--       0.31      0.39      0.35        23\n",
      "                                                                   Відсутність-ГВП       0.77      0.89      0.83      1165\n",
      "                                                         Відсутність-ГВП-по-стояку       0.00      0.00      0.00        12\n",
      "                Відсутність-відповіді-від-РДА--ГУ-та-інших-структурних-підрозділів       0.25      0.17      0.20        12\n",
      "                                  Відсутність-каналізаційних--водопровідних-люків       0.53      0.75      0.62        40\n",
      "               Відсутність-каналізаційних-люків-та-решіток-на-проїжджих-частинах       0.21      0.12      0.16        24\n",
      "                                                              Відсутність-опалення       0.71      0.81      0.76       558\n",
      "                                                    Відсутність-опалення-по-стояку       0.66      0.59      0.62       213\n",
      "                   Відсутність-опори-освітлення--не-передбачено-проектом-забудови-       0.17      0.08      0.11        13\n",
      "    Відсутність-освітлення-на-опорних-стовпах-за-відсутності-несправності-лампочок       0.43      0.48      0.45        90\n",
      "           Відсутність-освітлення-у-під-їзді-за-відсутності-несправності-лампочок       0.55      0.69      0.61       235\n",
      "                                               Відсутність-решіток-зливоприймачів       0.20      0.07      0.11        14\n",
      "                                                     ГЛ--Несанкціонована-торгівля-       0.70      0.84      0.76       169\n",
      "                                 Герметизація-міжпанельних-стиків--утеплення-стін-       0.60      0.44      0.51        27\n",
      "                                                           Голів-ОСББ--ЖБК--та-ін-       0.33      0.18      0.24        11\n",
      "                                   Графіті--написи-малюнки-на-об-єктах-благоустрою       0.56      0.47      0.51        19\n",
      "                 Демонтаж-окремо-розташованих-пунктів-прийому-вторинної-сировини       0.40      0.50      0.44         8\n",
      "                                      Демонтаж-рекламних-вивісок-з-опорних-стовпів       0.42      0.56      0.48        18\n",
      "                                         Демонтаж-рекламних-конструкцій-і-вивісок       0.57      0.56      0.57        93\n",
      "          Демонтаж-інших-об-єктів--що-входять-до-переліку-малих-архітектурних-форм       0.38      0.16      0.23        56\n",
      "                        Евакуація-безгосподарських--залишених-транспортних-засобів       0.71      0.67      0.69        30\n",
      "                                          Забруднення-повітря-від-невідомих-джерел       0.62      0.68      0.65        22\n",
      "                                            Завезення-піску-на-дитячий-майданчик       0.71      0.75      0.73        16\n",
      "                                          Заміна-та-експлуатація-поштових-скриньок       0.89      0.89      0.89        28\n",
      "                      Зберігання-транспортних-засобів--порушення-правил-паркування       0.41      0.37      0.39        19\n",
      "                                                Зменшення-інтервалу-руху-автобусів       0.80      0.73      0.76        11\n",
      "                                   Знищення-омели--амброзії-та-рослин---паразитів       0.93      0.85      0.88        59\n",
      "               Квитанція-на--сплату-житлово-комунальних-послуг--зовнішній-вигляд-       0.00      0.00      0.00        11\n",
      "                                                                 Коливання-напруги       0.83      0.63      0.72        46\n",
      "                                              Контроль-за-станом-рекламних-засобів       0.56      0.45      0.50        60\n",
      "                                Культура-обслуговування-пасажирів-маршрутних-таксі       0.79      0.92      0.85        12\n",
      "                                    Куріння-тютюнових-виробів-у-заборонених-місцях       0.67      0.50      0.57        12\n",
      "                     Миття-вікон--вітрин--вітражів--дзеркальних-поверхонь--дверей       0.65      0.79      0.71        19\n",
      "                                                     Нанесення-дорожньої-розмітки       0.78      0.62      0.70        64\n",
      "                                                                   Не-працює-бювет       0.86      0.90      0.88        42\n",
      "                                                        Не-працює-вантажний--ліфт       0.67      0.67      0.67        43\n",
      "                                                      Не-працює-пасажирський-ліфт       0.71      0.83      0.77       229\n",
      "                                                             Недостатній-тиск-ГВП       0.44      0.42      0.43        19\n",
      "                                    Незадовільна-освітленість-в-приміщеннях-ліфтів       0.71      0.42      0.53        12\n",
      "                                        Незадовільна-робота-рушникосушарок-від-ГВП       0.36      0.24      0.29        21\n",
      "                                                      Незадовільна-температура-ГВП       0.66      0.65      0.66       200\n",
      "                                                 Незадовільна-температура-опалення       0.50      0.53      0.52        86\n",
      "                 Незадовільне-обслуговування-в-амбулаторно-поліклінічних-установах       0.92      0.70      0.79        33\n",
      "                Незадовільне-розташування-сміттєвих-контейнерів-та-урн-для-сміття       0.63      0.70      0.67        37\n",
      "                      Незадовільний-вивіз-сміття-з-контейнерів-та-урн-для-сміття       0.72      0.73      0.72        70\n",
      "                                             Незадовільний-санітарний-стан-ліфту       0.56      0.45      0.50        20\n",
      "                                   Незадовільний-стан-кнопок-виклику-наказу-ліфту       0.69      0.55      0.61        33\n",
      "                                          Незадовільний-стан-опори-для-освітлення       0.54      0.35      0.42        20\n",
      "                        Незадовільний-стан-сміттєвих-контейнерів--урн-для-сміття       0.75      0.15      0.25        20\n",
      "     Незручності-від-вивозу-сміття-з-контейнерів-та-урн-для-сміття-у-нічні-години       0.57      0.40      0.47        10\n",
      "                                    Незручності-від-промислових-та-побутових-шумів       0.33      0.22      0.27         9\n",
      "                   Незручності-від-розташування-холодильників--лотків-біля-кіосків       0.55      0.38      0.44        16\n",
      "  Незручності-для-проживання-мешканців-від-роботи-закладів-торгівлі-та-ресторанног       0.43      0.39      0.41        33\n",
      "                                             Несправність-системи-диспетчеризації       0.75      0.30      0.43        10\n",
      "                                                                      Неякісне-ХВП       0.80      0.57      0.67        14\n",
      "                                       Облаштування-наземного-пішохідного-переходу       0.63      0.55      0.59        31\n",
      "                            Облаштування-прилеглої-території-навчальних-закладів       0.67      0.27      0.38        15\n",
      "                                         Обслуговування-димовентиляційних-каналів       0.86      0.30      0.44        20\n",
      "                       Обслуговування-та-технічний-стан-каналізаційних-колодязів       0.33      0.21      0.26        29\n",
      "                                      Оголені-кабелі-у-приміщенні-та-на-території       0.67      0.36      0.47        11\n",
      "                                                     Опалення-на-сходових-клітинах       0.83      0.38      0.53        13\n",
      "                                   Організація-та-проведення-продовольчих-ярмарків       0.84      0.80      0.82        20\n",
      "                                      Освітлення-в-приміщенні-й-при-вході-в-нього       0.41      0.39      0.40       127\n",
      "                    Освітлення-магістралей--проїжджих-частин--та-вулиць-м--Києва       0.47      0.39      0.43        23\n",
      "                                                    Освітлення-підземних-переходів       0.83      0.62      0.71        16\n",
      "                        Паркування-авто-на-зеленій-зоні-прибудинкової-території       0.00      0.00      0.00        11\n",
      "                                      Паркування-авто-на-прибудинковій-території       0.48      0.32      0.38        41\n",
      "                                  Паркування-авто-у-місцях-загального-користування       0.48      0.39      0.43        80\n",
      "                      Паркування-на-зеленій-зоні-у-місцях-загального-користування       0.75      0.27      0.40        11\n",
      "                                                        Перебої-електропостачання       0.61      0.50      0.55        54\n",
      "                         Перебудова-квартир--балконів--дверей--горищ-та-підвалів-       0.25      0.12      0.17        16\n",
      "     Перевірка-дозвільної-документації--демонтаж-воріт--огорожі--паркану--забору       0.41      0.42      0.42        33\n",
      "                     Перевірка-дозвільної-документації--демонтаж-кіосків--ларків       0.77      0.85      0.81       408\n",
      "Перевірка-дозвільної-документації--демонтаж-літніх-майданчиків-кафе--ресторанів       0.80      0.80      0.80        61\n",
      "         Перевірка-дозвільної-документації--демонтаж-окремо-розташованих-гаражів       0.67      0.50      0.57        12\n",
      "    Перевірка-дозвільної-документації--демонтаж-торгових-палаток--пивних-наметів       0.00      0.00      0.00        10\n",
      "                                               Перевірка-законності-знищення-дерев       0.30      0.30      0.30        10\n",
      "                       Перевірка-наявності-дозволів-на-виконання-будівельних-робіт       0.57      0.72      0.64       116\n",
      "                         Перерахунок--нарахування-плати-та-боргу-за-газопостачання       0.50      0.42      0.45        12\n",
      "                                              Перерахунок-плати-за-відсутність-ГВП       0.56      0.14      0.23        35\n",
      "                                         Перерахунок-плати-за-відсутність-опалення       0.20      0.04      0.07        23\n",
      "                                 Перерахунок-плати-за-незадовільну-температуру-ГВП       0.20      0.05      0.07        22\n",
      "          Перерахунок-та-нарахування-плати-за-інші-види-житлово-комунальних-послуг       0.55      0.65      0.59       233\n",
      "                             Питання--що-виникають-до-початку-опалювального-сезону       0.00      0.00      0.00        23\n",
      "                                        Питання--що-стосуються-домофонної-системи       0.50      0.75      0.60         4\n",
      "                            Питання--що-стосуються-завершення-опалювального-сезону       0.61      0.67      0.64        21\n",
      "                                Питання-нарахування-плати-за-ЦО--розрахунки-за-ЦО-       0.50      0.12      0.19        26\n",
      "                                             Питання-освітлення-на-опорних-стовпах       0.47      0.40      0.43       101\n",
      "                                                             Подяки-двірникам-ЖЕКу       0.83      0.62      0.71        16\n",
      "                                                   Подяки-загалом-працівникам-ЖЕКу       0.33      0.16      0.22        31\n",
      "                    Покинуті-будівлі--споруди--будівельні-матеріали-і-конструкції       0.50      0.35      0.41        23\n",
      "                              Полив-клумб-і-газонів--дерев--кущів--зелених-газонів       0.69      0.53      0.60        17\n",
      "                                                  Порив-труб-у-квартирі-чи-будинку       0.20      0.16      0.18        25\n",
      "                                               Порив-труб-у-підвальному-приміщенні       0.51      0.38      0.44        52\n",
      "                     Порушення-встановлених-законодавством-вимог-пожежної-безпеки       0.50      0.43      0.46         7\n",
      "    Порушення-правил-виконання--ор-ції--будівельних-робіт-на-об-єктах-благоустрою       0.36      0.21      0.27        19\n",
      "                                                  Порушення-правил-дорожнього-руху       0.50      0.36      0.42        11\n",
      "                                               Порушення-правил-тиші--після-------       0.53      0.40      0.45        25\n",
      "                                    Правила-торговельного-обслуговування-населення       0.44      0.24      0.31        17\n",
      "                                            Претензії-та-зауваження-до-Начальника       0.00      0.00      0.00        14\n",
      "           Претензії-та-зауваження-до-Обслуговуючого-персоналу--двірники-й-т-п--       0.12      0.06      0.08        18\n",
      "                          Прибирання-дерев--гілок--листя-з-закріпленої-території       0.64      0.44      0.52        32\n",
      "   Прибирання-льодяного-покрову-на-прибудинковій-території--вулицях-та-тротуарах       0.75      0.25      0.38        12\n",
      "                                                              Прибирання-приміщень       0.55      0.58      0.56       138\n",
      "               Прибирання-снігу-на-прибудинковій-території--вулицях-та-тротуарах       0.71      0.88      0.79        17\n",
      "                                         Прибирання-та-санітарний-стан-територій       0.58      0.68      0.62       342\n",
      "                        Прийняття-в-експлуатацію-закінчених-будівництвом-об-єктів       0.60      0.60      0.60        10\n",
      "                                                     Про-розгляд-звернень-громадян       0.30      0.33      0.31       178\n",
      "                                                           Проведення-дезинсекції       0.83      0.58      0.68        26\n",
      "                                                           Проведення-дератизації       0.53      0.50      0.51        36\n",
      "                         Проведення-капітального-ремонту-у-будинку--реконструкція-       0.00      0.00      0.00        24\n",
      "                                       Проведення-косметичного-ремонту-у-під-їзді       0.00      0.00      0.00         9\n",
      "                                             Проведення-модернізації-заміни-ліфту       0.32      0.18      0.23        38\n",
      " Пропозиції--зауваження--щодо-роботи-web-сторінки-КБУ--Контактний-центр-м-Києва-       0.50      0.11      0.18         9\n",
      "        Пропозиції-та-запитання-щодо-удосконалення-роботи-громадського-транспорту       0.64      0.56      0.60        25\n",
      "                                                    Раціоналізаторські-пропозиції       0.00      0.00      0.00        12\n",
      "                               Ремонт--реконструкція-приміщень-навчальних-закладів       0.56      0.43      0.49        21\n",
      "                                     Ремонт-або-демонтаж-огородження-зеленої-зони       0.69      0.62      0.65        29\n",
      "                                                                      Ремонт-дахів       0.68      0.87      0.76       112\n",
      "                         Ремонт-демонтаж-фарбування-елементів-дитячого-майданчику       0.12      0.06      0.08        17\n",
      "                                                                 Ремонт-під-їзду-       0.55      0.68      0.61       213\n",
      "                                                  Ремонт-та-заміна-вхідних-дверей       0.75      0.48      0.59        31\n",
      "                                                  Ремонт-та-заміна-електроприладів       0.54      0.31      0.39        45\n",
      "                                         Ремонт-та-обслуговування-водостічних-труб       0.73      0.47      0.57        17\n",
      "                                         Ремонт-та-обслуговування-зливневих-стоків       0.48      0.36      0.41        42\n",
      "                            Ремонт-та-обслуговування-конструкцій-фризу--козирок--       0.00      0.00      0.00         9\n",
      "                                                   Ремонт-та-обслуговування-ґанків       0.39      0.33      0.36        27\n",
      "                                                     Ремонт-теплотрас--підключення       0.67      0.17      0.27        24\n",
      "                                                             Ремонт-фасаду-будинку       0.58      0.46      0.51        39\n",
      "            Ремонт-і-обслуговування-сміттєпроводів-та-сміттєзбірників-в-приміщенні       0.56      0.65      0.60        37\n",
      "                                                                 Робота-світлофора       0.81      0.88      0.84        76\n",
      "                                                    Робота-циркуляційної-системи       0.48      0.31      0.38        70\n",
      "                                              Розміщення-паркувальних-майданчиків       0.43      0.31      0.36        29\n",
      "                                  Розрахунки--нарахування-та-перерахунок-субсидій       0.77      0.71      0.74        14\n",
      "                                                       Садіння-нових-дерев-і-кущів       0.59      0.50      0.54        26\n",
      "                                                Санітарний-стан-проїжджих-частин       0.56      0.42      0.48        12\n",
      "                                     Скління-та-ремонт-вікон-на-сходових-клітинах-       0.73      0.74      0.73        69\n",
      "                                                                  Скошування-трави       0.62      0.62      0.62         8\n",
      "                                  Спалювання-сміття--листя--гілок--відходів--тощо-       0.67      0.31      0.42        13\n",
      "                           Стан-зливосточних-систем-проїжджих-частин-та-тротуарів       0.50      0.18      0.27        11\n",
      "                                                           Стихійне-сміттєзвалище       0.61      0.55      0.57        84\n",
      "  Технічне-обслуговування-систем-тепло---водопостачання-та-водовідведення-і-зливов       0.27      0.26      0.26        80\n",
      "                                           Технічний-стан-мостів-та-шляхопроводів       0.20      0.14      0.17         7\n",
      "                             Технічний-стан-проїжджих-частин-вулиць-та-тротуарів       0.47      0.43      0.45       244\n",
      "                                    Технічний-стан-підземних-пішохідних-переходів       0.67      0.71      0.69        42\n",
      "                     Технічний-стан-пішохідниїх-доріжок--сходів-з-бетону--гравію       0.58      0.41      0.48        17\n",
      "                                        Удосконалення-організації-дорожнього-руху       0.55      0.56      0.55        32\n",
      "                                Укладання-договорів-з-обслуговуючими-організаціями       0.50      0.38      0.43        16\n",
      "                                          Укладання-та-ремонт-асфальтного-покриття       0.62      0.79      0.69       643\n",
      "                                 Укладання-та-ремонт-тротуарної-плитки--брущатки-       0.63      0.45      0.52        38\n",
      "                                    Укладання-та-технічний-стан-бордюрного-каменю       0.46      0.46      0.46        13\n",
      "     Утримання-номерних-знаків-і-табличок-з-назвами-вулиць-на-будинках--і-спорудах       0.86      0.35      0.50        17\n",
      "                                      Утримання-парків-та-лісопарків-у-місті-Києві       0.37      0.41      0.39        49\n",
      "                                 Утримання-підвалів--колясочних-технічних-поверхів       0.53      0.53      0.53       116\n",
      "                                        Утримання-та-облаштування-клумб-та-газонів       0.44      0.27      0.33        41\n",
      "                         Утримання-інформаційних-дошок-та--розклеювання-оголошень       0.80      0.47      0.59        17\n",
      "\n",
      "                                                                          accuracy                           0.62     11164\n",
      "                                                                         macro avg       0.54      0.46      0.48     11164\n",
      "                                                                      weighted avg       0.60      0.62      0.60     11164\n"
     ]
    },
    {
     "output_type": "stream",
     "name": "stderr",
     "text": [
      "/usr/local/lib/python3.10/dist-packages/sklearn/metrics/_classification.py:1344: UndefinedMetricWarning: Precision and F-score are ill-defined and being set to 0.0 in labels with no predicted samples. Use `zero_division` parameter to control this behavior.\n",
      "  _warn_prf(average, modifier, msg_start, len(result))\n",
      "/usr/local/lib/python3.10/dist-packages/sklearn/metrics/_classification.py:1344: UndefinedMetricWarning: Precision and F-score are ill-defined and being set to 0.0 in labels with no predicted samples. Use `zero_division` parameter to control this behavior.\n",
      "  _warn_prf(average, modifier, msg_start, len(result))\n"
     ]
    }
   ]
  },
  {
   "cell_type": "markdown",
   "source": [
    "Using LinearSCV, we achieved a weighted  avg of 60% and a macro average F1 of 48%. \n",
    "Analyzing the classification report, we see that some categories are very poorly detected as “Технічний-стан-мостів-та-шляхопроводів”, “Стан-зливосточних-систем-проїжджих-частин-та-тротуарів”, “Ремонт-теплотрас--підключення”, \"Ремонт-демонтаж-фарбування-елементів-дитячого-майданчику” and \"Раціоналізаторські-пропозиції\".\n",
    "\n",
    "Possible reasons:\n",
    "- the data is noisy\n",
    "- there is too little data in some categories for the classifier to classify correctly\n",
    "- data in some categories may overlap"
   ],
   "metadata": {
    "id": "wPhH91xKPJcj"
   }
  },
  {
   "cell_type": "markdown",
   "source": [
    "#### Clean the text\n",
    "\n",
    "- remove unnecessary symbols\n",
    "- remove stop words\n",
    "- remove words that are not in the dictionary\n",
    "- lemmatize words\n",
    "- remove greetings and words that denote the filing of a complaint. Because these phrases make complaints sound similar, even in different categories."
   ],
   "metadata": {
    "id": "i2iDy21PVfCY"
   }
  },
  {
   "cell_type": "code",
   "source": [
    "# Cleaning the text with regular expression\n",
    "def process_text(input):\n",
    "    if isinstance(input, str):\n",
    "        input = \" \".join(tokenize.sent_tokenize(input))\n",
    "        input = re.sub(r\"http\\S+\", \"\", input)\n",
    "        input = re.sub(r'[^\\w\\s]', \"\", input)\n",
    "        input = re.sub(r\"#\\S+\", \"\", input)\n",
    "        input = re.sub(r'\\d', '', input)\n",
    "        input = input.strip()\n",
    "        input = input.lower()  # Lower text\n",
    "    return input"
   ],
   "metadata": {
    "id": "f6CClK16oZ2N",
    "executionInfo": {
     "status": "ok",
     "timestamp": 1701080254773,
     "user_tz": -120,
     "elapsed": 294,
     "user": {
      "displayName": "Nataliia Volkova",
      "userId": "01298915722325512053"
     }
    }
   },
   "execution_count": 43,
   "outputs": []
  },
  {
   "cell_type": "code",
   "source": [
    "df_uk[\"text\"] = df_uk[\"text\"].apply(process_text)"
   ],
   "metadata": {
    "colab": {
     "base_uri": "https://localhost:8080/"
    },
    "id": "ghIyvStmwYC6",
    "executionInfo": {
     "status": "ok",
     "timestamp": 1701080608502,
     "user_tz": -120,
     "elapsed": 9028,
     "user": {
      "displayName": "Nataliia Volkova",
      "userId": "01298915722325512053"
     }
    },
    "outputId": "88b34c3d-b5ac-4a90-8377-478946e96279"
   },
   "execution_count": 44,
   "outputs": [
    {
     "output_type": "stream",
     "name": "stderr",
     "text": [
      "<ipython-input-44-387e66a661a0>:1: SettingWithCopyWarning: \n",
      "A value is trying to be set on a copy of a slice from a DataFrame.\n",
      "Try using .loc[row_indexer,col_indexer] = value instead\n",
      "\n",
      "See the caveats in the documentation: https://pandas.pydata.org/pandas-docs/stable/user_guide/indexing.html#returning-a-view-versus-a-copy\n",
      "  df_uk[\"text\"] = df_uk[\"text\"].apply(process_text)\n"
     ]
    }
   ]
  },
  {
   "cell_type": "code",
   "source": [
    "# Remove stop words, remove words that do not have vectors, lematize text\n",
    "nlp = spacy.load(\"uk_core_news_sm\")\n",
    "def lemmatize_and_filter(text):\n",
    "    doc = nlp(text)\n",
    "    # Exclude specific lemmatized tokens\n",
    "    excluded_tokens = [\"добрий\", \"день\", \"ранок\", \"вечір\", \"просити\", \"прохання\", \"пропозиція\", \"вживати\", \"заходи\", \"прийняти\", \"міра\", \"скарга\", \"жалоба\"]\n",
    "\n",
    "    lemmatized_tokens = [token.lemma_ for token in doc if token.has_vector and not token.is_stop and token.lemma_ not in excluded_tokens]\n",
    "    lemmatized_text = ' '.join(lemmatized_tokens).replace(',', '')\n",
    "\n",
    "    return lemmatized_text"
   ],
   "metadata": {
    "id": "jyOSXrv4Tiuh",
    "executionInfo": {
     "status": "ok",
     "timestamp": 1701096660520,
     "user_tz": -120,
     "elapsed": 2248,
     "user": {
      "displayName": "Nataliia Volkova",
      "userId": "01298915722325512053"
     }
    }
   },
   "execution_count": 169,
   "outputs": []
  },
  {
   "cell_type": "code",
   "source": [
    "# Apply the lemmatization function to the 'Clean' column\n",
    "df_uk['lemmatized_text'] = df_uk['text'].progress_apply(lemmatize_and_filter)"
   ],
   "metadata": {
    "id": "XIDCd9KWTVQ5",
    "colab": {
     "base_uri": "https://localhost:8080/"
    },
    "executionInfo": {
     "status": "ok",
     "timestamp": 1701088323411,
     "user_tz": -120,
     "elapsed": 1459963,
     "user": {
      "displayName": "Nataliia Volkova",
      "userId": "01298915722325512053"
     }
    },
    "outputId": "1f9f5777-3ee7-45df-e4d8-10a1b8a19ff7"
   },
   "execution_count": 81,
   "outputs": [
    {
     "output_type": "stream",
     "name": "stderr",
     "text": [
      "100%|██████████| 55819/55819 [24:19<00:00, 38.24it/s]\n"
     ]
    }
   ]
  },
  {
   "cell_type": "code",
   "source": [
    "df_uk.head(5)"
   ],
   "metadata": {
    "colab": {
     "base_uri": "https://localhost:8080/",
     "height": 379
    },
    "id": "qUKzQWlCiDxE",
    "executionInfo": {
     "status": "ok",
     "timestamp": 1701088323411,
     "user_tz": -120,
     "elapsed": 21,
     "user": {
      "displayName": "Nataliia Volkova",
      "userId": "01298915722325512053"
     }
    },
    "outputId": "4fbf54d7-1ac1-4f74-b026-c1f4afe71ef4"
   },
   "execution_count": 82,
   "outputs": [
    {
     "output_type": "execute_result",
     "data": {
      "text/plain": [
       "  complains_id                                               text  \\\n",
       "0      2759352  біля сміттєзбірника накопичилася велика куча б...   \n",
       "1      2745387  напроти будинку  вул бестужева  поблизу сміттє...   \n",
       "2      3071282  утримання прибудинкової території у незадовіль...   \n",
       "4      3423381  прошу приняти міри стосовно сміття яке залишил...   \n",
       "5      3048268  просимо вас прийняти адміністративні заходи до...   \n",
       "\n",
       "                                            category  category_id language  \\\n",
       "0  Вивезення--утилізація-твердих-та-негабаритних-...            0       uk   \n",
       "1  Вивезення--утилізація-твердих-та-негабаритних-...            0       uk   \n",
       "2  Вивезення--утилізація-твердих-та-негабаритних-...            0       uk   \n",
       "4  Вивезення--утилізація-твердих-та-негабаритних-...            0       uk   \n",
       "5  Вивезення--утилізація-твердих-та-негабаритних-...            0       uk   \n",
       "\n",
       "                                     lemmatized_text  \n",
       "0  сміттєзбірник накопичитися великий куча будіве...  \n",
       "1  напроти будинок   вул бестужева   поблизу сміт...  \n",
       "2  утримання прибудинковий територія незадовільни...  \n",
       "4  приняти стосовно сміття який залишити робітник...  \n",
       "5  адміністративний захід мешканець будинок номер...  "
      ],
      "text/html": [
       "\n",
       "  <div id=\"df-a02101fb-b79c-4f78-8571-07ef33d5017a\" class=\"colab-df-container\">\n",
       "    <div>\n",
       "<style scoped>\n",
       "    .dataframe tbody tr th:only-of-type {\n",
       "        vertical-align: middle;\n",
       "    }\n",
       "\n",
       "    .dataframe tbody tr th {\n",
       "        vertical-align: top;\n",
       "    }\n",
       "\n",
       "    .dataframe thead th {\n",
       "        text-align: right;\n",
       "    }\n",
       "</style>\n",
       "<table border=\"1\" class=\"dataframe\">\n",
       "  <thead>\n",
       "    <tr style=\"text-align: right;\">\n",
       "      <th></th>\n",
       "      <th>complains_id</th>\n",
       "      <th>text</th>\n",
       "      <th>category</th>\n",
       "      <th>category_id</th>\n",
       "      <th>language</th>\n",
       "      <th>lemmatized_text</th>\n",
       "    </tr>\n",
       "  </thead>\n",
       "  <tbody>\n",
       "    <tr>\n",
       "      <th>0</th>\n",
       "      <td>2759352</td>\n",
       "      <td>біля сміттєзбірника накопичилася велика куча б...</td>\n",
       "      <td>Вивезення--утилізація-твердих-та-негабаритних-...</td>\n",
       "      <td>0</td>\n",
       "      <td>uk</td>\n",
       "      <td>сміттєзбірник накопичитися великий куча будіве...</td>\n",
       "    </tr>\n",
       "    <tr>\n",
       "      <th>1</th>\n",
       "      <td>2745387</td>\n",
       "      <td>напроти будинку  вул бестужева  поблизу сміттє...</td>\n",
       "      <td>Вивезення--утилізація-твердих-та-негабаритних-...</td>\n",
       "      <td>0</td>\n",
       "      <td>uk</td>\n",
       "      <td>напроти будинок   вул бестужева   поблизу сміт...</td>\n",
       "    </tr>\n",
       "    <tr>\n",
       "      <th>2</th>\n",
       "      <td>3071282</td>\n",
       "      <td>утримання прибудинкової території у незадовіль...</td>\n",
       "      <td>Вивезення--утилізація-твердих-та-негабаритних-...</td>\n",
       "      <td>0</td>\n",
       "      <td>uk</td>\n",
       "      <td>утримання прибудинковий територія незадовільни...</td>\n",
       "    </tr>\n",
       "    <tr>\n",
       "      <th>4</th>\n",
       "      <td>3423381</td>\n",
       "      <td>прошу приняти міри стосовно сміття яке залишил...</td>\n",
       "      <td>Вивезення--утилізація-твердих-та-негабаритних-...</td>\n",
       "      <td>0</td>\n",
       "      <td>uk</td>\n",
       "      <td>приняти стосовно сміття який залишити робітник...</td>\n",
       "    </tr>\n",
       "    <tr>\n",
       "      <th>5</th>\n",
       "      <td>3048268</td>\n",
       "      <td>просимо вас прийняти адміністративні заходи до...</td>\n",
       "      <td>Вивезення--утилізація-твердих-та-негабаритних-...</td>\n",
       "      <td>0</td>\n",
       "      <td>uk</td>\n",
       "      <td>адміністративний захід мешканець будинок номер...</td>\n",
       "    </tr>\n",
       "  </tbody>\n",
       "</table>\n",
       "</div>\n",
       "    <div class=\"colab-df-buttons\">\n",
       "\n",
       "  <div class=\"colab-df-container\">\n",
       "    <button class=\"colab-df-convert\" onclick=\"convertToInteractive('df-a02101fb-b79c-4f78-8571-07ef33d5017a')\"\n",
       "            title=\"Convert this dataframe to an interactive table.\"\n",
       "            style=\"display:none;\">\n",
       "\n",
       "  <svg xmlns=\"http://www.w3.org/2000/svg\" height=\"24px\" viewBox=\"0 -960 960 960\">\n",
       "    <path d=\"M120-120v-720h720v720H120Zm60-500h600v-160H180v160Zm220 220h160v-160H400v160Zm0 220h160v-160H400v160ZM180-400h160v-160H180v160Zm440 0h160v-160H620v160ZM180-180h160v-160H180v160Zm440 0h160v-160H620v160Z\"/>\n",
       "  </svg>\n",
       "    </button>\n",
       "\n",
       "  <style>\n",
       "    .colab-df-container {\n",
       "      display:flex;\n",
       "      gap: 12px;\n",
       "    }\n",
       "\n",
       "    .colab-df-convert {\n",
       "      background-color: #E8F0FE;\n",
       "      border: none;\n",
       "      border-radius: 50%;\n",
       "      cursor: pointer;\n",
       "      display: none;\n",
       "      fill: #1967D2;\n",
       "      height: 32px;\n",
       "      padding: 0 0 0 0;\n",
       "      width: 32px;\n",
       "    }\n",
       "\n",
       "    .colab-df-convert:hover {\n",
       "      background-color: #E2EBFA;\n",
       "      box-shadow: 0px 1px 2px rgba(60, 64, 67, 0.3), 0px 1px 3px 1px rgba(60, 64, 67, 0.15);\n",
       "      fill: #174EA6;\n",
       "    }\n",
       "\n",
       "    .colab-df-buttons div {\n",
       "      margin-bottom: 4px;\n",
       "    }\n",
       "\n",
       "    [theme=dark] .colab-df-convert {\n",
       "      background-color: #3B4455;\n",
       "      fill: #D2E3FC;\n",
       "    }\n",
       "\n",
       "    [theme=dark] .colab-df-convert:hover {\n",
       "      background-color: #434B5C;\n",
       "      box-shadow: 0px 1px 3px 1px rgba(0, 0, 0, 0.15);\n",
       "      filter: drop-shadow(0px 1px 2px rgba(0, 0, 0, 0.3));\n",
       "      fill: #FFFFFF;\n",
       "    }\n",
       "  </style>\n",
       "\n",
       "    <script>\n",
       "      const buttonEl =\n",
       "        document.querySelector('#df-a02101fb-b79c-4f78-8571-07ef33d5017a button.colab-df-convert');\n",
       "      buttonEl.style.display =\n",
       "        google.colab.kernel.accessAllowed ? 'block' : 'none';\n",
       "\n",
       "      async function convertToInteractive(key) {\n",
       "        const element = document.querySelector('#df-a02101fb-b79c-4f78-8571-07ef33d5017a');\n",
       "        const dataTable =\n",
       "          await google.colab.kernel.invokeFunction('convertToInteractive',\n",
       "                                                    [key], {});\n",
       "        if (!dataTable) return;\n",
       "\n",
       "        const docLinkHtml = 'Like what you see? Visit the ' +\n",
       "          '<a target=\"_blank\" href=https://colab.research.google.com/notebooks/data_table.ipynb>data table notebook</a>'\n",
       "          + ' to learn more about interactive tables.';\n",
       "        element.innerHTML = '';\n",
       "        dataTable['output_type'] = 'display_data';\n",
       "        await google.colab.output.renderOutput(dataTable, element);\n",
       "        const docLink = document.createElement('div');\n",
       "        docLink.innerHTML = docLinkHtml;\n",
       "        element.appendChild(docLink);\n",
       "      }\n",
       "    </script>\n",
       "  </div>\n",
       "\n",
       "\n",
       "<div id=\"df-214b40b9-9cb7-4605-ae8f-dd68f7dcf0b3\">\n",
       "  <button class=\"colab-df-quickchart\" onclick=\"quickchart('df-214b40b9-9cb7-4605-ae8f-dd68f7dcf0b3')\"\n",
       "            title=\"Suggest charts\"\n",
       "            style=\"display:none;\">\n",
       "\n",
       "<svg xmlns=\"http://www.w3.org/2000/svg\" height=\"24px\"viewBox=\"0 0 24 24\"\n",
       "     width=\"24px\">\n",
       "    <g>\n",
       "        <path d=\"M19 3H5c-1.1 0-2 .9-2 2v14c0 1.1.9 2 2 2h14c1.1 0 2-.9 2-2V5c0-1.1-.9-2-2-2zM9 17H7v-7h2v7zm4 0h-2V7h2v10zm4 0h-2v-4h2v4z\"/>\n",
       "    </g>\n",
       "</svg>\n",
       "  </button>\n",
       "\n",
       "<style>\n",
       "  .colab-df-quickchart {\n",
       "      --bg-color: #E8F0FE;\n",
       "      --fill-color: #1967D2;\n",
       "      --hover-bg-color: #E2EBFA;\n",
       "      --hover-fill-color: #174EA6;\n",
       "      --disabled-fill-color: #AAA;\n",
       "      --disabled-bg-color: #DDD;\n",
       "  }\n",
       "\n",
       "  [theme=dark] .colab-df-quickchart {\n",
       "      --bg-color: #3B4455;\n",
       "      --fill-color: #D2E3FC;\n",
       "      --hover-bg-color: #434B5C;\n",
       "      --hover-fill-color: #FFFFFF;\n",
       "      --disabled-bg-color: #3B4455;\n",
       "      --disabled-fill-color: #666;\n",
       "  }\n",
       "\n",
       "  .colab-df-quickchart {\n",
       "    background-color: var(--bg-color);\n",
       "    border: none;\n",
       "    border-radius: 50%;\n",
       "    cursor: pointer;\n",
       "    display: none;\n",
       "    fill: var(--fill-color);\n",
       "    height: 32px;\n",
       "    padding: 0;\n",
       "    width: 32px;\n",
       "  }\n",
       "\n",
       "  .colab-df-quickchart:hover {\n",
       "    background-color: var(--hover-bg-color);\n",
       "    box-shadow: 0 1px 2px rgba(60, 64, 67, 0.3), 0 1px 3px 1px rgba(60, 64, 67, 0.15);\n",
       "    fill: var(--button-hover-fill-color);\n",
       "  }\n",
       "\n",
       "  .colab-df-quickchart-complete:disabled,\n",
       "  .colab-df-quickchart-complete:disabled:hover {\n",
       "    background-color: var(--disabled-bg-color);\n",
       "    fill: var(--disabled-fill-color);\n",
       "    box-shadow: none;\n",
       "  }\n",
       "\n",
       "  .colab-df-spinner {\n",
       "    border: 2px solid var(--fill-color);\n",
       "    border-color: transparent;\n",
       "    border-bottom-color: var(--fill-color);\n",
       "    animation:\n",
       "      spin 1s steps(1) infinite;\n",
       "  }\n",
       "\n",
       "  @keyframes spin {\n",
       "    0% {\n",
       "      border-color: transparent;\n",
       "      border-bottom-color: var(--fill-color);\n",
       "      border-left-color: var(--fill-color);\n",
       "    }\n",
       "    20% {\n",
       "      border-color: transparent;\n",
       "      border-left-color: var(--fill-color);\n",
       "      border-top-color: var(--fill-color);\n",
       "    }\n",
       "    30% {\n",
       "      border-color: transparent;\n",
       "      border-left-color: var(--fill-color);\n",
       "      border-top-color: var(--fill-color);\n",
       "      border-right-color: var(--fill-color);\n",
       "    }\n",
       "    40% {\n",
       "      border-color: transparent;\n",
       "      border-right-color: var(--fill-color);\n",
       "      border-top-color: var(--fill-color);\n",
       "    }\n",
       "    60% {\n",
       "      border-color: transparent;\n",
       "      border-right-color: var(--fill-color);\n",
       "    }\n",
       "    80% {\n",
       "      border-color: transparent;\n",
       "      border-right-color: var(--fill-color);\n",
       "      border-bottom-color: var(--fill-color);\n",
       "    }\n",
       "    90% {\n",
       "      border-color: transparent;\n",
       "      border-bottom-color: var(--fill-color);\n",
       "    }\n",
       "  }\n",
       "</style>\n",
       "\n",
       "  <script>\n",
       "    async function quickchart(key) {\n",
       "      const quickchartButtonEl =\n",
       "        document.querySelector('#' + key + ' button');\n",
       "      quickchartButtonEl.disabled = true;  // To prevent multiple clicks.\n",
       "      quickchartButtonEl.classList.add('colab-df-spinner');\n",
       "      try {\n",
       "        const charts = await google.colab.kernel.invokeFunction(\n",
       "            'suggestCharts', [key], {});\n",
       "      } catch (error) {\n",
       "        console.error('Error during call to suggestCharts:', error);\n",
       "      }\n",
       "      quickchartButtonEl.classList.remove('colab-df-spinner');\n",
       "      quickchartButtonEl.classList.add('colab-df-quickchart-complete');\n",
       "    }\n",
       "    (() => {\n",
       "      let quickchartButtonEl =\n",
       "        document.querySelector('#df-214b40b9-9cb7-4605-ae8f-dd68f7dcf0b3 button');\n",
       "      quickchartButtonEl.style.display =\n",
       "        google.colab.kernel.accessAllowed ? 'block' : 'none';\n",
       "    })();\n",
       "  </script>\n",
       "</div>\n",
       "    </div>\n",
       "  </div>\n"
      ]
     },
     "metadata": {},
     "execution_count": 82
    }
   ]
  },
  {
   "cell_type": "markdown",
   "source": [
    "#### Improve LinearSCV"
   ],
   "metadata": {
    "id": "xOaq657nrYG0"
   }
  },
  {
   "cell_type": "code",
   "source": [
    "X = df_uk[\"lemmatized_text\"]\n",
    "y = df_uk[\"category\"]\n",
    "X_train, X_test, y_train, y_test = train_test_split(X, y, test_size = 0.2, random_state=108)"
   ],
   "metadata": {
    "id": "TdwsbogLranm",
    "executionInfo": {
     "status": "ok",
     "timestamp": 1701090130901,
     "user_tz": -120,
     "elapsed": 393,
     "user": {
      "displayName": "Nataliia Volkova",
      "userId": "01298915722325512053"
     }
    }
   },
   "execution_count": 102,
   "outputs": []
  },
  {
   "cell_type": "code",
   "source": [
    "# TF-IDF Vectorization\n",
    "tfidf_vectorizer = TfidfVectorizer(max_features=5000)\n",
    "X_train_tfidf = tfidf_vectorizer.fit_transform(X_train)\n",
    "X_test_tfidf = tfidf_vectorizer.transform(X_test)"
   ],
   "metadata": {
    "id": "1tG_k74jtP3v",
    "executionInfo": {
     "status": "ok",
     "timestamp": 1701090134876,
     "user_tz": -120,
     "elapsed": 3049,
     "user": {
      "displayName": "Nataliia Volkova",
      "userId": "01298915722325512053"
     }
    }
   },
   "execution_count": 103,
   "outputs": []
  },
  {
   "cell_type": "code",
   "source": [
    "# Apply LinearSVC\n",
    "model = LinearSVC()\n",
    "model.fit(X_train_tfidf, y_train)\n",
    "y_pred = model.predict(X_test_tfidf)\n",
    "print('Testing accuracy %s' % accuracy_score(y_test, y_pred))"
   ],
   "metadata": {
    "colab": {
     "base_uri": "https://localhost:8080/"
    },
    "id": "yb1yP4QeWa03",
    "executionInfo": {
     "status": "ok",
     "timestamp": 1701090191458,
     "user_tz": -120,
     "elapsed": 17201,
     "user": {
      "displayName": "Nataliia Volkova",
      "userId": "01298915722325512053"
     }
    },
    "outputId": "c1021f22-7cc6-4b03-bd27-6290a2131877"
   },
   "execution_count": 105,
   "outputs": [
    {
     "output_type": "stream",
     "name": "stdout",
     "text": [
      "Testing accuracy 0.6446614116804013\n"
     ]
    }
   ]
  },
  {
   "cell_type": "code",
   "source": [
    "print(classification_report(y_test, y_pred))"
   ],
   "metadata": {
    "colab": {
     "base_uri": "https://localhost:8080/"
    },
    "id": "er9Evbl6afcg",
    "executionInfo": {
     "status": "ok",
     "timestamp": 1701088383008,
     "user_tz": -120,
     "elapsed": 563,
     "user": {
      "displayName": "Nataliia Volkova",
      "userId": "01298915722325512053"
     }
    },
    "outputId": "fee60feb-fb80-4a26-a3e1-0ed11cdb3924"
   },
   "execution_count": 87,
   "outputs": [
    {
     "output_type": "stream",
     "name": "stdout",
     "text": [
      "                                                                                    precision    recall  f1-score   support\n",
      "\n",
      "                                                                       Інші-Подяки       0.43      0.35      0.38        57\n",
      "                                                Інші-технічні-недоліки-стану-ліфту       0.46      0.45      0.46       128\n",
      "               Аварійний--травмонебезпечний-стан-утримання-об-єктів-благоустрою       0.34      0.28      0.31        40\n",
      "                                            Бажаючі-отримати--Картки-киянина--КК--       0.75      1.00      0.86         9\n",
      "                               Будівництво--дооблаштування-спортивних-майданчиків       0.53      0.50      0.52        16\n",
      "                                                                   Будівництво-АЗС       0.88      0.74      0.80        19\n",
      "                                                         Будівництво-в-нічний-час       0.73      0.67      0.70        12\n",
      "                                   Будівництво-дооблаштування-дитячого-майданчику       0.68      0.79      0.73       121\n",
      "                                      Будівництво-та-реконструкція-об-єктів-освіти       0.71      0.68      0.70        22\n",
      "                                                        Взаємовідносини-з-сусідами       0.82      0.56      0.67        16\n",
      "                            Вивезення--утилізація-твердих-та-негабаритних-відходів       0.50      0.15      0.24        13\n",
      "                                 Видалення-аварійних--пошкоджених-хворобами-дерев       0.63      0.78      0.70        51\n",
      "                                  Видача-розрахункових-книжок--квитанцій--довідок       0.89      0.36      0.52        22\n",
      "                                                        Вилов-безпритульних-тварин       0.89      1.00      0.94        24\n",
      "                                              Вирізування--кронування--гілля-дерев       0.68      0.35      0.46        37\n",
      "                                                  Виток-холодної-води-на-поверхню       1.00      0.27      0.42        15\n",
      "                                                       Вологе-прибирання-приміщень       0.62      0.62      0.62        82\n",
      "                                             Встановлення-лічильників-на-опалення-       0.73      0.89      0.80        66\n",
      "                                            Встановлення-огородження-зеленої-зони       0.36      0.47      0.41        47\n",
      "                                                             Встановлення-пандусів       0.74      0.87      0.80        30\n",
      "                                                           Встановлення-світлофора       0.81      0.64      0.71        39\n",
      "                 Встановлення-сигнальних-стовпчиків--бар-єрних-огороджень-бордюрів       0.30      0.26      0.28        46\n",
      "                             Встановлення-сміттєвих-контейнерів-та-урн-для-сміття       0.70      0.67      0.68        72\n",
      "                                                  Встановлення-та-демонтаж-лавочок       0.74      0.84      0.79        31\n",
      "                                      Встановлення-та-експлуатація-дорожніх-знаків       0.71      0.85      0.77        60\n",
      "                        Встановлення-та-експлуатація-лічильників-на-водопостачання       0.82      0.84      0.83        93\n",
      "            Встановлення-та-експлуатація-пристроїв-примусового-зниження-швидкості       0.61      0.85      0.71        33\n",
      "                                           Встановлення-та-експлуатація-шлагбаумів       0.47      0.89      0.62         9\n",
      " Відновлення-благоустрою-після-вик--планових-аварійних-робіт-на-об-єктах-благоуст       0.66      0.59      0.62       254\n",
      "                                                                      Відсутнє-ХВП       0.65      0.72      0.68       137\n",
      "                                                        Відсутнє-електропостачання       0.61      0.48      0.54        52\n",
      "                   Відсутній-тиск-ХВП-до---го-поверху-включно---Київводоканал---       0.67      0.22      0.33        27\n",
      "                       Відсутній-тиск-ХВП-з----го-поверху-включно---Київенерго--       0.38      0.52      0.44        23\n",
      "                                                                   Відсутність-ГВП       0.77      0.89      0.82      1165\n",
      "                                                         Відсутність-ГВП-по-стояку       0.00      0.00      0.00        12\n",
      "                Відсутність-відповіді-від-РДА--ГУ-та-інших-структурних-підрозділів       0.00      0.00      0.00        12\n",
      "                                  Відсутність-каналізаційних--водопровідних-люків       0.53      0.78      0.63        40\n",
      "               Відсутність-каналізаційних-люків-та-решіток-на-проїжджих-частинах       0.36      0.17      0.23        24\n",
      "                                                              Відсутність-опалення       0.71      0.80      0.75       558\n",
      "                                                    Відсутність-опалення-по-стояку       0.69      0.59      0.64       213\n",
      "                   Відсутність-опори-освітлення--не-передбачено-проектом-забудови-       0.67      0.15      0.25        13\n",
      "    Відсутність-освітлення-на-опорних-стовпах-за-відсутності-несправності-лампочок       0.39      0.43      0.41        90\n",
      "           Відсутність-освітлення-у-під-їзді-за-відсутності-несправності-лампочок       0.56      0.66      0.60       235\n",
      "                                               Відсутність-решіток-зливоприймачів       0.50      0.21      0.30        14\n",
      "                                                     ГЛ--Несанкціонована-торгівля-       0.75      0.85      0.80       169\n",
      "                                 Герметизація-міжпанельних-стиків--утеплення-стін-       0.65      0.63      0.64        27\n",
      "                                                           Голів-ОСББ--ЖБК--та-ін-       0.38      0.27      0.32        11\n",
      "                                   Графіті--написи-малюнки-на-об-єктах-благоустрою       0.78      0.74      0.76        19\n",
      "                 Демонтаж-окремо-розташованих-пунктів-прийому-вторинної-сировини       0.45      0.62      0.53         8\n",
      "                                      Демонтаж-рекламних-вивісок-з-опорних-стовпів       0.47      0.44      0.46        18\n",
      "                                         Демонтаж-рекламних-конструкцій-і-вивісок       0.56      0.60      0.58        93\n",
      "          Демонтаж-інших-об-єктів--що-входять-до-переліку-малих-архітектурних-форм       0.37      0.18      0.24        56\n",
      "                        Евакуація-безгосподарських--залишених-транспортних-засобів       0.83      0.80      0.81        30\n",
      "                                          Забруднення-повітря-від-невідомих-джерел       0.73      0.86      0.79        22\n",
      "                                            Завезення-піску-на-дитячий-майданчик       0.79      0.94      0.86        16\n",
      "                                          Заміна-та-експлуатація-поштових-скриньок       0.73      0.96      0.83        28\n",
      "                      Зберігання-транспортних-засобів--порушення-правил-паркування       0.25      0.21      0.23        19\n",
      "                                                Зменшення-інтервалу-руху-автобусів       0.73      0.73      0.73        11\n",
      "                                   Знищення-омели--амброзії-та-рослин---паразитів       0.95      0.98      0.97        59\n",
      "               Квитанція-на--сплату-житлово-комунальних-послуг--зовнішній-вигляд-       0.17      0.09      0.12        11\n",
      "                                                                 Коливання-напруги       0.78      0.70      0.74        46\n",
      "                                              Контроль-за-станом-рекламних-засобів       0.50      0.45      0.47        60\n",
      "                                Культура-обслуговування-пасажирів-маршрутних-таксі       0.79      0.92      0.85        12\n",
      "                                    Куріння-тютюнових-виробів-у-заборонених-місцях       0.77      0.83      0.80        12\n",
      "                     Миття-вікон--вітрин--вітражів--дзеркальних-поверхонь--дверей       0.64      0.74      0.68        19\n",
      "                                                     Нанесення-дорожньої-розмітки       0.77      0.64      0.70        64\n",
      "                                                                   Не-працює-бювет       0.93      0.95      0.94        42\n",
      "                                                        Не-працює-вантажний--ліфт       0.62      0.60      0.61        43\n",
      "                                                      Не-працює-пасажирський-ліфт       0.67      0.82      0.74       229\n",
      "                                                             Недостатній-тиск-ГВП       0.38      0.26      0.31        19\n",
      "                                    Незадовільна-освітленість-в-приміщеннях-ліфтів       1.00      0.42      0.59        12\n",
      "                                        Незадовільна-робота-рушникосушарок-від-ГВП       0.50      0.29      0.36        21\n",
      "                                                      Незадовільна-температура-ГВП       0.63      0.65      0.64       200\n",
      "                                                 Незадовільна-температура-опалення       0.53      0.57      0.55        86\n",
      "                 Незадовільне-обслуговування-в-амбулаторно-поліклінічних-установах       0.88      0.88      0.88        33\n",
      "                Незадовільне-розташування-сміттєвих-контейнерів-та-урн-для-сміття       0.57      0.68      0.62        37\n",
      "                      Незадовільний-вивіз-сміття-з-контейнерів-та-урн-для-сміття       0.75      0.74      0.75        70\n",
      "                                             Незадовільний-санітарний-стан-ліфту       0.67      0.60      0.63        20\n",
      "                                   Незадовільний-стан-кнопок-виклику-наказу-ліфту       0.60      0.55      0.57        33\n",
      "                                          Незадовільний-стан-опори-для-освітлення       0.53      0.40      0.46        20\n",
      "                        Незадовільний-стан-сміттєвих-контейнерів--урн-для-сміття       0.67      0.20      0.31        20\n",
      "     Незручності-від-вивозу-сміття-з-контейнерів-та-урн-для-сміття-у-нічні-години       0.57      0.40      0.47        10\n",
      "                                    Незручності-від-промислових-та-побутових-шумів       0.40      0.22      0.29         9\n",
      "                   Незручності-від-розташування-холодильників--лотків-біля-кіосків       0.57      0.25      0.35        16\n",
      "  Незручності-для-проживання-мешканців-від-роботи-закладів-торгівлі-та-ресторанног       0.57      0.52      0.54        33\n",
      "                                             Несправність-системи-диспетчеризації       0.83      0.50      0.62        10\n",
      "                                                                      Неякісне-ХВП       0.83      0.36      0.50        14\n",
      "                                       Облаштування-наземного-пішохідного-переходу       0.64      0.52      0.57        31\n",
      "                            Облаштування-прилеглої-території-навчальних-закладів       0.58      0.47      0.52        15\n",
      "                                         Обслуговування-димовентиляційних-каналів       1.00      0.55      0.71        20\n",
      "                       Обслуговування-та-технічний-стан-каналізаційних-колодязів       0.39      0.31      0.35        29\n",
      "                                      Оголені-кабелі-у-приміщенні-та-на-території       0.55      0.55      0.55        11\n",
      "                                                     Опалення-на-сходових-клітинах       0.56      0.38      0.45        13\n",
      "                                   Організація-та-проведення-продовольчих-ярмарків       0.86      0.90      0.88        20\n",
      "                                      Освітлення-в-приміщенні-й-при-вході-в-нього       0.40      0.35      0.37       127\n",
      "                    Освітлення-магістралей--проїжджих-частин--та-вулиць-м--Києва       0.39      0.39      0.39        23\n",
      "                                                    Освітлення-підземних-переходів       0.90      0.56      0.69        16\n",
      "                        Паркування-авто-на-зеленій-зоні-прибудинкової-території       0.33      0.18      0.24        11\n",
      "                                      Паркування-авто-на-прибудинковій-території       0.54      0.37      0.43        41\n",
      "                                  Паркування-авто-у-місцях-загального-користування       0.49      0.34      0.40        80\n",
      "                      Паркування-на-зеленій-зоні-у-місцях-загального-користування       0.50      0.27      0.35        11\n",
      "                                                        Перебої-електропостачання       0.62      0.52      0.57        54\n",
      "                         Перебудова-квартир--балконів--дверей--горищ-та-підвалів-       0.50      0.19      0.27        16\n",
      "     Перевірка-дозвільної-документації--демонтаж-воріт--огорожі--паркану--забору       0.47      0.55      0.51        33\n",
      "                     Перевірка-дозвільної-документації--демонтаж-кіосків--ларків       0.79      0.88      0.83       408\n",
      "Перевірка-дозвільної-документації--демонтаж-літніх-майданчиків-кафе--ресторанів       0.83      0.80      0.82        61\n",
      "         Перевірка-дозвільної-документації--демонтаж-окремо-розташованих-гаражів       0.83      0.83      0.83        12\n",
      "    Перевірка-дозвільної-документації--демонтаж-торгових-палаток--пивних-наметів       0.11      0.10      0.11        10\n",
      "                                               Перевірка-законності-знищення-дерев       0.50      0.30      0.37        10\n",
      "                       Перевірка-наявності-дозволів-на-виконання-будівельних-робіт       0.64      0.75      0.69       116\n",
      "                         Перерахунок--нарахування-плати-та-боргу-за-газопостачання       0.70      0.58      0.64        12\n",
      "                                              Перерахунок-плати-за-відсутність-ГВП       0.67      0.17      0.27        35\n",
      "                                         Перерахунок-плати-за-відсутність-опалення       0.56      0.22      0.31        23\n",
      "                                 Перерахунок-плати-за-незадовільну-температуру-ГВП       0.14      0.05      0.07        22\n",
      "          Перерахунок-та-нарахування-плати-за-інші-види-житлово-комунальних-послуг       0.60      0.67      0.63       233\n",
      "                             Питання--що-виникають-до-початку-опалювального-сезону       0.00      0.00      0.00        23\n",
      "                                        Питання--що-стосуються-домофонної-системи       0.80      1.00      0.89         4\n",
      "                            Питання--що-стосуються-завершення-опалювального-сезону       0.67      0.67      0.67        21\n",
      "                                Питання-нарахування-плати-за-ЦО--розрахунки-за-ЦО-       0.70      0.27      0.39        26\n",
      "                                             Питання-освітлення-на-опорних-стовпах       0.51      0.40      0.45       101\n",
      "                                                             Подяки-двірникам-ЖЕКу       0.82      0.56      0.67        16\n",
      "                                                   Подяки-загалом-працівникам-ЖЕКу       0.67      0.13      0.22        31\n",
      "                    Покинуті-будівлі--споруди--будівельні-матеріали-і-конструкції       0.56      0.22      0.31        23\n",
      "                              Полив-клумб-і-газонів--дерев--кущів--зелених-газонів       0.67      0.71      0.69        17\n",
      "                                                  Порив-труб-у-квартирі-чи-будинку       0.33      0.16      0.22        25\n",
      "                                               Порив-труб-у-підвальному-приміщенні       0.47      0.42      0.44        52\n",
      "                     Порушення-встановлених-законодавством-вимог-пожежної-безпеки       0.50      0.57      0.53         7\n",
      "    Порушення-правил-виконання--ор-ції--будівельних-робіт-на-об-єктах-благоустрою       0.62      0.26      0.37        19\n",
      "                                                  Порушення-правил-дорожнього-руху       0.43      0.27      0.33        11\n",
      "                                               Порушення-правил-тиші--після-------       0.59      0.52      0.55        25\n",
      "                                    Правила-торговельного-обслуговування-населення       0.75      0.53      0.62        17\n",
      "                                            Претензії-та-зауваження-до-Начальника       0.12      0.07      0.09        14\n",
      "           Претензії-та-зауваження-до-Обслуговуючого-персоналу--двірники-й-т-п--       0.25      0.06      0.09        18\n",
      "                          Прибирання-дерев--гілок--листя-з-закріпленої-території       0.65      0.53      0.59        32\n",
      "   Прибирання-льодяного-покрову-на-прибудинковій-території--вулицях-та-тротуарах       0.60      0.50      0.55        12\n",
      "                                                              Прибирання-приміщень       0.58      0.60      0.59       138\n",
      "               Прибирання-снігу-на-прибудинковій-території--вулицях-та-тротуарах       0.71      0.88      0.79        17\n",
      "                                         Прибирання-та-санітарний-стан-територій       0.64      0.70      0.67       342\n",
      "                        Прийняття-в-експлуатацію-закінчених-будівництвом-об-єктів       0.78      0.70      0.74        10\n",
      "                                                     Про-розгляд-звернень-громадян       0.35      0.35      0.35       178\n",
      "                                                           Проведення-дезинсекції       0.81      0.81      0.81        26\n",
      "                                                           Проведення-дератизації       0.78      0.86      0.82        36\n",
      "                         Проведення-капітального-ремонту-у-будинку--реконструкція-       0.12      0.04      0.06        24\n",
      "                                       Проведення-косметичного-ремонту-у-під-їзді       0.00      0.00      0.00         9\n",
      "                                             Проведення-модернізації-заміни-ліфту       0.47      0.24      0.32        38\n",
      " Пропозиції--зауваження--щодо-роботи-web-сторінки-КБУ--Контактний-центр-м-Києва-       0.50      0.22      0.31         9\n",
      "        Пропозиції-та-запитання-щодо-удосконалення-роботи-громадського-транспорту       0.62      0.60      0.61        25\n",
      "                                                    Раціоналізаторські-пропозиції       0.00      0.00      0.00        12\n",
      "                               Ремонт--реконструкція-приміщень-навчальних-закладів       0.50      0.48      0.49        21\n",
      "                                     Ремонт-або-демонтаж-огородження-зеленої-зони       0.60      0.62      0.61        29\n",
      "                                                                      Ремонт-дахів       0.76      0.88      0.82       112\n",
      "                         Ремонт-демонтаж-фарбування-елементів-дитячого-майданчику       0.12      0.06      0.08        17\n",
      "                                                                 Ремонт-під-їзду-       0.61      0.69      0.65       213\n",
      "                                                  Ремонт-та-заміна-вхідних-дверей       0.73      0.52      0.60        31\n",
      "                                                  Ремонт-та-заміна-електроприладів       0.34      0.29      0.31        45\n",
      "                                         Ремонт-та-обслуговування-водостічних-труб       0.77      0.59      0.67        17\n",
      "                                         Ремонт-та-обслуговування-зливневих-стоків       0.50      0.45      0.48        42\n",
      "                            Ремонт-та-обслуговування-конструкцій-фризу--козирок--       0.80      0.44      0.57         9\n",
      "                                                   Ремонт-та-обслуговування-ґанків       0.52      0.44      0.48        27\n",
      "                                                     Ремонт-теплотрас--підключення       0.33      0.08      0.13        24\n",
      "                                                             Ремонт-фасаду-будинку       0.62      0.62      0.62        39\n",
      "            Ремонт-і-обслуговування-сміттєпроводів-та-сміттєзбірників-в-приміщенні       0.72      0.89      0.80        37\n",
      "                                                                 Робота-світлофора       0.85      0.89      0.87        76\n",
      "                                                    Робота-циркуляційної-системи       0.39      0.27      0.32        70\n",
      "                                              Розміщення-паркувальних-майданчиків       0.60      0.62      0.61        29\n",
      "                                  Розрахунки--нарахування-та-перерахунок-субсидій       0.78      1.00      0.88        14\n",
      "                                                       Садіння-нових-дерев-і-кущів       0.64      0.54      0.58        26\n",
      "                                                Санітарний-стан-проїжджих-частин       0.57      0.33      0.42        12\n",
      "                                     Скління-та-ремонт-вікон-на-сходових-клітинах-       0.68      0.80      0.73        69\n",
      "                                                                  Скошування-трави       0.75      0.75      0.75         8\n",
      "                                  Спалювання-сміття--листя--гілок--відходів--тощо-       0.75      0.69      0.72        13\n",
      "                           Стан-зливосточних-систем-проїжджих-частин-та-тротуарів       0.50      0.18      0.27        11\n",
      "                                                           Стихійне-сміттєзвалище       0.62      0.52      0.57        84\n",
      "  Технічне-обслуговування-систем-тепло---водопостачання-та-водовідведення-і-зливов       0.36      0.31      0.33        80\n",
      "                                           Технічний-стан-мостів-та-шляхопроводів       0.29      0.29      0.29         7\n",
      "                             Технічний-стан-проїжджих-частин-вулиць-та-тротуарів       0.53      0.49      0.51       244\n",
      "                                    Технічний-стан-підземних-пішохідних-переходів       0.58      0.69      0.63        42\n",
      "                     Технічний-стан-пішохідниїх-доріжок--сходів-з-бетону--гравію       0.75      0.53      0.62        17\n",
      "                                        Удосконалення-організації-дорожнього-руху       0.55      0.50      0.52        32\n",
      "                                Укладання-договорів-з-обслуговуючими-організаціями       0.44      0.44      0.44        16\n",
      "                                          Укладання-та-ремонт-асфальтного-покриття       0.65      0.80      0.72       643\n",
      "                                 Укладання-та-ремонт-тротуарної-плитки--брущатки-       0.64      0.61      0.62        38\n",
      "                                    Укладання-та-технічний-стан-бордюрного-каменю       0.44      0.62      0.52        13\n",
      "     Утримання-номерних-знаків-і-табличок-з-назвами-вулиць-на-будинках--і-спорудах       0.67      0.47      0.55        17\n",
      "                                      Утримання-парків-та-лісопарків-у-місті-Києві       0.45      0.45      0.45        49\n",
      "                                 Утримання-підвалів--колясочних-технічних-поверхів       0.56      0.58      0.57       116\n",
      "                                        Утримання-та-облаштування-клумб-та-газонів       0.52      0.32      0.39        41\n",
      "                         Утримання-інформаційних-дошок-та--розклеювання-оголошень       0.62      0.47      0.53        17\n",
      "\n",
      "                                                                          accuracy                           0.64     11164\n",
      "                                                                         macro avg       0.59      0.52      0.53     11164\n",
      "                                                                      weighted avg       0.63      0.64      0.63     11164\n"
     ]
    },
    {
     "output_type": "stream",
     "name": "stderr",
     "text": [
      "/usr/local/lib/python3.10/dist-packages/sklearn/metrics/_classification.py:1344: UndefinedMetricWarning: Precision and F-score are ill-defined and being set to 0.0 in labels with no predicted samples. Use `zero_division` parameter to control this behavior.\n",
      "  _warn_prf(average, modifier, msg_start, len(result))\n",
      "/usr/local/lib/python3.10/dist-packages/sklearn/metrics/_classification.py:1344: UndefinedMetricWarning: Precision and F-score are ill-defined and being set to 0.0 in labels with no predicted samples. Use `zero_division` parameter to control this behavior.\n",
      "  _warn_prf(average, modifier, msg_start, len(result))\n",
      "/usr/local/lib/python3.10/dist-packages/sklearn/metrics/_classification.py:1344: UndefinedMetricWarning: Precision and F-score are ill-defined and being set to 0.0 in labels with no predicted samples. Use `zero_division` parameter to control this behavior.\n",
      "  _warn_prf(average, modifier, msg_start, len(result))\n"
     ]
    }
   ]
  },
  {
   "cell_type": "markdown",
   "source": [
    "With the cleaned data, we improved the weigted accuracy slightly to 63% (previously it was 60%), and also improved macro avg F1 to 53% (previously 48%). But there are still categories that have very low accuracy due to the small amount of data or overlaping with other categories."
   ],
   "metadata": {
    "id": "90MYwVEt0AmG"
   }
  },
  {
   "cell_type": "markdown",
   "source": [
    "#### doc2vec with LinearSCV\n",
    "ref: https://towardsdatascience.com/multi-class-text-classification-with-doc2vec-logistic-regression-9da9947b43f4"
   ],
   "metadata": {
    "id": "RrvlLgQRYFDd"
   }
  },
  {
   "cell_type": "code",
   "source": [
    "train_tagged = [TaggedDocument(words=x.split(' '), tags=[y]) for x,y in zip(X_train, y_train)]\n",
    "test_tagged = [TaggedDocument(words=x.split(' '), tags=[y]) for x,y in zip(X_test, y_test)]"
   ],
   "metadata": {
    "id": "yc3ERt-4YLO-",
    "executionInfo": {
     "status": "ok",
     "timestamp": 1701090280808,
     "user_tz": -120,
     "elapsed": 1197,
     "user": {
      "displayName": "Nataliia Volkova",
      "userId": "01298915722325512053"
     }
    }
   },
   "execution_count": 109,
   "outputs": []
  },
  {
   "cell_type": "code",
   "source": [
    "# Distributed Bag of Words (DBOW). DBOW is the doc2vec model analogous to Skip-gram model in word2vec\n",
    "cores = multiprocessing.cpu_count()"
   ],
   "metadata": {
    "id": "eG8Qc5JuZqLj",
    "executionInfo": {
     "status": "ok",
     "timestamp": 1701090280808,
     "user_tz": -120,
     "elapsed": 2,
     "user": {
      "displayName": "Nataliia Volkova",
      "userId": "01298915722325512053"
     }
    }
   },
   "execution_count": 110,
   "outputs": []
  },
  {
   "cell_type": "code",
   "source": [
    "# Building a Vocabulary\n",
    "model_dbow = Doc2Vec(dm=0, vector_size=300, negative=5, hs=0, min_count=2, sample = 0, workers=cores)\n",
    "model_dbow.build_vocab([x for x in tqdm(train_tagged)])\n",
    "model_dbow.train(train_tagged, total_examples=model_dbow.corpus_count, epochs=model_dbow.epochs)"
   ],
   "metadata": {
    "colab": {
     "base_uri": "https://localhost:8080/"
    },
    "id": "qAfDI1vTZt6N",
    "executionInfo": {
     "status": "ok",
     "timestamp": 1701090333638,
     "user_tz": -120,
     "elapsed": 52396,
     "user": {
      "displayName": "Nataliia Volkova",
      "userId": "01298915722325512053"
     }
    },
    "outputId": "1f0051fd-ec1b-4182-cddc-22bbbe45b6a8"
   },
   "execution_count": 111,
   "outputs": [
    {
     "output_type": "stream",
     "name": "stderr",
     "text": [
      "100%|██████████| 44655/44655 [00:00<00:00, 1924939.83it/s]\n"
     ]
    }
   ]
  },
  {
   "cell_type": "code",
   "source": [
    "def vec_for_learning(model, tagged_docs):\n",
    "    targets, regressors = zip(*[(doc.tags[0], model.infer_vector(doc.words)) for doc in tagged_docs])\n",
    "    return regressors, targets"
   ],
   "metadata": {
    "id": "CCR9FYzTZ41c",
    "executionInfo": {
     "status": "ok",
     "timestamp": 1701090333638,
     "user_tz": -120,
     "elapsed": 4,
     "user": {
      "displayName": "Nataliia Volkova",
      "userId": "01298915722325512053"
     }
    }
   },
   "execution_count": 112,
   "outputs": []
  },
  {
   "cell_type": "code",
   "source": [
    "X_train_vec, y_train_vec = vec_for_learning(model_dbow, train_tagged)\n",
    "X_test_vec, y_test_vec = vec_for_learning(model_dbow, test_tagged)"
   ],
   "metadata": {
    "id": "-99sDEVuZ6Lx",
    "executionInfo": {
     "status": "ok",
     "timestamp": 1701090393076,
     "user_tz": -120,
     "elapsed": 59441,
     "user": {
      "displayName": "Nataliia Volkova",
      "userId": "01298915722325512053"
     }
    }
   },
   "execution_count": 113,
   "outputs": []
  },
  {
   "cell_type": "code",
   "source": [
    "model = LinearSVC()\n",
    "model.fit(X_train_vec, y_train_vec)\n",
    "y_pred_vec = model.predict(X_test_vec)\n",
    "accuracy = accuracy_score(y_test_vec, y_pred_vec)\n",
    "print('Testing accuracy %s' % accuracy_score(y_test_vec, y_pred_vec))"
   ],
   "metadata": {
    "colab": {
     "base_uri": "https://localhost:8080/"
    },
    "id": "JTUDHe1LaIZK",
    "executionInfo": {
     "status": "ok",
     "timestamp": 1701090793344,
     "user_tz": -120,
     "elapsed": 400271,
     "user": {
      "displayName": "Nataliia Volkova",
      "userId": "01298915722325512053"
     }
    },
    "outputId": "0f5903b0-508b-4ead-f45b-1096cc96d5c5"
   },
   "execution_count": 114,
   "outputs": [
    {
     "output_type": "stream",
     "name": "stdout",
     "text": [
      "Testing accuracy 0.5775707631673236\n"
     ]
    },
    {
     "output_type": "stream",
     "name": "stderr",
     "text": [
      "/usr/local/lib/python3.10/dist-packages/sklearn/svm/_base.py:1244: ConvergenceWarning: Liblinear failed to converge, increase the number of iterations.\n",
      "  warnings.warn(\n"
     ]
    }
   ]
  },
  {
   "cell_type": "code",
   "source": [
    "print(classification_report(y_test_vec, y_pred_vec))"
   ],
   "metadata": {
    "colab": {
     "base_uri": "https://localhost:8080/"
    },
    "id": "UHOYZo7lbber",
    "executionInfo": {
     "status": "ok",
     "timestamp": 1701090793827,
     "user_tz": -120,
     "elapsed": 501,
     "user": {
      "displayName": "Nataliia Volkova",
      "userId": "01298915722325512053"
     }
    },
    "outputId": "70e3c63b-e73f-4f87-faf4-dae0b9f1b2ba"
   },
   "execution_count": 115,
   "outputs": [
    {
     "output_type": "stream",
     "name": "stdout",
     "text": [
      "                                                                                    precision    recall  f1-score   support\n",
      "\n",
      "                                                                       Інші-Подяки       0.45      0.30      0.36        57\n",
      "                                                Інші-технічні-недоліки-стану-ліфту       0.50      0.45      0.48       128\n",
      "               Аварійний--травмонебезпечний-стан-утримання-об-єктів-благоустрою       0.29      0.28      0.28        40\n",
      "                                            Бажаючі-отримати--Картки-киянина--КК--       0.73      0.89      0.80         9\n",
      "                               Будівництво--дооблаштування-спортивних-майданчиків       0.50      0.38      0.43        16\n",
      "                                                                   Будівництво-АЗС       0.80      0.63      0.71        19\n",
      "                                                         Будівництво-в-нічний-час       0.78      0.58      0.67        12\n",
      "                                   Будівництво-дооблаштування-дитячого-майданчику       0.58      0.73      0.65       121\n",
      "                                      Будівництво-та-реконструкція-об-єктів-освіти       0.72      0.59      0.65        22\n",
      "                                                        Взаємовідносини-з-сусідами       0.50      0.31      0.38        16\n",
      "                            Вивезення--утилізація-твердих-та-негабаритних-відходів       0.50      0.08      0.13        13\n",
      "                                 Видалення-аварійних--пошкоджених-хворобами-дерев       0.53      0.61      0.57        51\n",
      "                                  Видача-розрахункових-книжок--квитанцій--довідок       0.56      0.23      0.32        22\n",
      "                                                        Вилов-безпритульних-тварин       0.96      1.00      0.98        24\n",
      "                                              Вирізування--кронування--гілля-дерев       0.50      0.22      0.30        37\n",
      "                                                  Виток-холодної-води-на-поверхню       0.50      0.07      0.12        15\n",
      "                                                       Вологе-прибирання-приміщень       0.66      0.46      0.54        82\n",
      "                                             Встановлення-лічильників-на-опалення-       0.67      0.77      0.72        66\n",
      "                                            Встановлення-огородження-зеленої-зони       0.44      0.38      0.41        47\n",
      "                                                             Встановлення-пандусів       0.71      0.73      0.72        30\n",
      "                                                           Встановлення-світлофора       0.67      0.46      0.55        39\n",
      "                 Встановлення-сигнальних-стовпчиків--бар-єрних-огороджень-бордюрів       0.33      0.28      0.30        46\n",
      "                             Встановлення-сміттєвих-контейнерів-та-урн-для-сміття       0.67      0.47      0.55        72\n",
      "                                                  Встановлення-та-демонтаж-лавочок       0.73      0.61      0.67        31\n",
      "                                      Встановлення-та-експлуатація-дорожніх-знаків       0.68      0.73      0.70        60\n",
      "                        Встановлення-та-експлуатація-лічильників-на-водопостачання       0.80      0.80      0.80        93\n",
      "            Встановлення-та-експлуатація-пристроїв-примусового-зниження-швидкості       0.62      0.70      0.66        33\n",
      "                                           Встановлення-та-експлуатація-шлагбаумів       0.67      0.67      0.67         9\n",
      " Відновлення-благоустрою-після-вик--планових-аварійних-робіт-на-об-єктах-благоуст       0.60      0.52      0.56       254\n",
      "                                                                      Відсутнє-ХВП       0.61      0.31      0.41       137\n",
      "                                                        Відсутнє-електропостачання       0.56      0.27      0.36        52\n",
      "                   Відсутній-тиск-ХВП-до---го-поверху-включно---Київводоканал---       0.50      0.33      0.40        27\n",
      "                       Відсутній-тиск-ХВП-з----го-поверху-включно---Київенерго--       0.33      0.26      0.29        23\n",
      "                                                                   Відсутність-ГВП       0.67      0.93      0.78      1165\n",
      "                                                         Відсутність-ГВП-по-стояку       1.00      0.08      0.15        12\n",
      "                Відсутність-відповіді-від-РДА--ГУ-та-інших-структурних-підрозділів       0.04      0.17      0.07        12\n",
      "                                  Відсутність-каналізаційних--водопровідних-люків       0.46      0.45      0.46        40\n",
      "               Відсутність-каналізаційних-люків-та-решіток-на-проїжджих-частинах       0.25      0.08      0.12        24\n",
      "                                                              Відсутність-опалення       0.62      0.78      0.69       558\n",
      "                                                    Відсутність-опалення-по-стояку       0.67      0.45      0.54       213\n",
      "                   Відсутність-опори-освітлення--не-передбачено-проектом-забудови-       0.33      0.15      0.21        13\n",
      "    Відсутність-освітлення-на-опорних-стовпах-за-відсутності-несправності-лампочок       0.34      0.29      0.31        90\n",
      "           Відсутність-освітлення-у-під-їзді-за-відсутності-несправності-лампочок       0.53      0.69      0.60       235\n",
      "                                               Відсутність-решіток-зливоприймачів       0.25      0.07      0.11        14\n",
      "                                                     ГЛ--Несанкціонована-торгівля-       0.73      0.78      0.75       169\n",
      "                                 Герметизація-міжпанельних-стиків--утеплення-стін-       0.67      0.44      0.53        27\n",
      "                                                           Голів-ОСББ--ЖБК--та-ін-       0.00      0.00      0.00        11\n",
      "                                   Графіті--написи-малюнки-на-об-єктах-благоустрою       0.80      0.63      0.71        19\n",
      "                 Демонтаж-окремо-розташованих-пунктів-прийому-вторинної-сировини       0.71      0.62      0.67         8\n",
      "                                      Демонтаж-рекламних-вивісок-з-опорних-стовпів       0.38      0.33      0.35        18\n",
      "                                         Демонтаж-рекламних-конструкцій-і-вивісок       0.57      0.46      0.51        93\n",
      "          Демонтаж-інших-об-єктів--що-входять-до-переліку-малих-архітектурних-форм       0.48      0.20      0.28        56\n",
      "                        Евакуація-безгосподарських--залишених-транспортних-засобів       0.81      0.70      0.75        30\n",
      "                                          Забруднення-повітря-від-невідомих-джерел       0.71      0.68      0.70        22\n",
      "                                            Завезення-піску-на-дитячий-майданчик       0.67      0.88      0.76        16\n",
      "                                          Заміна-та-експлуатація-поштових-скриньок       0.66      0.89      0.76        28\n",
      "                      Зберігання-транспортних-засобів--порушення-правил-паркування       0.23      0.26      0.24        19\n",
      "                                                Зменшення-інтервалу-руху-автобусів       0.58      0.64      0.61        11\n",
      "                                   Знищення-омели--амброзії-та-рослин---паразитів       0.95      0.88      0.91        59\n",
      "               Квитанція-на--сплату-житлово-комунальних-послуг--зовнішній-вигляд-       0.00      0.00      0.00        11\n",
      "                                                                 Коливання-напруги       0.91      0.67      0.78        46\n",
      "                                              Контроль-за-станом-рекламних-засобів       0.47      0.47      0.47        60\n",
      "                                Культура-обслуговування-пасажирів-маршрутних-таксі       0.85      0.92      0.88        12\n",
      "                                    Куріння-тютюнових-виробів-у-заборонених-місцях       0.75      0.50      0.60        12\n",
      "                     Миття-вікон--вітрин--вітражів--дзеркальних-поверхонь--дверей       0.58      0.58      0.58        19\n",
      "                                                     Нанесення-дорожньої-розмітки       0.74      0.48      0.58        64\n",
      "                                                                   Не-працює-бювет       0.93      0.93      0.93        42\n",
      "                                                        Не-працює-вантажний--ліфт       0.51      0.44      0.48        43\n",
      "                                                      Не-працює-пасажирський-ліфт       0.60      0.81      0.69       229\n",
      "                                                             Недостатній-тиск-ГВП       0.20      0.11      0.14        19\n",
      "                                    Незадовільна-освітленість-в-приміщеннях-ліфтів       1.00      0.08      0.15        12\n",
      "                                        Незадовільна-робота-рушникосушарок-від-ГВП       0.60      0.43      0.50        21\n",
      "                                                      Незадовільна-температура-ГВП       0.62      0.55      0.58       200\n",
      "                                                 Незадовільна-температура-опалення       0.51      0.50      0.50        86\n",
      "                 Незадовільне-обслуговування-в-амбулаторно-поліклінічних-установах       0.93      0.85      0.89        33\n",
      "                Незадовільне-розташування-сміттєвих-контейнерів-та-урн-для-сміття       0.71      0.59      0.65        37\n",
      "                      Незадовільний-вивіз-сміття-з-контейнерів-та-урн-для-сміття       0.61      0.43      0.50        70\n",
      "                                             Незадовільний-санітарний-стан-ліфту       0.36      0.20      0.26        20\n",
      "                                   Незадовільний-стан-кнопок-виклику-наказу-ліфту       0.74      0.42      0.54        33\n",
      "                                          Незадовільний-стан-опори-для-освітлення       0.43      0.30      0.35        20\n",
      "                        Незадовільний-стан-сміттєвих-контейнерів--урн-для-сміття       0.33      0.05      0.09        20\n",
      "     Незручності-від-вивозу-сміття-з-контейнерів-та-урн-для-сміття-у-нічні-години       0.57      0.40      0.47        10\n",
      "                                    Незручності-від-промислових-та-побутових-шумів       0.40      0.22      0.29         9\n",
      "                   Незручності-від-розташування-холодильників--лотків-біля-кіосків       0.50      0.06      0.11        16\n",
      "  Незручності-для-проживання-мешканців-від-роботи-закладів-торгівлі-та-ресторанног       0.52      0.33      0.41        33\n",
      "                                             Несправність-системи-диспетчеризації       0.62      0.50      0.56        10\n",
      "                                                                      Неякісне-ХВП       0.75      0.43      0.55        14\n",
      "                                       Облаштування-наземного-пішохідного-переходу       0.47      0.29      0.36        31\n",
      "                            Облаштування-прилеглої-території-навчальних-закладів       0.50      0.33      0.40        15\n",
      "                                         Обслуговування-димовентиляційних-каналів       0.77      0.50      0.61        20\n",
      "                       Обслуговування-та-технічний-стан-каналізаційних-колодязів       0.53      0.28      0.36        29\n",
      "                                      Оголені-кабелі-у-приміщенні-та-на-території       0.40      0.18      0.25        11\n",
      "                                                     Опалення-на-сходових-клітинах       1.00      0.23      0.38        13\n",
      "                                   Організація-та-проведення-продовольчих-ярмарків       0.80      0.80      0.80        20\n",
      "                                      Освітлення-в-приміщенні-й-при-вході-в-нього       0.32      0.25      0.28       127\n",
      "                    Освітлення-магістралей--проїжджих-частин--та-вулиць-м--Києва       0.40      0.35      0.37        23\n",
      "                                                    Освітлення-підземних-переходів       0.80      0.50      0.62        16\n",
      "                        Паркування-авто-на-зеленій-зоні-прибудинкової-території       0.22      0.18      0.20        11\n",
      "                                      Паркування-авто-на-прибудинковій-території       0.48      0.27      0.34        41\n",
      "                                  Паркування-авто-у-місцях-загального-користування       0.46      0.24      0.31        80\n",
      "                      Паркування-на-зеленій-зоні-у-місцях-загального-користування       0.27      0.27      0.27        11\n",
      "                                                        Перебої-електропостачання       0.67      0.33      0.44        54\n",
      "                         Перебудова-квартир--балконів--дверей--горищ-та-підвалів-       0.43      0.19      0.26        16\n",
      "     Перевірка-дозвільної-документації--демонтаж-воріт--огорожі--паркану--забору       0.42      0.33      0.37        33\n",
      "                     Перевірка-дозвільної-документації--демонтаж-кіосків--ларків       0.70      0.85      0.77       408\n",
      "Перевірка-дозвільної-документації--демонтаж-літніх-майданчиків-кафе--ресторанів       0.84      0.75      0.79        61\n",
      "         Перевірка-дозвільної-документації--демонтаж-окремо-розташованих-гаражів       1.00      0.58      0.74        12\n",
      "    Перевірка-дозвільної-документації--демонтаж-торгових-палаток--пивних-наметів       0.00      0.00      0.00        10\n",
      "                                               Перевірка-законності-знищення-дерев       0.40      0.40      0.40        10\n",
      "                       Перевірка-наявності-дозволів-на-виконання-будівельних-робіт       0.66      0.66      0.66       116\n",
      "                         Перерахунок--нарахування-плати-та-боргу-за-газопостачання       0.56      0.42      0.48        12\n",
      "                                              Перерахунок-плати-за-відсутність-ГВП       0.60      0.09      0.15        35\n",
      "                                         Перерахунок-плати-за-відсутність-опалення       0.18      0.09      0.12        23\n",
      "                                 Перерахунок-плати-за-незадовільну-температуру-ГВП       0.22      0.09      0.13        22\n",
      "          Перерахунок-та-нарахування-плати-за-інші-види-житлово-комунальних-послуг       0.58      0.57      0.57       233\n",
      "                             Питання--що-виникають-до-початку-опалювального-сезону       0.00      0.00      0.00        23\n",
      "                                        Питання--що-стосуються-домофонної-системи       1.00      0.25      0.40         4\n",
      "                            Питання--що-стосуються-завершення-опалювального-сезону       0.76      0.62      0.68        21\n",
      "                                Питання-нарахування-плати-за-ЦО--розрахунки-за-ЦО-       0.42      0.19      0.26        26\n",
      "                                             Питання-освітлення-на-опорних-стовпах       0.44      0.33      0.38       101\n",
      "                                                             Подяки-двірникам-ЖЕКу       0.75      0.56      0.64        16\n",
      "                                                   Подяки-загалом-працівникам-ЖЕКу       0.23      0.10      0.14        31\n",
      "                    Покинуті-будівлі--споруди--будівельні-матеріали-і-конструкції       0.46      0.26      0.33        23\n",
      "                              Полив-клумб-і-газонів--дерев--кущів--зелених-газонів       0.73      0.47      0.57        17\n",
      "                                                  Порив-труб-у-квартирі-чи-будинку       0.42      0.20      0.27        25\n",
      "                                               Порив-труб-у-підвальному-приміщенні       0.52      0.27      0.35        52\n",
      "                     Порушення-встановлених-законодавством-вимог-пожежної-безпеки       0.60      0.43      0.50         7\n",
      "    Порушення-правил-виконання--ор-ції--будівельних-робіт-на-об-єктах-благоустрою       0.50      0.16      0.24        19\n",
      "                                                  Порушення-правил-дорожнього-руху       0.50      0.27      0.35        11\n",
      "                                               Порушення-правил-тиші--після-------       0.39      0.28      0.33        25\n",
      "                                    Правила-торговельного-обслуговування-населення       0.67      0.47      0.55        17\n",
      "                                            Претензії-та-зауваження-до-Начальника       0.00      0.00      0.00        14\n",
      "           Претензії-та-зауваження-до-Обслуговуючого-персоналу--двірники-й-т-п--       0.00      0.00      0.00        18\n",
      "                          Прибирання-дерев--гілок--листя-з-закріпленої-території       0.53      0.31      0.39        32\n",
      "   Прибирання-льодяного-покрову-на-прибудинковій-території--вулицях-та-тротуарах       0.67      0.33      0.44        12\n",
      "                                                              Прибирання-приміщень       0.44      0.41      0.43       138\n",
      "               Прибирання-снігу-на-прибудинковій-території--вулицях-та-тротуарах       0.71      0.29      0.42        17\n",
      "                                         Прибирання-та-санітарний-стан-територій       0.46      0.69      0.55       342\n",
      "                        Прийняття-в-експлуатацію-закінчених-будівництвом-об-єктів       0.56      0.50      0.53        10\n",
      "                                                     Про-розгляд-звернень-громадян       0.28      0.35      0.31       178\n",
      "                                                           Проведення-дезинсекції       0.89      0.65      0.76        26\n",
      "                                                           Проведення-дератизації       0.84      0.75      0.79        36\n",
      "                         Проведення-капітального-ремонту-у-будинку--реконструкція-       0.04      0.04      0.04        24\n",
      "                                       Проведення-косметичного-ремонту-у-під-їзді       0.00      0.00      0.00         9\n",
      "                                             Проведення-модернізації-заміни-ліфту       0.38      0.16      0.22        38\n",
      " Пропозиції--зауваження--щодо-роботи-web-сторінки-КБУ--Контактний-центр-м-Києва-       0.10      0.11      0.11         9\n",
      "        Пропозиції-та-запитання-щодо-удосконалення-роботи-громадського-транспорту       0.52      0.44      0.48        25\n",
      "                                                    Раціоналізаторські-пропозиції       0.29      0.17      0.21        12\n",
      "                               Ремонт--реконструкція-приміщень-навчальних-закладів       0.50      0.43      0.46        21\n",
      "                                     Ремонт-або-демонтаж-огородження-зеленої-зони       0.76      0.55      0.64        29\n",
      "                                                                      Ремонт-дахів       0.70      0.85      0.77       112\n",
      "                         Ремонт-демонтаж-фарбування-елементів-дитячого-майданчику       0.10      0.06      0.07        17\n",
      "                                                                 Ремонт-під-їзду-       0.57      0.67      0.61       213\n",
      "                                                  Ремонт-та-заміна-вхідних-дверей       0.79      0.61      0.69        31\n",
      "                                                  Ремонт-та-заміна-електроприладів       0.44      0.27      0.33        45\n",
      "                                         Ремонт-та-обслуговування-водостічних-труб       0.53      0.47      0.50        17\n",
      "                                         Ремонт-та-обслуговування-зливневих-стоків       0.63      0.29      0.39        42\n",
      "                            Ремонт-та-обслуговування-конструкцій-фризу--козирок--       0.75      0.33      0.46         9\n",
      "                                                   Ремонт-та-обслуговування-ґанків       0.42      0.30      0.35        27\n",
      "                                                     Ремонт-теплотрас--підключення       0.40      0.08      0.14        24\n",
      "                                                             Ремонт-фасаду-будинку       0.73      0.49      0.58        39\n",
      "            Ремонт-і-обслуговування-сміттєпроводів-та-сміттєзбірників-в-приміщенні       0.68      0.73      0.70        37\n",
      "                                                                 Робота-світлофора       0.84      0.84      0.84        76\n",
      "                                                    Робота-циркуляційної-системи       0.32      0.13      0.18        70\n",
      "                                              Розміщення-паркувальних-майданчиків       0.54      0.48      0.51        29\n",
      "                                  Розрахунки--нарахування-та-перерахунок-субсидій       0.63      0.86      0.73        14\n",
      "                                                       Садіння-нових-дерев-і-кущів       0.58      0.27      0.37        26\n",
      "                                                Санітарний-стан-проїжджих-частин       0.80      0.33      0.47        12\n",
      "                                     Скління-та-ремонт-вікон-на-сходових-клітинах-       0.71      0.78      0.74        69\n",
      "                                                                  Скошування-трави       0.57      0.50      0.53         8\n",
      "                                  Спалювання-сміття--листя--гілок--відходів--тощо-       0.70      0.54      0.61        13\n",
      "                           Стан-зливосточних-систем-проїжджих-частин-та-тротуарів       0.25      0.09      0.13        11\n",
      "                                                           Стихійне-сміттєзвалище       0.53      0.39      0.45        84\n",
      "  Технічне-обслуговування-систем-тепло---водопостачання-та-водовідведення-і-зливов       0.31      0.33      0.32        80\n",
      "                                           Технічний-стан-мостів-та-шляхопроводів       0.20      0.29      0.24         7\n",
      "                             Технічний-стан-проїжджих-частин-вулиць-та-тротуарів       0.47      0.39      0.43       244\n",
      "                                    Технічний-стан-підземних-пішохідних-переходів       0.70      0.62      0.66        42\n",
      "                     Технічний-стан-пішохідниїх-доріжок--сходів-з-бетону--гравію       0.23      0.18      0.20        17\n",
      "                                        Удосконалення-організації-дорожнього-руху       0.42      0.25      0.31        32\n",
      "                                Укладання-договорів-з-обслуговуючими-організаціями       0.50      0.44      0.47        16\n",
      "                                          Укладання-та-ремонт-асфальтного-покриття       0.51      0.82      0.63       643\n",
      "                                 Укладання-та-ремонт-тротуарної-плитки--брущатки-       0.50      0.34      0.41        38\n",
      "                                    Укладання-та-технічний-стан-бордюрного-каменю       0.50      0.38      0.43        13\n",
      "     Утримання-номерних-знаків-і-табличок-з-назвами-вулиць-на-будинках--і-спорудах       1.00      0.41      0.58        17\n",
      "                                      Утримання-парків-та-лісопарків-у-місті-Києві       0.46      0.27      0.34        49\n",
      "                                 Утримання-підвалів--колясочних-технічних-поверхів       0.49      0.46      0.47       116\n",
      "                                        Утримання-та-облаштування-клумб-та-газонів       0.33      0.17      0.23        41\n",
      "                         Утримання-інформаційних-дошок-та--розклеювання-оголошень       0.71      0.29      0.42        17\n",
      "\n",
      "                                                                          accuracy                           0.58     11164\n",
      "                                                                         macro avg       0.54      0.41      0.45     11164\n",
      "                                                                      weighted avg       0.57      0.58      0.56     11164\n"
     ]
    }
   ]
  },
  {
   "cell_type": "markdown",
   "source": [
    "With doc2vec, the accuracy results dropped from 63% to 58%, and macro avg F1 from 53% to 45%. Probably, the categories are very close to each other, which is why there is confusion. "
   ],
   "metadata": {
    "id": "r3gArUyz0t1h"
   }
  },
  {
   "cell_type": "markdown",
   "source": [
    "#### Balancing data\n",
    "We will add more data for better classification. Let's translate the data from Russian."
   ],
   "metadata": {
    "id": "ibzIwTg-oEy6"
   }
  },
  {
   "cell_type": "markdown",
   "source": [
    "##### Categories which we need to upsample\n",
    "\n",
    "For which categories we need to add data:\n",
    "- data from categories with less than 500 complaints\n",
    "- data from categories where F1 score is below 0.5 (because some categories with little data still stand out very well, perhaps because they have more words unique to the category)"
   ],
   "metadata": {
    "id": "NiBEElNWegUf"
   }
  },
  {
   "cell_type": "code",
   "source": [
    "# Take all categories where the number of the complains are less than 500\n",
    "category_counts =df_uk['category'].value_counts()\n",
    "small_categories = category_counts[category_counts < 501].index.tolist()"
   ],
   "metadata": {
    "id": "uoqPcoQDow2s",
    "executionInfo": {
     "status": "ok",
     "timestamp": 1701089999226,
     "user_tz": -120,
     "elapsed": 343,
     "user": {
      "displayName": "Nataliia Volkova",
      "userId": "01298915722325512053"
     }
    }
   },
   "execution_count": 97,
   "outputs": []
  },
  {
   "cell_type": "code",
   "source": [
    "print(\"Категорії, які мають менше ніж 500 скарг: \", len(small_categories))"
   ],
   "metadata": {
    "colab": {
     "base_uri": "https://localhost:8080/"
    },
    "id": "6skOW0TMpU2l",
    "executionInfo": {
     "status": "ok",
     "timestamp": 1701090001431,
     "user_tz": -120,
     "elapsed": 299,
     "user": {
      "displayName": "Nataliia Volkova",
      "userId": "01298915722325512053"
     }
    },
    "outputId": "ebeb4f59-f275-4450-b843-17c32b3b7b5a"
   },
   "execution_count": 98,
   "outputs": [
    {
     "output_type": "stream",
     "name": "stdout",
     "text": [
      "Категорії, які мають менше ніж 500 скарг:  164\n"
     ]
    }
   ]
  },
  {
   "cell_type": "code",
   "source": [
    "# Take categories that have F1 score lower than 0.5\n",
    "report = classification_report(y_test_vec, y_pred_vec, output_dict=True)\n",
    "category_lowerF1 = []\n",
    "for class_name, metrics in report.items():\n",
    "    if class_name != 'accuracy' and class_name != 'macro avg' and class_name != 'weighted avg':\n",
    "        f1_score = metrics['f1-score']\n",
    "\n",
    "        # Check if F1 score is lower than 0.5\n",
    "        if f1_score < 0.5:\n",
    "          category_lowerF1.append(class_name)"
   ],
   "metadata": {
    "id": "ZhCCXhE7YMH0",
    "executionInfo": {
     "status": "ok",
     "timestamp": 1701091245984,
     "user_tz": -120,
     "elapsed": 2173,
     "user": {
      "displayName": "Nataliia Volkova",
      "userId": "01298915722325512053"
     }
    }
   },
   "execution_count": 116,
   "outputs": []
  },
  {
   "cell_type": "code",
   "source": [
    "print(\"Категорії, які мають F1 score менший ніж 0.5: \", len(category_lowerF1))"
   ],
   "metadata": {
    "colab": {
     "base_uri": "https://localhost:8080/"
    },
    "id": "iMw-jUUzypCs",
    "executionInfo": {
     "status": "ok",
     "timestamp": 1701091248961,
     "user_tz": -120,
     "elapsed": 296,
     "user": {
      "displayName": "Nataliia Volkova",
      "userId": "01298915722325512053"
     }
    },
    "outputId": "0d150d1a-9cfc-4f81-db6f-d91295ed8408"
   },
   "execution_count": 117,
   "outputs": [
    {
     "output_type": "stream",
     "name": "stdout",
     "text": [
      "Категорії, які мають F1 score менший ніж 0.5:  106\n"
     ]
    }
   ]
  },
  {
   "cell_type": "code",
   "source": [
    "# Take categories which has lower number of complains and lower F1 score\n",
    "filtered_catagories = set(category_lowerF1).intersection(small_categories)\n",
    "print(\"Категорії, для яких додаємо дані: \", len(filtered_catagories))"
   ],
   "metadata": {
    "colab": {
     "base_uri": "https://localhost:8080/"
    },
    "id": "nhyPvTP7cobS",
    "executionInfo": {
     "status": "ok",
     "timestamp": 1701091252614,
     "user_tz": -120,
     "elapsed": 453,
     "user": {
      "displayName": "Nataliia Volkova",
      "userId": "01298915722325512053"
     }
    },
    "outputId": "79d67431-3418-45c4-aa0f-71864f2f2fbf"
   },
   "execution_count": 118,
   "outputs": [
    {
     "output_type": "stream",
     "name": "stdout",
     "text": [
      "Категорії, для яких додаємо дані:  99\n"
     ]
    }
   ]
  },
  {
   "cell_type": "code",
   "source": [
    "filtered_catagories= list(filtered_catagories)"
   ],
   "metadata": {
    "id": "D-i7deoczHLA",
    "executionInfo": {
     "status": "ok",
     "timestamp": 1701091259029,
     "user_tz": -120,
     "elapsed": 256,
     "user": {
      "displayName": "Nataliia Volkova",
      "userId": "01298915722325512053"
     }
    }
   },
   "execution_count": 119,
   "outputs": []
  },
  {
   "cell_type": "code",
   "source": [
    "# Take all text in russian and choose our category\n",
    "df_ru = df[df[\"language\"]=='ru']\n",
    "df_ru.shape"
   ],
   "metadata": {
    "colab": {
     "base_uri": "https://localhost:8080/"
    },
    "id": "y6ubO60ZrKzA",
    "executionInfo": {
     "status": "ok",
     "timestamp": 1701091262505,
     "user_tz": -120,
     "elapsed": 805,
     "user": {
      "displayName": "Nataliia Volkova",
      "userId": "01298915722325512053"
     }
    },
    "outputId": "8ce7605a-095a-4edb-ff3e-cd56e9ff38b1"
   },
   "execution_count": 120,
   "outputs": [
    {
     "output_type": "execute_result",
     "data": {
      "text/plain": [
       "(47383, 5)"
      ]
     },
     "metadata": {},
     "execution_count": 120
    }
   ]
  },
  {
   "cell_type": "code",
   "source": [
    "df_ru_sm = df_ru[df_ru[\"category\"].isin(filtered_catagories)]\n",
    "len(df_ru_sm)"
   ],
   "metadata": {
    "colab": {
     "base_uri": "https://localhost:8080/"
    },
    "id": "hwHSUXt-rYYQ",
    "executionInfo": {
     "status": "ok",
     "timestamp": 1701091269705,
     "user_tz": -120,
     "elapsed": 275,
     "user": {
      "displayName": "Nataliia Volkova",
      "userId": "01298915722325512053"
     }
    },
    "outputId": "0452cd64-4780-4e4b-f317-0f87d345b66a"
   },
   "execution_count": 121,
   "outputs": [
    {
     "output_type": "execute_result",
     "data": {
      "text/plain": [
       "11549"
      ]
     },
     "metadata": {},
     "execution_count": 121
    }
   ]
  },
  {
   "cell_type": "markdown",
   "source": [
    "##### Translate"
   ],
   "metadata": {
    "id": "OTtk2GjwNqIZ"
   }
  },
  {
   "cell_type": "code",
   "source": [
    "%%time\n",
    "model_name = \"Helsinki-NLP/opus-mt-ru-uk\"\n",
    "tokenizer = MarianTokenizer.from_pretrained(model_name)\n",
    "model = MarianMTModel.from_pretrained(model_name)"
   ],
   "metadata": {
    "colab": {
     "base_uri": "https://localhost:8080/",
     "height": 330,
     "referenced_widgets": [
      "4e0b4e49d9b64c7d872ce1c7889f0966",
      "6e1e6a9cbcff44bbb2a440f70a392212",
      "0504046844044cbd88336996e86ddc3d",
      "76966ce0fac542999c0b0117f073ae96",
      "e8d5d97a71f54151b76de894886a4c97",
      "1fb6eb8e8cd04109ac57dcf0d9aa70d3",
      "696f01dfed87499994a0d07776fbac96",
      "db32fc7eb34245acb9b80d6ae74d22bd",
      "df4646e90c22446e8e1e38c6018799c8",
      "135379ae81a749918a5c180d754b63ac",
      "f10c668c1c574bb1874fae6c47995cd3",
      "8dfee3eabda7471a9d16f0254cad72b7",
      "d17c1077478546639d94eefda6158895",
      "88cb52b55f68493aa024a97398450d07",
      "752543ce545c40c5b6d230fcacc7439f",
      "d06de3b668ca4974ba5d90e5b6191aad",
      "b0c040b0b0b84951a9ebaddb349687b5",
      "918cc55dd9444dbeb10340ae715e4f5f",
      "415ad40370b64d8dbdaa2f8c58782211",
      "bc9f0385943b44e892d992de6249afd8",
      "4cd51b060aed4d3fb67e410b59f1ba3c",
      "39c4bcf9837e48569cd6832dcad529e3",
      "41281b7928dc4699a8af65b76c0a588b",
      "2b869d9611b141f9b3a17f658b3904ac",
      "5b3840de83354a87a2243cc5bf34c619",
      "09076eb98a6d4666928bbce97ae7a884",
      "9c7f5d9604ef41e59565bba363012a82",
      "991f6df7f75445078741cf89aa226d85",
      "118307a96dfa48e98742e9b57348f51a",
      "5f69f266dfe8495dbd485eab7a5183b7",
      "8658f49cc54345ac8ea86de52a74d781",
      "676f1b1304944dd2ad30fe0947ac2aa9",
      "7cee4794f2a24e9db749a5bac5747e4c",
      "3afe10349d444880af44dd2a6edb8088",
      "5f2f260985fd4c649d93d5cd3dd015ae",
      "73f4fa0dd7d74adf981f9c3945839edf",
      "f988821c013145ac8eb47d85d48d8bf0",
      "5c10548bb67642fdbc868220a81749b2",
      "e4bf176fbe0d479792f499c7bc9e72af",
      "75e9b2e30e42402686c76f8e181c87ba",
      "470907c4191346b59a463729ca0bb6a9",
      "cdf192ddf1b04270a876ca9671428a86",
      "f32fd913eede42bab62a6c454c118ec2",
      "0cf529405b734eceb72de3e7f4de148f",
      "039fad0b5a2640d7a13df4d1cd56441c",
      "f55f4aa790cb433b9e630c65e6e973dd",
      "37e948a7cde54f1fa006056c80e1a556",
      "b4c973d7474f47c6914f0028599e3ce8",
      "7b1352828a93470fbc77539385917ffa",
      "101cf1c6c26c49e4be70367b63f241aa",
      "8f2096f209f449769ced4c8243e449e3",
      "7f79c3a26e36469188ecdc362f3e5242",
      "643f7010b7614059821c294b7cbd4f94",
      "9d82c14321ac4468a93457fff96da10b",
      "15d41b467c9245fc8c03f76770681efa",
      "d308f3693f1a4455a7b8d0d12699d393",
      "46fc80dd61d54634a1711989cb0647b0",
      "a554d888b34c47aabeb92c37f34437d8",
      "0d8fa6ee3b054fd2b6c1eeb1f0b75f76",
      "c1ea0da3d2fc4c43ab55fba99f4b1a16",
      "79180e5245d748b2940889430f35133b",
      "df7bca132e364406a8c4e9a9f4a02b1e",
      "869ebc1795174c53ad769360b92b7d8f",
      "932707f341d1452d8869acd6fc307072",
      "ac51730b06dd4f649c0061bd50bb169c",
      "08440a7033ba4b88ab959fb997d98fbd",
      "b6f15c82232c4ae5a899cb8dee5a43c9",
      "c69ba27961694a2cac57225f950d6fac",
      "88819d78ab294ae188868c6bcc157f37",
      "e1514a968d0b434aab0d628809e8c547",
      "8c3a5d7c65d94df59225e5d374a61658",
      "582ee1efd7b74e208cae52de199b9749",
      "92e6cebcbf1f452b931d775566493029",
      "d6f485401ba543fda4b783f4a2b0020d",
      "d9997c1af07f4e209a2694a9a227e4ef",
      "bac5261811df445f8b2aac08f2e5dea6",
      "08d14111f5084cb184c84c06c2b6b178"
     ]
    },
    "id": "C5f4LCQlD6Ym",
    "executionInfo": {
     "status": "ok",
     "timestamp": 1701091350774,
     "user_tz": -120,
     "elapsed": 12170,
     "user": {
      "displayName": "Nataliia Volkova",
      "userId": "01298915722325512053"
     }
    },
    "outputId": "e38e6435-1589-430b-ae51-82ab618a4abd"
   },
   "execution_count": 124,
   "outputs": [
    {
     "output_type": "display_data",
     "data": {
      "text/plain": [
       "tokenizer_config.json:   0%|          | 0.00/44.0 [00:00<?, ?B/s]"
      ],
      "application/vnd.jupyter.widget-view+json": {
       "version_major": 2,
       "version_minor": 0,
       "model_id": "4e0b4e49d9b64c7d872ce1c7889f0966"
      }
     },
     "metadata": {}
    },
    {
     "output_type": "display_data",
     "data": {
      "text/plain": [
       "source.spm:   0%|          | 0.00/1.05M [00:00<?, ?B/s]"
      ],
      "application/vnd.jupyter.widget-view+json": {
       "version_major": 2,
       "version_minor": 0,
       "model_id": "8dfee3eabda7471a9d16f0254cad72b7"
      }
     },
     "metadata": {}
    },
    {
     "output_type": "display_data",
     "data": {
      "text/plain": [
       "target.spm:   0%|          | 0.00/1.03M [00:00<?, ?B/s]"
      ],
      "application/vnd.jupyter.widget-view+json": {
       "version_major": 2,
       "version_minor": 0,
       "model_id": "41281b7928dc4699a8af65b76c0a588b"
      }
     },
     "metadata": {}
    },
    {
     "output_type": "display_data",
     "data": {
      "text/plain": [
       "vocab.json:   0%|          | 0.00/3.36M [00:00<?, ?B/s]"
      ],
      "application/vnd.jupyter.widget-view+json": {
       "version_major": 2,
       "version_minor": 0,
       "model_id": "3afe10349d444880af44dd2a6edb8088"
      }
     },
     "metadata": {}
    },
    {
     "output_type": "display_data",
     "data": {
      "text/plain": [
       "config.json:   0%|          | 0.00/1.39k [00:00<?, ?B/s]"
      ],
      "application/vnd.jupyter.widget-view+json": {
       "version_major": 2,
       "version_minor": 0,
       "model_id": "039fad0b5a2640d7a13df4d1cd56441c"
      }
     },
     "metadata": {}
    },
    {
     "output_type": "stream",
     "name": "stderr",
     "text": [
      "/usr/local/lib/python3.10/dist-packages/transformers/models/marian/tokenization_marian.py:197: UserWarning: Recommended: pip install sacremoses.\n",
      "  warnings.warn(\"Recommended: pip install sacremoses.\")\n"
     ]
    },
    {
     "output_type": "display_data",
     "data": {
      "text/plain": [
       "pytorch_model.bin:   0%|          | 0.00/297M [00:00<?, ?B/s]"
      ],
      "application/vnd.jupyter.widget-view+json": {
       "version_major": 2,
       "version_minor": 0,
       "model_id": "d308f3693f1a4455a7b8d0d12699d393"
      }
     },
     "metadata": {}
    },
    {
     "output_type": "display_data",
     "data": {
      "text/plain": [
       "generation_config.json:   0%|          | 0.00/293 [00:00<?, ?B/s]"
      ],
      "application/vnd.jupyter.widget-view+json": {
       "version_major": 2,
       "version_minor": 0,
       "model_id": "b6f15c82232c4ae5a899cb8dee5a43c9"
      }
     },
     "metadata": {}
    },
    {
     "output_type": "stream",
     "name": "stdout",
     "text": [
      "CPU times: user 3.94 s, sys: 990 ms, total: 4.93 s\n",
      "Wall time: 12.1 s\n"
     ]
    }
   ]
  },
  {
   "cell_type": "code",
   "source": [
    "df_uk_sm['text_translated'] = df_ru_sm['text'].apply(lambda x: tokenizer.decode(model.generate(**tokenizer(x, return_tensors=\"pt\", truncation=True))[0], skip_special_tokens=True))"
   ],
   "metadata": {
    "id": "RtQv4Ud79raJ"
   },
   "execution_count": null,
   "outputs": []
  },
  {
   "cell_type": "markdown",
   "source": [
    "##### Clean new data"
   ],
   "metadata": {
    "id": "6TtGw2x4NuBS"
   }
  },
  {
   "cell_type": "code",
   "source": [
    "df_uk_sm.head(5)"
   ],
   "metadata": {
    "colab": {
     "base_uri": "https://localhost:8080/",
     "height": 293
    },
    "id": "OCv34GlMmugQ",
    "executionInfo": {
     "status": "ok",
     "timestamp": 1701096593803,
     "user_tz": -120,
     "elapsed": 324,
     "user": {
      "displayName": "Nataliia Volkova",
      "userId": "01298915722325512053"
     }
    },
    "outputId": "e7386607-3d26-4466-c4aa-d518518e5f2d"
   },
   "execution_count": 168,
   "outputs": [
    {
     "output_type": "execute_result",
     "data": {
      "text/plain": [
       "   complains_id                                    text_translated  \\\n",
       "0       3436400  Що жалоба з приводу того, що в прикріпленому л...   \n",
       "1       3060925  Було навернення Н-5960(убір сміття). Було пров...   \n",
       "2       2896174  Доброго дня, будь ласка, наведіть порядок біля...   \n",
       "3       2840264  Виводити велике сміття з під будинку градинськ...   \n",
       "4       3168784  Відсилаючи повідомлення від 20.02.2015 з проха...   \n",
       "\n",
       "                                            category language  \n",
       "0  Вивезення--утилізація-твердих-та-негабаритних-...       uk  \n",
       "1  Вивезення--утилізація-твердих-та-негабаритних-...       uk  \n",
       "2  Вивезення--утилізація-твердих-та-негабаритних-...       uk  \n",
       "3  Вивезення--утилізація-твердих-та-негабаритних-...       uk  \n",
       "4  Вивезення--утилізація-твердих-та-негабаритних-...       uk  "
      ],
      "text/html": [
       "\n",
       "  <div id=\"df-b9f3027f-dc3c-44cd-863f-26e2ed1c01cb\" class=\"colab-df-container\">\n",
       "    <div>\n",
       "<style scoped>\n",
       "    .dataframe tbody tr th:only-of-type {\n",
       "        vertical-align: middle;\n",
       "    }\n",
       "\n",
       "    .dataframe tbody tr th {\n",
       "        vertical-align: top;\n",
       "    }\n",
       "\n",
       "    .dataframe thead th {\n",
       "        text-align: right;\n",
       "    }\n",
       "</style>\n",
       "<table border=\"1\" class=\"dataframe\">\n",
       "  <thead>\n",
       "    <tr style=\"text-align: right;\">\n",
       "      <th></th>\n",
       "      <th>complains_id</th>\n",
       "      <th>text_translated</th>\n",
       "      <th>category</th>\n",
       "      <th>language</th>\n",
       "    </tr>\n",
       "  </thead>\n",
       "  <tbody>\n",
       "    <tr>\n",
       "      <th>0</th>\n",
       "      <td>3436400</td>\n",
       "      <td>Що жалоба з приводу того, що в прикріпленому л...</td>\n",
       "      <td>Вивезення--утилізація-твердих-та-негабаритних-...</td>\n",
       "      <td>uk</td>\n",
       "    </tr>\n",
       "    <tr>\n",
       "      <th>1</th>\n",
       "      <td>3060925</td>\n",
       "      <td>Було навернення Н-5960(убір сміття). Було пров...</td>\n",
       "      <td>Вивезення--утилізація-твердих-та-негабаритних-...</td>\n",
       "      <td>uk</td>\n",
       "    </tr>\n",
       "    <tr>\n",
       "      <th>2</th>\n",
       "      <td>2896174</td>\n",
       "      <td>Доброго дня, будь ласка, наведіть порядок біля...</td>\n",
       "      <td>Вивезення--утилізація-твердих-та-негабаритних-...</td>\n",
       "      <td>uk</td>\n",
       "    </tr>\n",
       "    <tr>\n",
       "      <th>3</th>\n",
       "      <td>2840264</td>\n",
       "      <td>Виводити велике сміття з під будинку градинськ...</td>\n",
       "      <td>Вивезення--утилізація-твердих-та-негабаритних-...</td>\n",
       "      <td>uk</td>\n",
       "    </tr>\n",
       "    <tr>\n",
       "      <th>4</th>\n",
       "      <td>3168784</td>\n",
       "      <td>Відсилаючи повідомлення від 20.02.2015 з проха...</td>\n",
       "      <td>Вивезення--утилізація-твердих-та-негабаритних-...</td>\n",
       "      <td>uk</td>\n",
       "    </tr>\n",
       "  </tbody>\n",
       "</table>\n",
       "</div>\n",
       "    <div class=\"colab-df-buttons\">\n",
       "\n",
       "  <div class=\"colab-df-container\">\n",
       "    <button class=\"colab-df-convert\" onclick=\"convertToInteractive('df-b9f3027f-dc3c-44cd-863f-26e2ed1c01cb')\"\n",
       "            title=\"Convert this dataframe to an interactive table.\"\n",
       "            style=\"display:none;\">\n",
       "\n",
       "  <svg xmlns=\"http://www.w3.org/2000/svg\" height=\"24px\" viewBox=\"0 -960 960 960\">\n",
       "    <path d=\"M120-120v-720h720v720H120Zm60-500h600v-160H180v160Zm220 220h160v-160H400v160Zm0 220h160v-160H400v160ZM180-400h160v-160H180v160Zm440 0h160v-160H620v160ZM180-180h160v-160H180v160Zm440 0h160v-160H620v160Z\"/>\n",
       "  </svg>\n",
       "    </button>\n",
       "\n",
       "  <style>\n",
       "    .colab-df-container {\n",
       "      display:flex;\n",
       "      gap: 12px;\n",
       "    }\n",
       "\n",
       "    .colab-df-convert {\n",
       "      background-color: #E8F0FE;\n",
       "      border: none;\n",
       "      border-radius: 50%;\n",
       "      cursor: pointer;\n",
       "      display: none;\n",
       "      fill: #1967D2;\n",
       "      height: 32px;\n",
       "      padding: 0 0 0 0;\n",
       "      width: 32px;\n",
       "    }\n",
       "\n",
       "    .colab-df-convert:hover {\n",
       "      background-color: #E2EBFA;\n",
       "      box-shadow: 0px 1px 2px rgba(60, 64, 67, 0.3), 0px 1px 3px 1px rgba(60, 64, 67, 0.15);\n",
       "      fill: #174EA6;\n",
       "    }\n",
       "\n",
       "    .colab-df-buttons div {\n",
       "      margin-bottom: 4px;\n",
       "    }\n",
       "\n",
       "    [theme=dark] .colab-df-convert {\n",
       "      background-color: #3B4455;\n",
       "      fill: #D2E3FC;\n",
       "    }\n",
       "\n",
       "    [theme=dark] .colab-df-convert:hover {\n",
       "      background-color: #434B5C;\n",
       "      box-shadow: 0px 1px 3px 1px rgba(0, 0, 0, 0.15);\n",
       "      filter: drop-shadow(0px 1px 2px rgba(0, 0, 0, 0.3));\n",
       "      fill: #FFFFFF;\n",
       "    }\n",
       "  </style>\n",
       "\n",
       "    <script>\n",
       "      const buttonEl =\n",
       "        document.querySelector('#df-b9f3027f-dc3c-44cd-863f-26e2ed1c01cb button.colab-df-convert');\n",
       "      buttonEl.style.display =\n",
       "        google.colab.kernel.accessAllowed ? 'block' : 'none';\n",
       "\n",
       "      async function convertToInteractive(key) {\n",
       "        const element = document.querySelector('#df-b9f3027f-dc3c-44cd-863f-26e2ed1c01cb');\n",
       "        const dataTable =\n",
       "          await google.colab.kernel.invokeFunction('convertToInteractive',\n",
       "                                                    [key], {});\n",
       "        if (!dataTable) return;\n",
       "\n",
       "        const docLinkHtml = 'Like what you see? Visit the ' +\n",
       "          '<a target=\"_blank\" href=https://colab.research.google.com/notebooks/data_table.ipynb>data table notebook</a>'\n",
       "          + ' to learn more about interactive tables.';\n",
       "        element.innerHTML = '';\n",
       "        dataTable['output_type'] = 'display_data';\n",
       "        await google.colab.output.renderOutput(dataTable, element);\n",
       "        const docLink = document.createElement('div');\n",
       "        docLink.innerHTML = docLinkHtml;\n",
       "        element.appendChild(docLink);\n",
       "      }\n",
       "    </script>\n",
       "  </div>\n",
       "\n",
       "\n",
       "<div id=\"df-dbd5c178-7771-48f9-9c03-118d37fc4ee1\">\n",
       "  <button class=\"colab-df-quickchart\" onclick=\"quickchart('df-dbd5c178-7771-48f9-9c03-118d37fc4ee1')\"\n",
       "            title=\"Suggest charts\"\n",
       "            style=\"display:none;\">\n",
       "\n",
       "<svg xmlns=\"http://www.w3.org/2000/svg\" height=\"24px\"viewBox=\"0 0 24 24\"\n",
       "     width=\"24px\">\n",
       "    <g>\n",
       "        <path d=\"M19 3H5c-1.1 0-2 .9-2 2v14c0 1.1.9 2 2 2h14c1.1 0 2-.9 2-2V5c0-1.1-.9-2-2-2zM9 17H7v-7h2v7zm4 0h-2V7h2v10zm4 0h-2v-4h2v4z\"/>\n",
       "    </g>\n",
       "</svg>\n",
       "  </button>\n",
       "\n",
       "<style>\n",
       "  .colab-df-quickchart {\n",
       "      --bg-color: #E8F0FE;\n",
       "      --fill-color: #1967D2;\n",
       "      --hover-bg-color: #E2EBFA;\n",
       "      --hover-fill-color: #174EA6;\n",
       "      --disabled-fill-color: #AAA;\n",
       "      --disabled-bg-color: #DDD;\n",
       "  }\n",
       "\n",
       "  [theme=dark] .colab-df-quickchart {\n",
       "      --bg-color: #3B4455;\n",
       "      --fill-color: #D2E3FC;\n",
       "      --hover-bg-color: #434B5C;\n",
       "      --hover-fill-color: #FFFFFF;\n",
       "      --disabled-bg-color: #3B4455;\n",
       "      --disabled-fill-color: #666;\n",
       "  }\n",
       "\n",
       "  .colab-df-quickchart {\n",
       "    background-color: var(--bg-color);\n",
       "    border: none;\n",
       "    border-radius: 50%;\n",
       "    cursor: pointer;\n",
       "    display: none;\n",
       "    fill: var(--fill-color);\n",
       "    height: 32px;\n",
       "    padding: 0;\n",
       "    width: 32px;\n",
       "  }\n",
       "\n",
       "  .colab-df-quickchart:hover {\n",
       "    background-color: var(--hover-bg-color);\n",
       "    box-shadow: 0 1px 2px rgba(60, 64, 67, 0.3), 0 1px 3px 1px rgba(60, 64, 67, 0.15);\n",
       "    fill: var(--button-hover-fill-color);\n",
       "  }\n",
       "\n",
       "  .colab-df-quickchart-complete:disabled,\n",
       "  .colab-df-quickchart-complete:disabled:hover {\n",
       "    background-color: var(--disabled-bg-color);\n",
       "    fill: var(--disabled-fill-color);\n",
       "    box-shadow: none;\n",
       "  }\n",
       "\n",
       "  .colab-df-spinner {\n",
       "    border: 2px solid var(--fill-color);\n",
       "    border-color: transparent;\n",
       "    border-bottom-color: var(--fill-color);\n",
       "    animation:\n",
       "      spin 1s steps(1) infinite;\n",
       "  }\n",
       "\n",
       "  @keyframes spin {\n",
       "    0% {\n",
       "      border-color: transparent;\n",
       "      border-bottom-color: var(--fill-color);\n",
       "      border-left-color: var(--fill-color);\n",
       "    }\n",
       "    20% {\n",
       "      border-color: transparent;\n",
       "      border-left-color: var(--fill-color);\n",
       "      border-top-color: var(--fill-color);\n",
       "    }\n",
       "    30% {\n",
       "      border-color: transparent;\n",
       "      border-left-color: var(--fill-color);\n",
       "      border-top-color: var(--fill-color);\n",
       "      border-right-color: var(--fill-color);\n",
       "    }\n",
       "    40% {\n",
       "      border-color: transparent;\n",
       "      border-right-color: var(--fill-color);\n",
       "      border-top-color: var(--fill-color);\n",
       "    }\n",
       "    60% {\n",
       "      border-color: transparent;\n",
       "      border-right-color: var(--fill-color);\n",
       "    }\n",
       "    80% {\n",
       "      border-color: transparent;\n",
       "      border-right-color: var(--fill-color);\n",
       "      border-bottom-color: var(--fill-color);\n",
       "    }\n",
       "    90% {\n",
       "      border-color: transparent;\n",
       "      border-bottom-color: var(--fill-color);\n",
       "    }\n",
       "  }\n",
       "</style>\n",
       "\n",
       "  <script>\n",
       "    async function quickchart(key) {\n",
       "      const quickchartButtonEl =\n",
       "        document.querySelector('#' + key + ' button');\n",
       "      quickchartButtonEl.disabled = true;  // To prevent multiple clicks.\n",
       "      quickchartButtonEl.classList.add('colab-df-spinner');\n",
       "      try {\n",
       "        const charts = await google.colab.kernel.invokeFunction(\n",
       "            'suggestCharts', [key], {});\n",
       "      } catch (error) {\n",
       "        console.error('Error during call to suggestCharts:', error);\n",
       "      }\n",
       "      quickchartButtonEl.classList.remove('colab-df-spinner');\n",
       "      quickchartButtonEl.classList.add('colab-df-quickchart-complete');\n",
       "    }\n",
       "    (() => {\n",
       "      let quickchartButtonEl =\n",
       "        document.querySelector('#df-dbd5c178-7771-48f9-9c03-118d37fc4ee1 button');\n",
       "      quickchartButtonEl.style.display =\n",
       "        google.colab.kernel.accessAllowed ? 'block' : 'none';\n",
       "    })();\n",
       "  </script>\n",
       "</div>\n",
       "    </div>\n",
       "  </div>\n"
      ]
     },
     "metadata": {},
     "execution_count": 168
    }
   ]
  },
  {
   "cell_type": "code",
   "source": [
    "# Clean and lemmatize\n",
    "df_uk_sm[\"text_translated\"] = df_uk_sm[\"text_translated\"].apply(process_text)\n",
    "df_uk_sm['lemmatized_text'] = df_uk_sm['text_translated'].progress_apply(lemmatize_and_filter)"
   ],
   "metadata": {
    "id": "FO55_51w-bsE",
    "colab": {
     "base_uri": "https://localhost:8080/"
    },
    "executionInfo": {
     "status": "ok",
     "timestamp": 1701096894174,
     "user_tz": -120,
     "elapsed": 222938,
     "user": {
      "displayName": "Nataliia Volkova",
      "userId": "01298915722325512053"
     }
    },
    "outputId": "91fb017e-7aa5-489d-8cef-c78345230387"
   },
   "execution_count": 170,
   "outputs": [
    {
     "output_type": "stream",
     "name": "stderr",
     "text": [
      "100%|██████████| 9132/9132 [03:42<00:00, 41.12it/s]\n"
     ]
    }
   ]
  },
  {
   "cell_type": "code",
   "source": [
    "df_uk_sm['lemmatized_text'].head(10)"
   ],
   "metadata": {
    "colab": {
     "base_uri": "https://localhost:8080/"
    },
    "id": "kOCKTRE4EnJf",
    "executionInfo": {
     "status": "ok",
     "timestamp": 1701096894174,
     "user_tz": -120,
     "elapsed": 11,
     "user": {
      "displayName": "Nataliia Volkova",
      "userId": "01298915722325512053"
     }
    },
    "outputId": "b34aa2e6-64dc-4931-b1e6-6ff2c97659f4"
   },
   "execution_count": 171,
   "outputs": [
    {
     "output_type": "execute_result",
     "data": {
      "text/plain": [
       "0    привід прикріплений лист обіцяно влада очистит...\n",
       "1    навернення нубір сміття провести робота наверн...\n",
       "2    навести порядок будинок адреса ул озерний    п...\n",
       "3    виводити великий сміття будинок градинська   л...\n",
       "4    відсилаючи повідомлення   прибрати будівельний...\n",
       "5    добрый звертатися заява вивезення автомобільни...\n",
       "6    фотоматеріали стосуватися доступ ф підтверджув...\n",
       "7    систематично вивозити сміття твердий побутовий...\n",
       "8                    вивезти діван смітєвого контейнер\n",
       "9    пришвартований територія волгоградський лежати...\n",
       "Name: lemmatized_text, dtype: object"
      ]
     },
     "metadata": {},
     "execution_count": 171
    }
   ]
  },
  {
   "cell_type": "markdown",
   "source": [
    "We can see that there are mistakes in the translation, we can correct the mistakes in the future."
   ],
   "metadata": {
    "id": "eEJdHBt2EwvD"
   }
  },
  {
   "cell_type": "markdown",
   "source": [
    "##### Concatenate old and new datasets"
   ],
   "metadata": {
    "id": "7T-ngRRINwf9"
   }
  },
  {
   "cell_type": "code",
   "source": [
    "# Rename column for clean concatenate\n",
    "df_uk_sm = df_uk_sm.rename(columns={\"text_translated\": \"text\"})\n",
    "\n",
    "# Remove column \"category_id\"\n",
    "df_uk = df_uk.drop(\"category_id\", axis=1)"
   ],
   "metadata": {
    "id": "ZtTirxWgFk9v",
    "executionInfo": {
     "status": "ok",
     "timestamp": 1701096937699,
     "user_tz": -120,
     "elapsed": 276,
     "user": {
      "displayName": "Nataliia Volkova",
      "userId": "01298915722325512053"
     }
    }
   },
   "execution_count": 173,
   "outputs": []
  },
  {
   "cell_type": "code",
   "source": [
    "df_full = pd.concat([df_uk,df_uk_sm])\n",
    "df_full['category_id'] = df_full['category'].factorize()[0]\n",
    "df_full.head(5)"
   ],
   "metadata": {
    "id": "UaLmNTHDCfHZ",
    "colab": {
     "base_uri": "https://localhost:8080/",
     "height": 379
    },
    "executionInfo": {
     "status": "ok",
     "timestamp": 1701097307976,
     "user_tz": -120,
     "elapsed": 298,
     "user": {
      "displayName": "Nataliia Volkova",
      "userId": "01298915722325512053"
     }
    },
    "outputId": "9baa7f5d-ef93-4705-9243-a6fcea872f5e"
   },
   "execution_count": 176,
   "outputs": [
    {
     "output_type": "execute_result",
     "data": {
      "text/plain": [
       "  complains_id                                               text  \\\n",
       "0      2759352  біля сміттєзбірника накопичилася велика куча б...   \n",
       "1      2745387  напроти будинку  вул бестужева  поблизу сміттє...   \n",
       "2      3071282  утримання прибудинкової території у незадовіль...   \n",
       "4      3423381  прошу приняти міри стосовно сміття яке залишил...   \n",
       "5      3048268  просимо вас прийняти адміністративні заходи до...   \n",
       "\n",
       "                                            category language  \\\n",
       "0  Вивезення--утилізація-твердих-та-негабаритних-...       uk   \n",
       "1  Вивезення--утилізація-твердих-та-негабаритних-...       uk   \n",
       "2  Вивезення--утилізація-твердих-та-негабаритних-...       uk   \n",
       "4  Вивезення--утилізація-твердих-та-негабаритних-...       uk   \n",
       "5  Вивезення--утилізація-твердих-та-негабаритних-...       uk   \n",
       "\n",
       "                                     lemmatized_text  category_id  \n",
       "0  сміттєзбірник накопичитися великий куча будіве...            0  \n",
       "1  напроти будинок   вул бестужева   поблизу сміт...            0  \n",
       "2  утримання прибудинковий територія незадовільни...            0  \n",
       "4  приняти стосовно сміття який залишити робітник...            0  \n",
       "5  адміністративний захід мешканець будинок номер...            0  "
      ],
      "text/html": [
       "\n",
       "  <div id=\"df-88cc96a6-603b-4ee3-b602-96a1cda92358\" class=\"colab-df-container\">\n",
       "    <div>\n",
       "<style scoped>\n",
       "    .dataframe tbody tr th:only-of-type {\n",
       "        vertical-align: middle;\n",
       "    }\n",
       "\n",
       "    .dataframe tbody tr th {\n",
       "        vertical-align: top;\n",
       "    }\n",
       "\n",
       "    .dataframe thead th {\n",
       "        text-align: right;\n",
       "    }\n",
       "</style>\n",
       "<table border=\"1\" class=\"dataframe\">\n",
       "  <thead>\n",
       "    <tr style=\"text-align: right;\">\n",
       "      <th></th>\n",
       "      <th>complains_id</th>\n",
       "      <th>text</th>\n",
       "      <th>category</th>\n",
       "      <th>language</th>\n",
       "      <th>lemmatized_text</th>\n",
       "      <th>category_id</th>\n",
       "    </tr>\n",
       "  </thead>\n",
       "  <tbody>\n",
       "    <tr>\n",
       "      <th>0</th>\n",
       "      <td>2759352</td>\n",
       "      <td>біля сміттєзбірника накопичилася велика куча б...</td>\n",
       "      <td>Вивезення--утилізація-твердих-та-негабаритних-...</td>\n",
       "      <td>uk</td>\n",
       "      <td>сміттєзбірник накопичитися великий куча будіве...</td>\n",
       "      <td>0</td>\n",
       "    </tr>\n",
       "    <tr>\n",
       "      <th>1</th>\n",
       "      <td>2745387</td>\n",
       "      <td>напроти будинку  вул бестужева  поблизу сміттє...</td>\n",
       "      <td>Вивезення--утилізація-твердих-та-негабаритних-...</td>\n",
       "      <td>uk</td>\n",
       "      <td>напроти будинок   вул бестужева   поблизу сміт...</td>\n",
       "      <td>0</td>\n",
       "    </tr>\n",
       "    <tr>\n",
       "      <th>2</th>\n",
       "      <td>3071282</td>\n",
       "      <td>утримання прибудинкової території у незадовіль...</td>\n",
       "      <td>Вивезення--утилізація-твердих-та-негабаритних-...</td>\n",
       "      <td>uk</td>\n",
       "      <td>утримання прибудинковий територія незадовільни...</td>\n",
       "      <td>0</td>\n",
       "    </tr>\n",
       "    <tr>\n",
       "      <th>4</th>\n",
       "      <td>3423381</td>\n",
       "      <td>прошу приняти міри стосовно сміття яке залишил...</td>\n",
       "      <td>Вивезення--утилізація-твердих-та-негабаритних-...</td>\n",
       "      <td>uk</td>\n",
       "      <td>приняти стосовно сміття який залишити робітник...</td>\n",
       "      <td>0</td>\n",
       "    </tr>\n",
       "    <tr>\n",
       "      <th>5</th>\n",
       "      <td>3048268</td>\n",
       "      <td>просимо вас прийняти адміністративні заходи до...</td>\n",
       "      <td>Вивезення--утилізація-твердих-та-негабаритних-...</td>\n",
       "      <td>uk</td>\n",
       "      <td>адміністративний захід мешканець будинок номер...</td>\n",
       "      <td>0</td>\n",
       "    </tr>\n",
       "  </tbody>\n",
       "</table>\n",
       "</div>\n",
       "    <div class=\"colab-df-buttons\">\n",
       "\n",
       "  <div class=\"colab-df-container\">\n",
       "    <button class=\"colab-df-convert\" onclick=\"convertToInteractive('df-88cc96a6-603b-4ee3-b602-96a1cda92358')\"\n",
       "            title=\"Convert this dataframe to an interactive table.\"\n",
       "            style=\"display:none;\">\n",
       "\n",
       "  <svg xmlns=\"http://www.w3.org/2000/svg\" height=\"24px\" viewBox=\"0 -960 960 960\">\n",
       "    <path d=\"M120-120v-720h720v720H120Zm60-500h600v-160H180v160Zm220 220h160v-160H400v160Zm0 220h160v-160H400v160ZM180-400h160v-160H180v160Zm440 0h160v-160H620v160ZM180-180h160v-160H180v160Zm440 0h160v-160H620v160Z\"/>\n",
       "  </svg>\n",
       "    </button>\n",
       "\n",
       "  <style>\n",
       "    .colab-df-container {\n",
       "      display:flex;\n",
       "      gap: 12px;\n",
       "    }\n",
       "\n",
       "    .colab-df-convert {\n",
       "      background-color: #E8F0FE;\n",
       "      border: none;\n",
       "      border-radius: 50%;\n",
       "      cursor: pointer;\n",
       "      display: none;\n",
       "      fill: #1967D2;\n",
       "      height: 32px;\n",
       "      padding: 0 0 0 0;\n",
       "      width: 32px;\n",
       "    }\n",
       "\n",
       "    .colab-df-convert:hover {\n",
       "      background-color: #E2EBFA;\n",
       "      box-shadow: 0px 1px 2px rgba(60, 64, 67, 0.3), 0px 1px 3px 1px rgba(60, 64, 67, 0.15);\n",
       "      fill: #174EA6;\n",
       "    }\n",
       "\n",
       "    .colab-df-buttons div {\n",
       "      margin-bottom: 4px;\n",
       "    }\n",
       "\n",
       "    [theme=dark] .colab-df-convert {\n",
       "      background-color: #3B4455;\n",
       "      fill: #D2E3FC;\n",
       "    }\n",
       "\n",
       "    [theme=dark] .colab-df-convert:hover {\n",
       "      background-color: #434B5C;\n",
       "      box-shadow: 0px 1px 3px 1px rgba(0, 0, 0, 0.15);\n",
       "      filter: drop-shadow(0px 1px 2px rgba(0, 0, 0, 0.3));\n",
       "      fill: #FFFFFF;\n",
       "    }\n",
       "  </style>\n",
       "\n",
       "    <script>\n",
       "      const buttonEl =\n",
       "        document.querySelector('#df-88cc96a6-603b-4ee3-b602-96a1cda92358 button.colab-df-convert');\n",
       "      buttonEl.style.display =\n",
       "        google.colab.kernel.accessAllowed ? 'block' : 'none';\n",
       "\n",
       "      async function convertToInteractive(key) {\n",
       "        const element = document.querySelector('#df-88cc96a6-603b-4ee3-b602-96a1cda92358');\n",
       "        const dataTable =\n",
       "          await google.colab.kernel.invokeFunction('convertToInteractive',\n",
       "                                                    [key], {});\n",
       "        if (!dataTable) return;\n",
       "\n",
       "        const docLinkHtml = 'Like what you see? Visit the ' +\n",
       "          '<a target=\"_blank\" href=https://colab.research.google.com/notebooks/data_table.ipynb>data table notebook</a>'\n",
       "          + ' to learn more about interactive tables.';\n",
       "        element.innerHTML = '';\n",
       "        dataTable['output_type'] = 'display_data';\n",
       "        await google.colab.output.renderOutput(dataTable, element);\n",
       "        const docLink = document.createElement('div');\n",
       "        docLink.innerHTML = docLinkHtml;\n",
       "        element.appendChild(docLink);\n",
       "      }\n",
       "    </script>\n",
       "  </div>\n",
       "\n",
       "\n",
       "<div id=\"df-fb38219e-877b-4db6-8ae7-8a150a93f1d4\">\n",
       "  <button class=\"colab-df-quickchart\" onclick=\"quickchart('df-fb38219e-877b-4db6-8ae7-8a150a93f1d4')\"\n",
       "            title=\"Suggest charts\"\n",
       "            style=\"display:none;\">\n",
       "\n",
       "<svg xmlns=\"http://www.w3.org/2000/svg\" height=\"24px\"viewBox=\"0 0 24 24\"\n",
       "     width=\"24px\">\n",
       "    <g>\n",
       "        <path d=\"M19 3H5c-1.1 0-2 .9-2 2v14c0 1.1.9 2 2 2h14c1.1 0 2-.9 2-2V5c0-1.1-.9-2-2-2zM9 17H7v-7h2v7zm4 0h-2V7h2v10zm4 0h-2v-4h2v4z\"/>\n",
       "    </g>\n",
       "</svg>\n",
       "  </button>\n",
       "\n",
       "<style>\n",
       "  .colab-df-quickchart {\n",
       "      --bg-color: #E8F0FE;\n",
       "      --fill-color: #1967D2;\n",
       "      --hover-bg-color: #E2EBFA;\n",
       "      --hover-fill-color: #174EA6;\n",
       "      --disabled-fill-color: #AAA;\n",
       "      --disabled-bg-color: #DDD;\n",
       "  }\n",
       "\n",
       "  [theme=dark] .colab-df-quickchart {\n",
       "      --bg-color: #3B4455;\n",
       "      --fill-color: #D2E3FC;\n",
       "      --hover-bg-color: #434B5C;\n",
       "      --hover-fill-color: #FFFFFF;\n",
       "      --disabled-bg-color: #3B4455;\n",
       "      --disabled-fill-color: #666;\n",
       "  }\n",
       "\n",
       "  .colab-df-quickchart {\n",
       "    background-color: var(--bg-color);\n",
       "    border: none;\n",
       "    border-radius: 50%;\n",
       "    cursor: pointer;\n",
       "    display: none;\n",
       "    fill: var(--fill-color);\n",
       "    height: 32px;\n",
       "    padding: 0;\n",
       "    width: 32px;\n",
       "  }\n",
       "\n",
       "  .colab-df-quickchart:hover {\n",
       "    background-color: var(--hover-bg-color);\n",
       "    box-shadow: 0 1px 2px rgba(60, 64, 67, 0.3), 0 1px 3px 1px rgba(60, 64, 67, 0.15);\n",
       "    fill: var(--button-hover-fill-color);\n",
       "  }\n",
       "\n",
       "  .colab-df-quickchart-complete:disabled,\n",
       "  .colab-df-quickchart-complete:disabled:hover {\n",
       "    background-color: var(--disabled-bg-color);\n",
       "    fill: var(--disabled-fill-color);\n",
       "    box-shadow: none;\n",
       "  }\n",
       "\n",
       "  .colab-df-spinner {\n",
       "    border: 2px solid var(--fill-color);\n",
       "    border-color: transparent;\n",
       "    border-bottom-color: var(--fill-color);\n",
       "    animation:\n",
       "      spin 1s steps(1) infinite;\n",
       "  }\n",
       "\n",
       "  @keyframes spin {\n",
       "    0% {\n",
       "      border-color: transparent;\n",
       "      border-bottom-color: var(--fill-color);\n",
       "      border-left-color: var(--fill-color);\n",
       "    }\n",
       "    20% {\n",
       "      border-color: transparent;\n",
       "      border-left-color: var(--fill-color);\n",
       "      border-top-color: var(--fill-color);\n",
       "    }\n",
       "    30% {\n",
       "      border-color: transparent;\n",
       "      border-left-color: var(--fill-color);\n",
       "      border-top-color: var(--fill-color);\n",
       "      border-right-color: var(--fill-color);\n",
       "    }\n",
       "    40% {\n",
       "      border-color: transparent;\n",
       "      border-right-color: var(--fill-color);\n",
       "      border-top-color: var(--fill-color);\n",
       "    }\n",
       "    60% {\n",
       "      border-color: transparent;\n",
       "      border-right-color: var(--fill-color);\n",
       "    }\n",
       "    80% {\n",
       "      border-color: transparent;\n",
       "      border-right-color: var(--fill-color);\n",
       "      border-bottom-color: var(--fill-color);\n",
       "    }\n",
       "    90% {\n",
       "      border-color: transparent;\n",
       "      border-bottom-color: var(--fill-color);\n",
       "    }\n",
       "  }\n",
       "</style>\n",
       "\n",
       "  <script>\n",
       "    async function quickchart(key) {\n",
       "      const quickchartButtonEl =\n",
       "        document.querySelector('#' + key + ' button');\n",
       "      quickchartButtonEl.disabled = true;  // To prevent multiple clicks.\n",
       "      quickchartButtonEl.classList.add('colab-df-spinner');\n",
       "      try {\n",
       "        const charts = await google.colab.kernel.invokeFunction(\n",
       "            'suggestCharts', [key], {});\n",
       "      } catch (error) {\n",
       "        console.error('Error during call to suggestCharts:', error);\n",
       "      }\n",
       "      quickchartButtonEl.classList.remove('colab-df-spinner');\n",
       "      quickchartButtonEl.classList.add('colab-df-quickchart-complete');\n",
       "    }\n",
       "    (() => {\n",
       "      let quickchartButtonEl =\n",
       "        document.querySelector('#df-fb38219e-877b-4db6-8ae7-8a150a93f1d4 button');\n",
       "      quickchartButtonEl.style.display =\n",
       "        google.colab.kernel.accessAllowed ? 'block' : 'none';\n",
       "    })();\n",
       "  </script>\n",
       "</div>\n",
       "    </div>\n",
       "  </div>\n"
      ]
     },
     "metadata": {},
     "execution_count": 176
    }
   ]
  },
  {
   "cell_type": "code",
   "source": [
    "len(df_full)"
   ],
   "metadata": {
    "colab": {
     "base_uri": "https://localhost:8080/"
    },
    "id": "LhFfvCPvFbQE",
    "executionInfo": {
     "status": "ok",
     "timestamp": 1701097316301,
     "user_tz": -120,
     "elapsed": 309,
     "user": {
      "displayName": "Nataliia Volkova",
      "userId": "01298915722325512053"
     }
    },
    "outputId": "22494d0d-60a8-434a-8438-a713e0d2dd8d"
   },
   "execution_count": 177,
   "outputs": [
    {
     "output_type": "execute_result",
     "data": {
      "text/plain": [
       "64951"
      ]
     },
     "metadata": {},
     "execution_count": 177
    }
   ]
  },
  {
   "cell_type": "markdown",
   "source": [
    "#### Improve LinearSCV"
   ],
   "metadata": {
    "id": "5N0bEHyPPGMs"
   }
  },
  {
   "cell_type": "code",
   "source": [
    "# Split data\n",
    "X = df_full[\"lemmatized_text\"]\n",
    "y = df_full[\"category\"]\n",
    "X_train, X_test, y_train, y_test = train_test_split(X, y, test_size = 0.2, random_state=108)"
   ],
   "metadata": {
    "id": "Eu5N7_v3CfeR",
    "executionInfo": {
     "status": "ok",
     "timestamp": 1701097324078,
     "user_tz": -120,
     "elapsed": 518,
     "user": {
      "displayName": "Nataliia Volkova",
      "userId": "01298915722325512053"
     }
    }
   },
   "execution_count": 178,
   "outputs": []
  },
  {
   "cell_type": "code",
   "source": [
    "# TF-IDF Vectorization\n",
    "tfidf_vectorizer = TfidfVectorizer(max_features=5000)\n",
    "X_train_tfidf = tfidf_vectorizer.fit_transform(X_train)\n",
    "X_test_tfidf = tfidf_vectorizer.transform(X_test)"
   ],
   "metadata": {
    "id": "t72Se2IkIj2M",
    "executionInfo": {
     "status": "ok",
     "timestamp": 1701097335970,
     "user_tz": -120,
     "elapsed": 2540,
     "user": {
      "displayName": "Nataliia Volkova",
      "userId": "01298915722325512053"
     }
    }
   },
   "execution_count": 179,
   "outputs": []
  },
  {
   "cell_type": "code",
   "source": [
    "# Apply LinearSVC\n",
    "model = LinearSVC()\n",
    "model.fit(X_train_tfidf, y_train)\n",
    "y_pred = model.predict(X_test_tfidf)\n",
    "print('Testing accuracy %s' % accuracy_score(y_test, y_pred))"
   ],
   "metadata": {
    "colab": {
     "base_uri": "https://localhost:8080/"
    },
    "id": "BP_wtGpBIk7W",
    "executionInfo": {
     "status": "ok",
     "timestamp": 1701097357478,
     "user_tz": -120,
     "elapsed": 21511,
     "user": {
      "displayName": "Nataliia Volkova",
      "userId": "01298915722325512053"
     }
    },
    "outputId": "cb63a7b3-e448-45e2-e8c9-4a328e7d6fec"
   },
   "execution_count": 180,
   "outputs": [
    {
     "output_type": "stream",
     "name": "stdout",
     "text": [
      "Testing accuracy 0.6143483950427219\n"
     ]
    }
   ]
  },
  {
   "cell_type": "code",
   "source": [
    "print(classification_report(y_test, y_pred))"
   ],
   "metadata": {
    "colab": {
     "base_uri": "https://localhost:8080/"
    },
    "id": "jxO-VMQ8Ktyn",
    "executionInfo": {
     "status": "ok",
     "timestamp": 1701095098802,
     "user_tz": -120,
     "elapsed": 855,
     "user": {
      "displayName": "Nataliia Volkova",
      "userId": "01298915722325512053"
     }
    },
    "outputId": "4cb51bf7-2f23-4c16-e1c7-b3d60b6e2776"
   },
   "execution_count": 158,
   "outputs": [
    {
     "output_type": "stream",
     "name": "stdout",
     "text": [
      "                                                                                    precision    recall  f1-score   support\n",
      "\n",
      "                                                                       Інші-Подяки       0.36      0.29      0.32       101\n",
      "                                                Інші-технічні-недоліки-стану-ліфту       0.43      0.37      0.40       121\n",
      "               Аварійний--травмонебезпечний-стан-утримання-об-єктів-благоустрою       0.27      0.22      0.24        81\n",
      "                                            Бажаючі-отримати--Картки-киянина--КК--       0.67      1.00      0.80        10\n",
      "                               Будівництво--дооблаштування-спортивних-майданчиків       0.56      0.47      0.51        30\n",
      "                                                                   Будівництво-АЗС       0.89      0.74      0.81        23\n",
      "                                                         Будівництво-в-нічний-час       0.54      0.71      0.61        21\n",
      "                                   Будівництво-дооблаштування-дитячого-майданчику       0.61      0.74      0.67       121\n",
      "                                      Будівництво-та-реконструкція-об-єктів-освіти       0.74      0.80      0.77        25\n",
      "                                                        Взаємовідносини-з-сусідами       0.78      0.55      0.64        33\n",
      "                            Вивезення--утилізація-твердих-та-негабаритних-відходів       0.33      0.14      0.20        28\n",
      "                                 Видалення-аварійних--пошкоджених-хворобами-дерев       0.60      0.75      0.67        51\n",
      "                                  Видача-розрахункових-книжок--квитанцій--довідок       0.45      0.32      0.38        28\n",
      "                                                        Вилов-безпритульних-тварин       0.70      0.96      0.81        24\n",
      "                                              Вирізування--кронування--гілля-дерев       0.63      0.55      0.59        62\n",
      "                                                  Виток-холодної-води-на-поверхню       0.57      0.36      0.44        22\n",
      "                                                       Вологе-прибирання-приміщень       0.69      0.70      0.69        84\n",
      "                                             Встановлення-лічильників-на-опалення-       0.80      0.88      0.84        77\n",
      "                                            Встановлення-огородження-зеленої-зони       0.49      0.48      0.49       108\n",
      "                                                             Встановлення-пандусів       0.57      0.90      0.70        30\n",
      "                                                           Встановлення-світлофора       0.77      0.56      0.65        43\n",
      "                 Встановлення-сигнальних-стовпчиків--бар-єрних-огороджень-бордюрів       0.39      0.53      0.45        85\n",
      "                             Встановлення-сміттєвих-контейнерів-та-урн-для-сміття       0.71      0.66      0.69        56\n",
      "                                                  Встановлення-та-демонтаж-лавочок       0.71      0.82      0.76        33\n",
      "                                      Встановлення-та-експлуатація-дорожніх-знаків       0.68      0.76      0.72        63\n",
      "                        Встановлення-та-експлуатація-лічильників-на-водопостачання       0.75      0.82      0.78        88\n",
      "            Встановлення-та-експлуатація-пристроїв-примусового-зниження-швидкості       0.71      0.77      0.74        39\n",
      "                                           Встановлення-та-експлуатація-шлагбаумів       0.62      0.67      0.65        15\n",
      " Відновлення-благоустрою-після-вик--планових-аварійних-робіт-на-об-єктах-благоуст       0.62      0.59      0.60       251\n",
      "                                                                      Відсутнє-ХВП       0.63      0.68      0.65       116\n",
      "                                                        Відсутнє-електропостачання       0.80      0.51      0.62        55\n",
      "                   Відсутній-тиск-ХВП-до---го-поверху-включно---Київводоканал---       0.35      0.31      0.33        39\n",
      "                       Відсутній-тиск-ХВП-з----го-поверху-включно---Київенерго--       0.50      0.38      0.43        72\n",
      "                                                                   Відсутність-ГВП       0.75      0.89      0.82      1167\n",
      "                                                         Відсутність-ГВП-по-стояку       0.00      0.00      0.00        20\n",
      "                Відсутність-відповіді-від-РДА--ГУ-та-інших-структурних-підрозділів       0.36      0.26      0.30        19\n",
      "                                  Відсутність-каналізаційних--водопровідних-люків       0.57      0.46      0.51        52\n",
      "               Відсутність-каналізаційних-люків-та-решіток-на-проїжджих-частинах       0.38      0.29      0.33        41\n",
      "                                                              Відсутність-опалення       0.72      0.80      0.76       580\n",
      "                                                    Відсутність-опалення-по-стояку       0.67      0.59      0.63       194\n",
      "                   Відсутність-опори-освітлення--не-передбачено-проектом-забудови-       0.38      0.21      0.27        24\n",
      "    Відсутність-освітлення-на-опорних-стовпах-за-відсутності-несправності-лампочок       0.44      0.44      0.44        84\n",
      "           Відсутність-освітлення-у-під-їзді-за-відсутності-несправності-лампочок       0.53      0.74      0.62       221\n",
      "                                               Відсутність-решіток-зливоприймачів       0.44      0.29      0.35        24\n",
      "                                                     ГЛ--Несанкціонована-торгівля-       0.77      0.87      0.82       165\n",
      "                                 Герметизація-міжпанельних-стиків--утеплення-стін-       0.73      0.70      0.71        23\n",
      "                                                           Голів-ОСББ--ЖБК--та-ін-       0.57      0.24      0.33        17\n",
      "                                   Графіті--написи-малюнки-на-об-єктах-благоустрою       0.61      0.65      0.63        17\n",
      "                 Демонтаж-окремо-розташованих-пунктів-прийому-вторинної-сировини       0.73      0.89      0.80         9\n",
      "                                      Демонтаж-рекламних-вивісок-з-опорних-стовпів       0.73      0.73      0.73        41\n",
      "                                         Демонтаж-рекламних-конструкцій-і-вивісок       0.56      0.54      0.55        99\n",
      "          Демонтаж-інших-об-єктів--що-входять-до-переліку-малих-архітектурних-форм       0.54      0.33      0.41       111\n",
      "                        Евакуація-безгосподарських--залишених-транспортних-засобів       0.71      0.69      0.70        29\n",
      "                                          Забруднення-повітря-від-невідомих-джерел       0.65      0.68      0.67        25\n",
      "                                            Завезення-піску-на-дитячий-майданчик       0.63      0.71      0.67        17\n",
      "                                          Заміна-та-експлуатація-поштових-скриньок       0.77      0.94      0.85        35\n",
      "                      Зберігання-транспортних-засобів--порушення-правил-паркування       0.25      0.17      0.20        29\n",
      "                                                Зменшення-інтервалу-руху-автобусів       0.78      0.82      0.80        17\n",
      "                                   Знищення-омели--амброзії-та-рослин---паразитів       0.98      0.98      0.98        45\n",
      "               Квитанція-на--сплату-житлово-комунальних-послуг--зовнішній-вигляд-       0.28      0.20      0.23        25\n",
      "                                                                 Коливання-напруги       0.74      0.74      0.74        39\n",
      "                                              Контроль-за-станом-рекламних-засобів       0.48      0.48      0.48        60\n",
      "                                Культура-обслуговування-пасажирів-маршрутних-таксі       0.83      0.83      0.83        12\n",
      "                                    Куріння-тютюнових-виробів-у-заборонених-місцях       0.69      0.85      0.76        26\n",
      "                     Миття-вікон--вітрин--вітражів--дзеркальних-поверхонь--дверей       0.64      0.68      0.66        50\n",
      "                                                     Нанесення-дорожньої-розмітки       0.74      0.68      0.71        73\n",
      "                                                                   Не-працює-бювет       0.98      0.88      0.93        59\n",
      "                                                        Не-працює-вантажний--ліфт       0.75      0.78      0.76       107\n",
      "                                                      Не-працює-пасажирський-ліфт       0.68      0.82      0.74       222\n",
      "                                                             Недостатній-тиск-ГВП       0.48      0.26      0.34        57\n",
      "                                    Незадовільна-освітленість-в-приміщеннях-ліфтів       0.74      0.67      0.70        21\n",
      "                                        Незадовільна-робота-рушникосушарок-від-ГВП       0.55      0.53      0.54        51\n",
      "                                                      Незадовільна-температура-ГВП       0.67      0.62      0.64       228\n",
      "                                                 Незадовільна-температура-опалення       0.56      0.64      0.60       100\n",
      "                 Незадовільне-обслуговування-в-амбулаторно-поліклінічних-установах       0.86      0.82      0.84        22\n",
      "                Незадовільне-розташування-сміттєвих-контейнерів-та-урн-для-сміття       0.58      0.69      0.63        65\n",
      "                      Незадовільний-вивіз-сміття-з-контейнерів-та-урн-для-сміття       0.65      0.68      0.66        62\n",
      "                                             Незадовільний-санітарний-стан-ліфту       0.72      0.68      0.70        31\n",
      "                                   Незадовільний-стан-кнопок-виклику-наказу-ліфту       0.52      0.50      0.51        24\n",
      "                                          Незадовільний-стан-опори-для-освітлення       0.54      0.39      0.46        33\n",
      "                        Незадовільний-стан-сміттєвих-контейнерів--урн-для-сміття       0.47      0.33      0.39        24\n",
      "     Незручності-від-вивозу-сміття-з-контейнерів-та-урн-для-сміття-у-нічні-години       0.50      0.59      0.54        22\n",
      "                                    Незручності-від-промислових-та-побутових-шумів       0.37      0.26      0.30        27\n",
      "                   Незручності-від-розташування-холодильників--лотків-біля-кіосків       0.50      0.43      0.46        14\n",
      "  Незручності-для-проживання-мешканців-від-роботи-закладів-торгівлі-та-ресторанног       0.61      0.49      0.54        81\n",
      "                                             Несправність-системи-диспетчеризації       0.80      0.67      0.73        30\n",
      "                                                                      Неякісне-ХВП       0.60      0.68      0.63        37\n",
      "                                       Облаштування-наземного-пішохідного-переходу       0.52      0.48      0.50        29\n",
      "                            Облаштування-прилеглої-території-навчальних-закладів       0.47      0.29      0.36        24\n",
      "                                         Обслуговування-димовентиляційних-каналів       0.64      0.58      0.61        12\n",
      "                       Обслуговування-та-технічний-стан-каналізаційних-колодязів       0.31      0.28      0.29        40\n",
      "                                      Оголені-кабелі-у-приміщенні-та-на-території       0.45      0.58      0.51        24\n",
      "                                                     Опалення-на-сходових-клітинах       0.88      0.47      0.61        32\n",
      "                                   Організація-та-проведення-продовольчих-ярмарків       0.95      0.81      0.88        26\n",
      "                                      Освітлення-в-приміщенні-й-при-вході-в-нього       0.44      0.30      0.35       135\n",
      "                    Освітлення-магістралей--проїжджих-частин--та-вулиць-м--Києва       0.39      0.28      0.33        47\n",
      "                                                    Освітлення-підземних-переходів       0.90      0.61      0.73        31\n",
      "                        Паркування-авто-на-зеленій-зоні-прибудинкової-території       0.12      0.08      0.10        13\n",
      "                                      Паркування-авто-на-прибудинковій-території       0.47      0.25      0.33        28\n",
      "                                  Паркування-авто-у-місцях-загального-користування       0.48      0.40      0.43        63\n",
      "                      Паркування-на-зеленій-зоні-у-місцях-загального-користування       0.56      0.25      0.34        20\n",
      "                                                        Перебої-електропостачання       0.52      0.52      0.52        42\n",
      "                         Перебудова-квартир--балконів--дверей--горищ-та-підвалів-       0.50      0.26      0.34        19\n",
      "     Перевірка-дозвільної-документації--демонтаж-воріт--огорожі--паркану--забору       0.45      0.49      0.47        39\n",
      "                     Перевірка-дозвільної-документації--демонтаж-кіосків--ларків       0.74      0.87      0.80       375\n",
      "Перевірка-дозвільної-документації--демонтаж-літніх-майданчиків-кафе--ресторанів       0.80      0.87      0.83        52\n",
      "         Перевірка-дозвільної-документації--демонтаж-окремо-розташованих-гаражів       0.80      0.53      0.64        15\n",
      "    Перевірка-дозвільної-документації--демонтаж-торгових-палаток--пивних-наметів       0.41      0.29      0.34        31\n",
      "                                               Перевірка-законності-знищення-дерев       0.60      0.52      0.56        23\n",
      "                       Перевірка-наявності-дозволів-на-виконання-будівельних-робіт       0.63      0.69      0.66       147\n",
      "                         Перерахунок--нарахування-плати-та-боргу-за-газопостачання       0.67      0.70      0.68        23\n",
      "                                              Перерахунок-плати-за-відсутність-ГВП       0.40      0.23      0.29        44\n",
      "                                         Перерахунок-плати-за-відсутність-опалення       0.41      0.23      0.29        40\n",
      "                                 Перерахунок-плати-за-незадовільну-температуру-ГВП       0.38      0.15      0.21        34\n",
      "          Перерахунок-та-нарахування-плати-за-інші-види-житлово-комунальних-послуг       0.53      0.56      0.54       207\n",
      "                             Питання--що-виникають-до-початку-опалювального-сезону       0.14      0.04      0.06        26\n",
      "                                        Питання--що-стосуються-домофонної-системи       0.60      0.68      0.64        22\n",
      "                            Питання--що-стосуються-завершення-опалювального-сезону       0.81      0.74      0.77        23\n",
      "                                Питання-нарахування-плати-за-ЦО--розрахунки-за-ЦО-       0.45      0.23      0.31        39\n",
      "                                             Питання-освітлення-на-опорних-стовпах       0.42      0.38      0.40        84\n",
      "                                                             Подяки-двірникам-ЖЕКу       0.74      0.50      0.60        28\n",
      "                                                   Подяки-загалом-працівникам-ЖЕКу       0.33      0.29      0.31        49\n",
      "                    Покинуті-будівлі--споруди--будівельні-матеріали-і-конструкції       0.57      0.29      0.39        41\n",
      "                              Полив-клумб-і-газонів--дерев--кущів--зелених-газонів       0.79      0.58      0.67        26\n",
      "                                                  Порив-труб-у-квартирі-чи-будинку       0.45      0.35      0.39        49\n",
      "                                               Порив-труб-у-підвальному-приміщенні       0.55      0.65      0.60        95\n",
      "                     Порушення-встановлених-законодавством-вимог-пожежної-безпеки       0.62      0.62      0.62         8\n",
      "    Порушення-правил-виконання--ор-ції--будівельних-робіт-на-об-єктах-благоустрою       0.47      0.23      0.31        40\n",
      "                                                  Порушення-правил-дорожнього-руху       0.62      0.25      0.36        20\n",
      "                                               Порушення-правил-тиші--після-------       0.64      0.52      0.57        27\n",
      "                                    Правила-торговельного-обслуговування-населення       0.65      0.38      0.48        34\n",
      "                                            Претензії-та-зауваження-до-Начальника       0.14      0.12      0.12        26\n",
      "           Претензії-та-зауваження-до-Обслуговуючого-персоналу--двірники-й-т-п--       0.24      0.15      0.19        60\n",
      "                          Прибирання-дерев--гілок--листя-з-закріпленої-території       0.43      0.50      0.46        30\n",
      "   Прибирання-льодяного-покрову-на-прибудинковій-території--вулицях-та-тротуарах       0.71      0.71      0.71        24\n",
      "                                                              Прибирання-приміщень       0.60      0.56      0.58       131\n",
      "               Прибирання-снігу-на-прибудинковій-території--вулицях-та-тротуарах       0.67      0.82      0.74        17\n",
      "                                         Прибирання-та-санітарний-стан-територій       0.61      0.68      0.64       342\n",
      "                        Прийняття-в-експлуатацію-закінчених-будівництвом-об-єктів       1.00      0.50      0.67        12\n",
      "                                                     Про-розгляд-звернень-громадян       0.44      0.43      0.43       181\n",
      "                                                           Проведення-дезинсекції       0.87      0.71      0.78        28\n",
      "                                                           Проведення-дератизації       0.70      0.78      0.74        27\n",
      "                         Проведення-капітального-ремонту-у-будинку--реконструкція-       0.22      0.09      0.12        46\n",
      "                                       Проведення-косметичного-ремонту-у-під-їзді       0.25      0.06      0.10        17\n",
      "                                             Проведення-модернізації-заміни-ліфту       0.41      0.35      0.38        55\n",
      " Пропозиції--зауваження--щодо-роботи-web-сторінки-КБУ--Контактний-центр-м-Києва-       0.30      0.14      0.19        21\n",
      "        Пропозиції-та-запитання-щодо-удосконалення-роботи-громадського-транспорту       0.52      0.50      0.51        26\n",
      "                                                    Раціоналізаторські-пропозиції       0.22      0.09      0.12        23\n",
      "                               Ремонт--реконструкція-приміщень-навчальних-закладів       0.52      0.52      0.52        27\n",
      "                                     Ремонт-або-демонтаж-огородження-зеленої-зони       0.48      0.55      0.51        38\n",
      "                                                                      Ремонт-дахів       0.74      0.86      0.80       120\n",
      "                         Ремонт-демонтаж-фарбування-елементів-дитячого-майданчику       0.39      0.23      0.29        47\n",
      "                                                                 Ремонт-під-їзду-       0.58      0.66      0.62       202\n",
      "                                                  Ремонт-та-заміна-вхідних-дверей       0.62      0.61      0.62        33\n",
      "                                                  Ремонт-та-заміна-електроприладів       0.47      0.38      0.42        47\n",
      "                                         Ремонт-та-обслуговування-водостічних-труб       0.64      0.58      0.61        12\n",
      "                                         Ремонт-та-обслуговування-зливневих-стоків       0.61      0.63      0.62        92\n",
      "                            Ремонт-та-обслуговування-конструкцій-фризу--козирок--       0.57      0.38      0.46        21\n",
      "                                                   Ремонт-та-обслуговування-ґанків       0.50      0.42      0.46        26\n",
      "                                                     Ремонт-теплотрас--підключення       0.43      0.24      0.31        41\n",
      "                                                             Ремонт-фасаду-будинку       0.43      0.48      0.45        25\n",
      "            Ремонт-і-обслуговування-сміттєпроводів-та-сміттєзбірників-в-приміщенні       0.79      0.72      0.76        43\n",
      "                                                                 Робота-світлофора       0.78      0.90      0.84        89\n",
      "                                                    Робота-циркуляційної-системи       0.51      0.50      0.51       183\n",
      "                                              Розміщення-паркувальних-майданчиків       0.55      0.48      0.51        46\n",
      "                                  Розрахунки--нарахування-та-перерахунок-субсидій       0.76      0.87      0.81        15\n",
      "                                                       Садіння-нових-дерев-і-кущів       0.57      0.69      0.62        35\n",
      "                                                Санітарний-стан-проїжджих-частин       0.50      0.50      0.50        12\n",
      "                                     Скління-та-ремонт-вікон-на-сходових-клітинах-       0.60      0.71      0.65        59\n",
      "                                                                  Скошування-трави       0.45      0.42      0.43        12\n",
      "                                  Спалювання-сміття--листя--гілок--відходів--тощо-       0.71      0.67      0.69        33\n",
      "                           Стан-зливосточних-систем-проїжджих-частин-та-тротуарів       0.40      0.10      0.15        21\n",
      "                                                           Стихійне-сміттєзвалище       0.62      0.56      0.59        82\n",
      "  Технічне-обслуговування-систем-тепло---водопостачання-та-водовідведення-і-зливов       0.37      0.36      0.36       160\n",
      "                                           Технічний-стан-мостів-та-шляхопроводів       0.65      0.44      0.52        25\n",
      "                             Технічний-стан-проїжджих-частин-вулиць-та-тротуарів       0.50      0.49      0.50       255\n",
      "                                    Технічний-стан-підземних-пішохідних-переходів       0.62      0.71      0.67        49\n",
      "                     Технічний-стан-пішохідниїх-доріжок--сходів-з-бетону--гравію       0.27      0.27      0.27        26\n",
      "                                        Удосконалення-організації-дорожнього-руху       0.35      0.32      0.33        59\n",
      "                                Укладання-договорів-з-обслуговуючими-організаціями       0.42      0.50      0.45        20\n",
      "                                          Укладання-та-ремонт-асфальтного-покриття       0.65      0.78      0.71       687\n",
      "                                 Укладання-та-ремонт-тротуарної-плитки--брущатки-       0.48      0.50      0.49        56\n",
      "                                    Укладання-та-технічний-стан-бордюрного-каменю       0.27      0.50      0.35         6\n",
      "     Утримання-номерних-знаків-і-табличок-з-назвами-вулиць-на-будинках--і-спорудах       0.75      0.53      0.62        17\n",
      "                                      Утримання-парків-та-лісопарків-у-місті-Києві       0.45      0.50      0.48        48\n",
      "                                 Утримання-підвалів--колясочних-технічних-поверхів       0.49      0.52      0.50       104\n",
      "                                        Утримання-та-облаштування-клумб-та-газонів       0.54      0.52      0.53        62\n",
      "                         Утримання-інформаційних-дошок-та--розклеювання-оголошень       0.60      0.41      0.49        22\n",
      "\n",
      "                                                                          accuracy                           0.61     12991\n",
      "                                                                         macro avg       0.57      0.53      0.54     12991\n",
      "                                                                      weighted avg       0.60      0.61      0.60     12991\n"
     ]
    }
   ]
  },
  {
   "cell_type": "markdown",
   "source": [
    "The addition of new data slightly reduced the weighted F1 accuracy from 63% to 60%, but increased the macro avg F1 by 1% and now stands at 54%. Only one category is not defined at all - “Відсутність-ГВП-по-стояку”, because it has 20 complaints.\n",
    "\n",
    "The reasons why the accuracy has not changed much may be that:\n",
    "- the Russian dataset also does not have much data for categories that are poorly defined;\n",
    "- categories can be very similar.\n",
    "\n",
    "What can be improved to achieve a better result:\n",
    "- Correct errors\n",
    "- Create meta groups, which will include a certain number of groups that share words or activities. Calculate the accuracy of meta groups and subgroups in each meta group."
   ],
   "metadata": {
    "id": "4PaxMObwLj8X"
   }
  }
 ]
}
